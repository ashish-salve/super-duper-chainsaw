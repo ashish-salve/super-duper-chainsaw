{
 "cells": [
  {
   "cell_type": "markdown",
   "metadata": {},
   "source": [
    "# Data Features:"
   ]
  },
  {
   "cell_type": "markdown",
   "metadata": {},
   "source": [
    "Age ==>> Age in years\n",
    "\n",
    "Age is fractional if less than 1. If the age is estimated, is it in the form of xx.5\n",
    "\n",
    "Sibsp ==>> NO of siblings / spouses aboard the Titanic\n",
    "The dataset defines family relations in this way...\n",
    "\n",
    "a. Sibling = brother, sister, stepbrother, stepsister\n",
    "\n",
    "b. Spouse = husband, wife (mistresses and fiancés were ignored)\n",
    "\n",
    "Parch ==>> The dataset defines family relations in this way...\n",
    "\n",
    "a. Parent = mother, father\n",
    "\n",
    "b. Child = daughter, son, stepdaughter, stepson\n",
    "\n",
    "c. Some children travelled only with a nanny, therefore parch=0 for them.\n",
    "\n",
    "Pclass ==>> A proxy for socio-economic status (SES)\n",
    "\n",
    "1st = Upper\n",
    "2nd = Middle\n",
    "3rd = Lower\n",
    "Embarked ==>> Port of Embarkation\n",
    "C = Cherbourg, Q = Queenstown, S = Southampton\n",
    "\n",
    "Name ==>> Passenger Name\n",
    "\n",
    "Sex ==>> Sex\n",
    "Ticket ==>> Ticket number\n",
    "Cabin ==>> Cabin number\n",
    "Fare ==>> Indicating the fare paid\n",
    "PassengerID ==>> Passenger ID\n",
    "Survival ==>> Survival 0 = No, 1 = Yes"
   ]
  },
  {
   "cell_type": "markdown",
   "metadata": {},
   "source": [
    "# Importing the Libraries"
   ]
  },
  {
   "cell_type": "code",
   "execution_count": 1,
   "metadata": {},
   "outputs": [],
   "source": [
    "# Data analysis and wrangling\n",
    "import pandas as pd\n",
    "import numpy as np\n",
    "\n",
    "# Visualizations\n",
    "import matplotlib.pyplot as plt\n",
    "import seaborn as sn\n",
    "\n",
    "import warnings\n",
    "warnings.filterwarnings('ignore')"
   ]
  },
  {
   "cell_type": "code",
   "execution_count": 2,
   "metadata": {},
   "outputs": [],
   "source": [
    "#pd.set_option('display.max_rows',None)"
   ]
  },
  {
   "cell_type": "markdown",
   "metadata": {},
   "source": [
    "# Loading of the data"
   ]
  },
  {
   "cell_type": "code",
   "execution_count": 3,
   "metadata": {},
   "outputs": [
    {
     "data": {
      "text/html": [
       "<div>\n",
       "<style scoped>\n",
       "    .dataframe tbody tr th:only-of-type {\n",
       "        vertical-align: middle;\n",
       "    }\n",
       "\n",
       "    .dataframe tbody tr th {\n",
       "        vertical-align: top;\n",
       "    }\n",
       "\n",
       "    .dataframe thead th {\n",
       "        text-align: right;\n",
       "    }\n",
       "</style>\n",
       "<table border=\"1\" class=\"dataframe\">\n",
       "  <thead>\n",
       "    <tr style=\"text-align: right;\">\n",
       "      <th></th>\n",
       "      <th>PassengerId</th>\n",
       "      <th>Survived</th>\n",
       "      <th>Pclass</th>\n",
       "      <th>Name</th>\n",
       "      <th>Sex</th>\n",
       "      <th>Age</th>\n",
       "      <th>SibSp</th>\n",
       "      <th>Parch</th>\n",
       "      <th>Ticket</th>\n",
       "      <th>Fare</th>\n",
       "      <th>Cabin</th>\n",
       "      <th>Embarked</th>\n",
       "    </tr>\n",
       "  </thead>\n",
       "  <tbody>\n",
       "    <tr>\n",
       "      <th>0</th>\n",
       "      <td>1</td>\n",
       "      <td>0</td>\n",
       "      <td>3</td>\n",
       "      <td>Braund, Mr. Owen Harris</td>\n",
       "      <td>male</td>\n",
       "      <td>22.0</td>\n",
       "      <td>1</td>\n",
       "      <td>0</td>\n",
       "      <td>A/5 21171</td>\n",
       "      <td>7.2500</td>\n",
       "      <td>NaN</td>\n",
       "      <td>S</td>\n",
       "    </tr>\n",
       "    <tr>\n",
       "      <th>1</th>\n",
       "      <td>2</td>\n",
       "      <td>1</td>\n",
       "      <td>1</td>\n",
       "      <td>Cumings, Mrs. John Bradley (Florence Briggs Th...</td>\n",
       "      <td>female</td>\n",
       "      <td>38.0</td>\n",
       "      <td>1</td>\n",
       "      <td>0</td>\n",
       "      <td>PC 17599</td>\n",
       "      <td>71.2833</td>\n",
       "      <td>C85</td>\n",
       "      <td>C</td>\n",
       "    </tr>\n",
       "    <tr>\n",
       "      <th>2</th>\n",
       "      <td>3</td>\n",
       "      <td>1</td>\n",
       "      <td>3</td>\n",
       "      <td>Heikkinen, Miss. Laina</td>\n",
       "      <td>female</td>\n",
       "      <td>26.0</td>\n",
       "      <td>0</td>\n",
       "      <td>0</td>\n",
       "      <td>STON/O2. 3101282</td>\n",
       "      <td>7.9250</td>\n",
       "      <td>NaN</td>\n",
       "      <td>S</td>\n",
       "    </tr>\n",
       "    <tr>\n",
       "      <th>3</th>\n",
       "      <td>4</td>\n",
       "      <td>1</td>\n",
       "      <td>1</td>\n",
       "      <td>Futrelle, Mrs. Jacques Heath (Lily May Peel)</td>\n",
       "      <td>female</td>\n",
       "      <td>35.0</td>\n",
       "      <td>1</td>\n",
       "      <td>0</td>\n",
       "      <td>113803</td>\n",
       "      <td>53.1000</td>\n",
       "      <td>C123</td>\n",
       "      <td>S</td>\n",
       "    </tr>\n",
       "    <tr>\n",
       "      <th>4</th>\n",
       "      <td>5</td>\n",
       "      <td>0</td>\n",
       "      <td>3</td>\n",
       "      <td>Allen, Mr. William Henry</td>\n",
       "      <td>male</td>\n",
       "      <td>35.0</td>\n",
       "      <td>0</td>\n",
       "      <td>0</td>\n",
       "      <td>373450</td>\n",
       "      <td>8.0500</td>\n",
       "      <td>NaN</td>\n",
       "      <td>S</td>\n",
       "    </tr>\n",
       "    <tr>\n",
       "      <th>...</th>\n",
       "      <td>...</td>\n",
       "      <td>...</td>\n",
       "      <td>...</td>\n",
       "      <td>...</td>\n",
       "      <td>...</td>\n",
       "      <td>...</td>\n",
       "      <td>...</td>\n",
       "      <td>...</td>\n",
       "      <td>...</td>\n",
       "      <td>...</td>\n",
       "      <td>...</td>\n",
       "      <td>...</td>\n",
       "    </tr>\n",
       "    <tr>\n",
       "      <th>886</th>\n",
       "      <td>887</td>\n",
       "      <td>0</td>\n",
       "      <td>2</td>\n",
       "      <td>Montvila, Rev. Juozas</td>\n",
       "      <td>male</td>\n",
       "      <td>27.0</td>\n",
       "      <td>0</td>\n",
       "      <td>0</td>\n",
       "      <td>211536</td>\n",
       "      <td>13.0000</td>\n",
       "      <td>NaN</td>\n",
       "      <td>S</td>\n",
       "    </tr>\n",
       "    <tr>\n",
       "      <th>887</th>\n",
       "      <td>888</td>\n",
       "      <td>1</td>\n",
       "      <td>1</td>\n",
       "      <td>Graham, Miss. Margaret Edith</td>\n",
       "      <td>female</td>\n",
       "      <td>19.0</td>\n",
       "      <td>0</td>\n",
       "      <td>0</td>\n",
       "      <td>112053</td>\n",
       "      <td>30.0000</td>\n",
       "      <td>B42</td>\n",
       "      <td>S</td>\n",
       "    </tr>\n",
       "    <tr>\n",
       "      <th>888</th>\n",
       "      <td>889</td>\n",
       "      <td>0</td>\n",
       "      <td>3</td>\n",
       "      <td>Johnston, Miss. Catherine Helen \"Carrie\"</td>\n",
       "      <td>female</td>\n",
       "      <td>NaN</td>\n",
       "      <td>1</td>\n",
       "      <td>2</td>\n",
       "      <td>W./C. 6607</td>\n",
       "      <td>23.4500</td>\n",
       "      <td>NaN</td>\n",
       "      <td>S</td>\n",
       "    </tr>\n",
       "    <tr>\n",
       "      <th>889</th>\n",
       "      <td>890</td>\n",
       "      <td>1</td>\n",
       "      <td>1</td>\n",
       "      <td>Behr, Mr. Karl Howell</td>\n",
       "      <td>male</td>\n",
       "      <td>26.0</td>\n",
       "      <td>0</td>\n",
       "      <td>0</td>\n",
       "      <td>111369</td>\n",
       "      <td>30.0000</td>\n",
       "      <td>C148</td>\n",
       "      <td>C</td>\n",
       "    </tr>\n",
       "    <tr>\n",
       "      <th>890</th>\n",
       "      <td>891</td>\n",
       "      <td>0</td>\n",
       "      <td>3</td>\n",
       "      <td>Dooley, Mr. Patrick</td>\n",
       "      <td>male</td>\n",
       "      <td>32.0</td>\n",
       "      <td>0</td>\n",
       "      <td>0</td>\n",
       "      <td>370376</td>\n",
       "      <td>7.7500</td>\n",
       "      <td>NaN</td>\n",
       "      <td>Q</td>\n",
       "    </tr>\n",
       "  </tbody>\n",
       "</table>\n",
       "<p>891 rows × 12 columns</p>\n",
       "</div>"
      ],
      "text/plain": [
       "     PassengerId  Survived  Pclass  \\\n",
       "0              1         0       3   \n",
       "1              2         1       1   \n",
       "2              3         1       3   \n",
       "3              4         1       1   \n",
       "4              5         0       3   \n",
       "..           ...       ...     ...   \n",
       "886          887         0       2   \n",
       "887          888         1       1   \n",
       "888          889         0       3   \n",
       "889          890         1       1   \n",
       "890          891         0       3   \n",
       "\n",
       "                                                  Name     Sex   Age  SibSp  \\\n",
       "0                              Braund, Mr. Owen Harris    male  22.0      1   \n",
       "1    Cumings, Mrs. John Bradley (Florence Briggs Th...  female  38.0      1   \n",
       "2                               Heikkinen, Miss. Laina  female  26.0      0   \n",
       "3         Futrelle, Mrs. Jacques Heath (Lily May Peel)  female  35.0      1   \n",
       "4                             Allen, Mr. William Henry    male  35.0      0   \n",
       "..                                                 ...     ...   ...    ...   \n",
       "886                              Montvila, Rev. Juozas    male  27.0      0   \n",
       "887                       Graham, Miss. Margaret Edith  female  19.0      0   \n",
       "888           Johnston, Miss. Catherine Helen \"Carrie\"  female   NaN      1   \n",
       "889                              Behr, Mr. Karl Howell    male  26.0      0   \n",
       "890                                Dooley, Mr. Patrick    male  32.0      0   \n",
       "\n",
       "     Parch            Ticket     Fare Cabin Embarked  \n",
       "0        0         A/5 21171   7.2500   NaN        S  \n",
       "1        0          PC 17599  71.2833   C85        C  \n",
       "2        0  STON/O2. 3101282   7.9250   NaN        S  \n",
       "3        0            113803  53.1000  C123        S  \n",
       "4        0            373450   8.0500   NaN        S  \n",
       "..     ...               ...      ...   ...      ...  \n",
       "886      0            211536  13.0000   NaN        S  \n",
       "887      0            112053  30.0000   B42        S  \n",
       "888      2        W./C. 6607  23.4500   NaN        S  \n",
       "889      0            111369  30.0000  C148        C  \n",
       "890      0            370376   7.7500   NaN        Q  \n",
       "\n",
       "[891 rows x 12 columns]"
      ]
     },
     "execution_count": 3,
     "metadata": {},
     "output_type": "execute_result"
    }
   ],
   "source": [
    "data1=pd.read_csv('titanic.csv')\n",
    "#data1=pd.DataFrame(data1)\n",
    "data1"
   ]
  },
  {
   "cell_type": "markdown",
   "metadata": {},
   "source": [
    "# checking the dimensionality"
   ]
  },
  {
   "cell_type": "code",
   "execution_count": 4,
   "metadata": {},
   "outputs": [
    {
     "data": {
      "text/plain": [
       "(891, 12)"
      ]
     },
     "execution_count": 4,
     "metadata": {},
     "output_type": "execute_result"
    }
   ],
   "source": [
    "data1.shape"
   ]
  },
  {
   "cell_type": "markdown",
   "metadata": {},
   "source": [
    "##### Observation:\n",
    "\n",
    "    Our dataset has 891 rows and 12 columns."
   ]
  },
  {
   "cell_type": "markdown",
   "metadata": {},
   "source": [
    "# Stats summary"
   ]
  },
  {
   "cell_type": "code",
   "execution_count": 5,
   "metadata": {},
   "outputs": [
    {
     "data": {
      "text/html": [
       "<div>\n",
       "<style scoped>\n",
       "    .dataframe tbody tr th:only-of-type {\n",
       "        vertical-align: middle;\n",
       "    }\n",
       "\n",
       "    .dataframe tbody tr th {\n",
       "        vertical-align: top;\n",
       "    }\n",
       "\n",
       "    .dataframe thead th {\n",
       "        text-align: right;\n",
       "    }\n",
       "</style>\n",
       "<table border=\"1\" class=\"dataframe\">\n",
       "  <thead>\n",
       "    <tr style=\"text-align: right;\">\n",
       "      <th></th>\n",
       "      <th>PassengerId</th>\n",
       "      <th>Survived</th>\n",
       "      <th>Pclass</th>\n",
       "      <th>Age</th>\n",
       "      <th>SibSp</th>\n",
       "      <th>Parch</th>\n",
       "      <th>Fare</th>\n",
       "    </tr>\n",
       "  </thead>\n",
       "  <tbody>\n",
       "    <tr>\n",
       "      <th>count</th>\n",
       "      <td>891.000000</td>\n",
       "      <td>891.000000</td>\n",
       "      <td>891.000000</td>\n",
       "      <td>714.000000</td>\n",
       "      <td>891.000000</td>\n",
       "      <td>891.000000</td>\n",
       "      <td>891.000000</td>\n",
       "    </tr>\n",
       "    <tr>\n",
       "      <th>mean</th>\n",
       "      <td>446.000000</td>\n",
       "      <td>0.383838</td>\n",
       "      <td>2.308642</td>\n",
       "      <td>29.699118</td>\n",
       "      <td>0.523008</td>\n",
       "      <td>0.381594</td>\n",
       "      <td>32.204208</td>\n",
       "    </tr>\n",
       "    <tr>\n",
       "      <th>std</th>\n",
       "      <td>257.353842</td>\n",
       "      <td>0.486592</td>\n",
       "      <td>0.836071</td>\n",
       "      <td>14.526497</td>\n",
       "      <td>1.102743</td>\n",
       "      <td>0.806057</td>\n",
       "      <td>49.693429</td>\n",
       "    </tr>\n",
       "    <tr>\n",
       "      <th>min</th>\n",
       "      <td>1.000000</td>\n",
       "      <td>0.000000</td>\n",
       "      <td>1.000000</td>\n",
       "      <td>0.420000</td>\n",
       "      <td>0.000000</td>\n",
       "      <td>0.000000</td>\n",
       "      <td>0.000000</td>\n",
       "    </tr>\n",
       "    <tr>\n",
       "      <th>25%</th>\n",
       "      <td>223.500000</td>\n",
       "      <td>0.000000</td>\n",
       "      <td>2.000000</td>\n",
       "      <td>20.125000</td>\n",
       "      <td>0.000000</td>\n",
       "      <td>0.000000</td>\n",
       "      <td>7.910400</td>\n",
       "    </tr>\n",
       "    <tr>\n",
       "      <th>50%</th>\n",
       "      <td>446.000000</td>\n",
       "      <td>0.000000</td>\n",
       "      <td>3.000000</td>\n",
       "      <td>28.000000</td>\n",
       "      <td>0.000000</td>\n",
       "      <td>0.000000</td>\n",
       "      <td>14.454200</td>\n",
       "    </tr>\n",
       "    <tr>\n",
       "      <th>75%</th>\n",
       "      <td>668.500000</td>\n",
       "      <td>1.000000</td>\n",
       "      <td>3.000000</td>\n",
       "      <td>38.000000</td>\n",
       "      <td>1.000000</td>\n",
       "      <td>0.000000</td>\n",
       "      <td>31.000000</td>\n",
       "    </tr>\n",
       "    <tr>\n",
       "      <th>max</th>\n",
       "      <td>891.000000</td>\n",
       "      <td>1.000000</td>\n",
       "      <td>3.000000</td>\n",
       "      <td>80.000000</td>\n",
       "      <td>8.000000</td>\n",
       "      <td>6.000000</td>\n",
       "      <td>512.329200</td>\n",
       "    </tr>\n",
       "  </tbody>\n",
       "</table>\n",
       "</div>"
      ],
      "text/plain": [
       "       PassengerId    Survived      Pclass         Age       SibSp  \\\n",
       "count   891.000000  891.000000  891.000000  714.000000  891.000000   \n",
       "mean    446.000000    0.383838    2.308642   29.699118    0.523008   \n",
       "std     257.353842    0.486592    0.836071   14.526497    1.102743   \n",
       "min       1.000000    0.000000    1.000000    0.420000    0.000000   \n",
       "25%     223.500000    0.000000    2.000000   20.125000    0.000000   \n",
       "50%     446.000000    0.000000    3.000000   28.000000    0.000000   \n",
       "75%     668.500000    1.000000    3.000000   38.000000    1.000000   \n",
       "max     891.000000    1.000000    3.000000   80.000000    8.000000   \n",
       "\n",
       "            Parch        Fare  \n",
       "count  891.000000  891.000000  \n",
       "mean     0.381594   32.204208  \n",
       "std      0.806057   49.693429  \n",
       "min      0.000000    0.000000  \n",
       "25%      0.000000    7.910400  \n",
       "50%      0.000000   14.454200  \n",
       "75%      0.000000   31.000000  \n",
       "max      6.000000  512.329200  "
      ]
     },
     "execution_count": 5,
     "metadata": {},
     "output_type": "execute_result"
    }
   ],
   "source": [
    "data1.describe()"
   ]
  },
  {
   "cell_type": "markdown",
   "metadata": {},
   "source": [
    "##### Observation:\n",
    "\n",
    "    From the count, we see that 'Age' column has missing data.\n",
    "    \n",
    "    Mean value > Median = 'Fare', i.e. the data in 'Fare' is right skewed."
   ]
  },
  {
   "cell_type": "markdown",
   "metadata": {},
   "source": [
    "# Checking null values in the dataframe"
   ]
  },
  {
   "cell_type": "code",
   "execution_count": 6,
   "metadata": {},
   "outputs": [
    {
     "name": "stdout",
     "output_type": "stream",
     "text": [
      "<class 'pandas.core.frame.DataFrame'>\n",
      "RangeIndex: 891 entries, 0 to 890\n",
      "Data columns (total 12 columns):\n",
      " #   Column       Non-Null Count  Dtype  \n",
      "---  ------       --------------  -----  \n",
      " 0   PassengerId  891 non-null    int64  \n",
      " 1   Survived     891 non-null    int64  \n",
      " 2   Pclass       891 non-null    int64  \n",
      " 3   Name         891 non-null    object \n",
      " 4   Sex          891 non-null    object \n",
      " 5   Age          714 non-null    float64\n",
      " 6   SibSp        891 non-null    int64  \n",
      " 7   Parch        891 non-null    int64  \n",
      " 8   Ticket       891 non-null    object \n",
      " 9   Fare         891 non-null    float64\n",
      " 10  Cabin        204 non-null    object \n",
      " 11  Embarked     889 non-null    object \n",
      "dtypes: float64(2), int64(5), object(5)\n",
      "memory usage: 83.7+ KB\n"
     ]
    }
   ],
   "source": [
    "data1.info()"
   ]
  },
  {
   "cell_type": "markdown",
   "metadata": {},
   "source": [
    "##### Observation:\n",
    "\n",
    "        The 'Age','Cabin' and 'Embarked' column has null values, which will be handled during univariate analysis."
   ]
  },
  {
   "cell_type": "markdown",
   "metadata": {},
   "source": [
    "# Checking the datatypes of columns:"
   ]
  },
  {
   "cell_type": "code",
   "execution_count": 7,
   "metadata": {},
   "outputs": [
    {
     "data": {
      "text/plain": [
       "PassengerId      int64\n",
       "Survived         int64\n",
       "Pclass           int64\n",
       "Name            object\n",
       "Sex             object\n",
       "Age            float64\n",
       "SibSp            int64\n",
       "Parch            int64\n",
       "Ticket          object\n",
       "Fare           float64\n",
       "Cabin           object\n",
       "Embarked        object\n",
       "dtype: object"
      ]
     },
     "execution_count": 7,
     "metadata": {},
     "output_type": "execute_result"
    }
   ],
   "source": [
    "data1.dtypes"
   ]
  },
  {
   "cell_type": "markdown",
   "metadata": {},
   "source": [
    "##### Observation:\n",
    "\n",
    "        There is a combination of datatypes present in the data : int, float and object.\n",
    "        \n",
    "        Categorical features : Survived,Sex, Embarked\n",
    "        \n",
    "        Ordinal features: Pclass\n",
    "        \n",
    "        Continuous features: Age, Fare\n",
    "        \n",
    "        Discrete features: SibSp, Parch\n",
    "        \n",
    "        The target variable in our dataset in 'Survived' and rest 11 features are independent features."
   ]
  },
  {
   "cell_type": "code",
   "execution_count": 8,
   "metadata": {},
   "outputs": [
    {
     "data": {
      "text/plain": [
       "(0, 12)"
      ]
     },
     "execution_count": 8,
     "metadata": {},
     "output_type": "execute_result"
    }
   ],
   "source": [
    "#check duplicate rows\n",
    "dup_data1=data1[data1.duplicated()]\n",
    "dup_data1.shape"
   ]
  },
  {
   "cell_type": "markdown",
   "metadata": {},
   "source": [
    "There are no duplicate rows present in the dataframe."
   ]
  },
  {
   "cell_type": "code",
   "execution_count": null,
   "metadata": {},
   "outputs": [],
   "source": []
  },
  {
   "cell_type": "markdown",
   "metadata": {},
   "source": [
    "# Univariate Analysis of features"
   ]
  },
  {
   "cell_type": "code",
   "execution_count": 9,
   "metadata": {},
   "outputs": [],
   "source": [
    "list_cols=data1.columns"
   ]
  },
  {
   "cell_type": "code",
   "execution_count": 10,
   "metadata": {},
   "outputs": [
    {
     "data": {
      "text/plain": [
       "'PassengerId'"
      ]
     },
     "execution_count": 10,
     "metadata": {},
     "output_type": "execute_result"
    }
   ],
   "source": [
    "list_cols[0]"
   ]
  },
  {
   "cell_type": "markdown",
   "metadata": {},
   "source": [
    "### 1.'PassengerId' "
   ]
  },
  {
   "cell_type": "code",
   "execution_count": 11,
   "metadata": {},
   "outputs": [
    {
     "data": {
      "text/plain": [
       "dtype('int64')"
      ]
     },
     "execution_count": 11,
     "metadata": {},
     "output_type": "execute_result"
    }
   ],
   "source": [
    "data1['PassengerId'].dtypes"
   ]
  },
  {
   "cell_type": "code",
   "execution_count": 12,
   "metadata": {},
   "outputs": [
    {
     "data": {
      "text/plain": [
       "0        1\n",
       "1        2\n",
       "2        3\n",
       "3        4\n",
       "4        5\n",
       "      ... \n",
       "886    887\n",
       "887    888\n",
       "888    889\n",
       "889    890\n",
       "890    891\n",
       "Name: PassengerId, Length: 891, dtype: int64"
      ]
     },
     "execution_count": 12,
     "metadata": {},
     "output_type": "execute_result"
    }
   ],
   "source": [
    "data1['PassengerId']"
   ]
  },
  {
   "cell_type": "markdown",
   "metadata": {},
   "source": [
    "##### Observation:\n",
    "\n",
    "        This feature has no impact on outcome variable, so it will be excluded from analysis."
   ]
  },
  {
   "cell_type": "code",
   "execution_count": 13,
   "metadata": {},
   "outputs": [
    {
     "data": {
      "text/plain": [
       "'Survived'"
      ]
     },
     "execution_count": 13,
     "metadata": {},
     "output_type": "execute_result"
    }
   ],
   "source": [
    "list_cols[1]"
   ]
  },
  {
   "cell_type": "markdown",
   "metadata": {},
   "source": [
    "### 2.'Survived'"
   ]
  },
  {
   "cell_type": "markdown",
   "metadata": {},
   "source": [
    "It is our target variable."
   ]
  },
  {
   "cell_type": "code",
   "execution_count": 14,
   "metadata": {},
   "outputs": [
    {
     "data": {
      "text/plain": [
       "dtype('int64')"
      ]
     },
     "execution_count": 14,
     "metadata": {},
     "output_type": "execute_result"
    }
   ],
   "source": [
    "data1['Survived'].dtype"
   ]
  },
  {
   "cell_type": "code",
   "execution_count": 15,
   "metadata": {},
   "outputs": [
    {
     "data": {
      "text/plain": [
       "0    549\n",
       "1    342\n",
       "Name: Survived, dtype: int64"
      ]
     },
     "execution_count": 15,
     "metadata": {},
     "output_type": "execute_result"
    }
   ],
   "source": [
    "data1['Survived'].value_counts()"
   ]
  },
  {
   "cell_type": "markdown",
   "metadata": {},
   "source": [
    "##### Observation:\n",
    "\n",
    "    62% of the people died because of the sinking of the Titanic and 38% of them survived."
   ]
  },
  {
   "cell_type": "code",
   "execution_count": 16,
   "metadata": {},
   "outputs": [
    {
     "data": {
      "image/png": "[encoded data removed]",
      "text/plain": [
       "<Figure size 432x288 with 1 Axes>"
      ]
     },
     "metadata": {
      "needs_background": "light"
     },
     "output_type": "display_data"
    }
   ],
   "source": [
    "plt.hist(x=data1['Survived'])\n",
    "plt.xlabel('Survived')\n",
    "plt.show()"
   ]
  },
  {
   "cell_type": "markdown",
   "metadata": {},
   "source": [
    "##### Observation:\n",
    "\n",
    "    'Survived' column is our target variable and we see from the data distribution of target variable that the dataset is not imbalanced."
   ]
  },
  {
   "cell_type": "code",
   "execution_count": 17,
   "metadata": {},
   "outputs": [
    {
     "data": {
      "text/plain": [
       "'Pclass'"
      ]
     },
     "execution_count": 17,
     "metadata": {},
     "output_type": "execute_result"
    }
   ],
   "source": [
    "list_cols[2]"
   ]
  },
  {
   "cell_type": "markdown",
   "metadata": {},
   "source": [
    "### 3.'Pclass'"
   ]
  },
  {
   "cell_type": "markdown",
   "metadata": {},
   "source": [
    "It is a categorical variable with 3 values: 1 Class, 2 Class, 3 Class"
   ]
  },
  {
   "cell_type": "code",
   "execution_count": 18,
   "metadata": {},
   "outputs": [
    {
     "data": {
      "text/plain": [
       "dtype('int64')"
      ]
     },
     "execution_count": 18,
     "metadata": {},
     "output_type": "execute_result"
    }
   ],
   "source": [
    "data1['Pclass'].dtype"
   ]
  },
  {
   "cell_type": "code",
   "execution_count": 19,
   "metadata": {},
   "outputs": [
    {
     "data": {
      "text/plain": [
       "3    491\n",
       "1    216\n",
       "2    184\n",
       "Name: Pclass, dtype: int64"
      ]
     },
     "execution_count": 19,
     "metadata": {},
     "output_type": "execute_result"
    }
   ],
   "source": [
    "data1['Pclass'].value_counts()"
   ]
  },
  {
   "cell_type": "markdown",
   "metadata": {},
   "source": [
    "##### Observation:\n",
    "\n",
    "    We have 3 types of passenger class, i.e. 1 , 2 and 3.\n",
    "    \n",
    "    Majority of people travelled in 3rd class."
   ]
  },
  {
   "cell_type": "code",
   "execution_count": 20,
   "metadata": {},
   "outputs": [
    {
     "data": {
      "text/plain": [
       "'Name'"
      ]
     },
     "execution_count": 20,
     "metadata": {},
     "output_type": "execute_result"
    }
   ],
   "source": [
    "list_cols[3]"
   ]
  },
  {
   "cell_type": "markdown",
   "metadata": {},
   "source": [
    "### 4.'Name'"
   ]
  },
  {
   "cell_type": "code",
   "execution_count": 21,
   "metadata": {},
   "outputs": [
    {
     "data": {
      "text/plain": [
       "dtype('O')"
      ]
     },
     "execution_count": 21,
     "metadata": {},
     "output_type": "execute_result"
    }
   ],
   "source": [
    "data1['Name'].dtype"
   ]
  },
  {
   "cell_type": "code",
   "execution_count": 22,
   "metadata": {},
   "outputs": [
    {
     "data": {
      "text/plain": [
       "Saad, Mr. Amin                           1\n",
       "Asplund, Master. Clarence Gustaf Hugo    1\n",
       "Panula, Master. Eino Viljami             1\n",
       "Osen, Mr. Olaf Elon                      1\n",
       "del Carlo, Mr. Sebastiano                1\n",
       "                                        ..\n",
       "Nicola-Yarred, Miss. Jamila              1\n",
       "Doharr, Mr. Tannous                      1\n",
       "Scanlan, Mr. James                       1\n",
       "Fortune, Miss. Mabel Helen               1\n",
       "Dean, Mr. Bertram Frank                  1\n",
       "Name: Name, Length: 891, dtype: int64"
      ]
     },
     "execution_count": 22,
     "metadata": {},
     "output_type": "execute_result"
    }
   ],
   "source": [
    "data1['Name'].value_counts()"
   ]
  },
  {
   "cell_type": "markdown",
   "metadata": {},
   "source": [
    "##### Observation:\n",
    "\n",
    "    The name values are as such of no use but we extract information from the same to generate any insights, if any."
   ]
  },
  {
   "cell_type": "code",
   "execution_count": 23,
   "metadata": {},
   "outputs": [
    {
     "data": {
      "text/plain": [
       "'Sex'"
      ]
     },
     "execution_count": 23,
     "metadata": {},
     "output_type": "execute_result"
    }
   ],
   "source": [
    "list_cols[4]"
   ]
  },
  {
   "cell_type": "markdown",
   "metadata": {},
   "source": [
    "### 5.'Sex'"
   ]
  },
  {
   "cell_type": "markdown",
   "metadata": {},
   "source": [
    "'Sex' is a categorical feature with 2 categories: Male and Female"
   ]
  },
  {
   "cell_type": "code",
   "execution_count": 24,
   "metadata": {},
   "outputs": [
    {
     "data": {
      "text/plain": [
       "dtype('O')"
      ]
     },
     "execution_count": 24,
     "metadata": {},
     "output_type": "execute_result"
    }
   ],
   "source": [
    "data1['Sex'].dtype"
   ]
  },
  {
   "cell_type": "code",
   "execution_count": null,
   "metadata": {},
   "outputs": [],
   "source": []
  },
  {
   "cell_type": "code",
   "execution_count": 25,
   "metadata": {},
   "outputs": [
    {
     "data": {
      "text/plain": [
       "male      577\n",
       "female    314\n",
       "Name: Sex, dtype: int64"
      ]
     },
     "execution_count": 25,
     "metadata": {},
     "output_type": "execute_result"
    }
   ],
   "source": [
    "data1['Sex'].value_counts()"
   ]
  },
  {
   "cell_type": "code",
   "execution_count": 26,
   "metadata": {},
   "outputs": [
    {
     "data": {
      "image/png": "[encoded data removed]",
      "text/plain": [
       "<Figure size 432x288 with 1 Axes>"
      ]
     },
     "metadata": {
      "needs_background": "light"
     },
     "output_type": "display_data"
    }
   ],
   "source": [
    "plt.hist(data1['Sex'])\n",
    "plt.xlabel('Sex')\n",
    "plt.show()"
   ]
  },
  {
   "cell_type": "markdown",
   "metadata": {},
   "source": [
    "##### Observation:\n",
    "\n",
    "    Titanic had more males than females as travellers."
   ]
  },
  {
   "cell_type": "code",
   "execution_count": 27,
   "metadata": {},
   "outputs": [
    {
     "data": {
      "text/plain": [
       "'Age'"
      ]
     },
     "execution_count": 27,
     "metadata": {},
     "output_type": "execute_result"
    }
   ],
   "source": [
    "list_cols[5]"
   ]
  },
  {
   "cell_type": "markdown",
   "metadata": {},
   "source": [
    "### 6.'Age'"
   ]
  },
  {
   "cell_type": "markdown",
   "metadata": {},
   "source": [
    "Age is a numerical feature."
   ]
  },
  {
   "cell_type": "code",
   "execution_count": 28,
   "metadata": {},
   "outputs": [
    {
     "data": {
      "text/plain": [
       "dtype('float64')"
      ]
     },
     "execution_count": 28,
     "metadata": {},
     "output_type": "execute_result"
    }
   ],
   "source": [
    "data1['Age'].dtype"
   ]
  },
  {
   "cell_type": "code",
   "execution_count": 29,
   "metadata": {},
   "outputs": [
    {
     "name": "stdout",
     "output_type": "stream",
     "text": [
      "The age of travellers ranges between  0.42  and  80.0\n"
     ]
    }
   ],
   "source": [
    "print('The age of travellers ranges between ',data1['Age'].min(),\" and \",data1['Age'].max())"
   ]
  },
  {
   "cell_type": "code",
   "execution_count": 30,
   "metadata": {},
   "outputs": [
    {
     "data": {
      "text/plain": [
       "'SibSp'"
      ]
     },
     "execution_count": 30,
     "metadata": {},
     "output_type": "execute_result"
    }
   ],
   "source": [
    "list_cols[6]"
   ]
  },
  {
   "cell_type": "markdown",
   "metadata": {},
   "source": [
    "### 7.'SibSp'"
   ]
  },
  {
   "cell_type": "markdown",
   "metadata": {},
   "source": [
    "This feature gives us the info of no. of siblings and spouses that travelled with a person."
   ]
  },
  {
   "cell_type": "code",
   "execution_count": 31,
   "metadata": {},
   "outputs": [
    {
     "data": {
      "text/plain": [
       "dtype('int64')"
      ]
     },
     "execution_count": 31,
     "metadata": {},
     "output_type": "execute_result"
    }
   ],
   "source": [
    "data1['SibSp'].dtype"
   ]
  },
  {
   "cell_type": "code",
   "execution_count": 32,
   "metadata": {},
   "outputs": [
    {
     "data": {
      "text/plain": [
       "0    608\n",
       "1    209\n",
       "2     28\n",
       "4     18\n",
       "3     16\n",
       "8      7\n",
       "5      5\n",
       "Name: SibSp, dtype: int64"
      ]
     },
     "execution_count": 32,
     "metadata": {},
     "output_type": "execute_result"
    }
   ],
   "source": [
    "data1['SibSp'].value_counts()"
   ]
  },
  {
   "cell_type": "markdown",
   "metadata": {},
   "source": [
    "##### Observation:\n",
    "\n",
    "    Many of the passengers didnot have any sibling or spouse,i.e. most of the people were travelling alone."
   ]
  },
  {
   "cell_type": "code",
   "execution_count": 33,
   "metadata": {},
   "outputs": [
    {
     "data": {
      "text/plain": [
       "'Parch'"
      ]
     },
     "execution_count": 33,
     "metadata": {},
     "output_type": "execute_result"
    }
   ],
   "source": [
    "list_cols[7]"
   ]
  },
  {
   "cell_type": "markdown",
   "metadata": {},
   "source": [
    "### 8.'Parch'"
   ]
  },
  {
   "cell_type": "code",
   "execution_count": 34,
   "metadata": {},
   "outputs": [
    {
     "data": {
      "text/plain": [
       "dtype('int64')"
      ]
     },
     "execution_count": 34,
     "metadata": {},
     "output_type": "execute_result"
    }
   ],
   "source": [
    "data1['Parch'].dtype"
   ]
  },
  {
   "cell_type": "code",
   "execution_count": 35,
   "metadata": {},
   "outputs": [
    {
     "data": {
      "text/plain": [
       "0"
      ]
     },
     "execution_count": 35,
     "metadata": {},
     "output_type": "execute_result"
    }
   ],
   "source": [
    "data1['Parch'].isnull().sum()"
   ]
  },
  {
   "cell_type": "code",
   "execution_count": 36,
   "metadata": {},
   "outputs": [
    {
     "data": {
      "text/plain": [
       "0    678\n",
       "1    118\n",
       "2     80\n",
       "5      5\n",
       "3      5\n",
       "4      4\n",
       "6      1\n",
       "Name: Parch, dtype: int64"
      ]
     },
     "execution_count": 36,
     "metadata": {},
     "output_type": "execute_result"
    }
   ],
   "source": [
    "data1['Parch'].value_counts()"
   ]
  },
  {
   "cell_type": "markdown",
   "metadata": {},
   "source": [
    "##### Observation:\n",
    "\n",
    "    Many passengers were travelling alone as seen from the above info of parents and children."
   ]
  },
  {
   "cell_type": "code",
   "execution_count": 37,
   "metadata": {},
   "outputs": [
    {
     "data": {
      "text/plain": [
       "'Ticket'"
      ]
     },
     "execution_count": 37,
     "metadata": {},
     "output_type": "execute_result"
    }
   ],
   "source": [
    "list_cols[8]"
   ]
  },
  {
   "cell_type": "markdown",
   "metadata": {},
   "source": [
    "### 9.'Ticket'"
   ]
  },
  {
   "cell_type": "markdown",
   "metadata": {},
   "source": [
    "Ticket no. is allocated to each person. Ticket is a mix of numeric and alphanumeric data types."
   ]
  },
  {
   "cell_type": "code",
   "execution_count": 38,
   "metadata": {},
   "outputs": [
    {
     "data": {
      "text/plain": [
       "dtype('O')"
      ]
     },
     "execution_count": 38,
     "metadata": {},
     "output_type": "execute_result"
    }
   ],
   "source": [
    "data1['Ticket'].dtype"
   ]
  },
  {
   "cell_type": "code",
   "execution_count": 39,
   "metadata": {},
   "outputs": [
    {
     "data": {
      "text/plain": [
       "347082      7\n",
       "CA. 2343    7\n",
       "1601        7\n",
       "3101295     6\n",
       "CA 2144     6\n",
       "           ..\n",
       "28425       1\n",
       "347073      1\n",
       "349215      1\n",
       "342826      1\n",
       "244270      1\n",
       "Name: Ticket, Length: 681, dtype: int64"
      ]
     },
     "execution_count": 39,
     "metadata": {},
     "output_type": "execute_result"
    }
   ],
   "source": [
    "data1['Ticket'].value_counts()"
   ]
  },
  {
   "cell_type": "markdown",
   "metadata": {},
   "source": [
    "##### Observation:\n",
    "\n",
    "    We see that the ticket numbers data is duplicated in some cases."
   ]
  },
  {
   "cell_type": "code",
   "execution_count": 40,
   "metadata": {},
   "outputs": [
    {
     "data": {
      "text/plain": [
       "'Fare'"
      ]
     },
     "execution_count": 40,
     "metadata": {},
     "output_type": "execute_result"
    }
   ],
   "source": [
    "list_cols[9]"
   ]
  },
  {
   "cell_type": "markdown",
   "metadata": {},
   "source": [
    "### 10. 'Fare'"
   ]
  },
  {
   "cell_type": "markdown",
   "metadata": {},
   "source": [
    "This is a numerical feature, the feature gives us the amount paid by each passenger."
   ]
  },
  {
   "cell_type": "code",
   "execution_count": 41,
   "metadata": {},
   "outputs": [
    {
     "name": "stdout",
     "output_type": "stream",
     "text": [
      "The travle fare ranges between  0.0  and  512.3292\n"
     ]
    }
   ],
   "source": [
    "print(\"The travle fare ranges between \",data1['Fare'].min(),\" and \",data1['Fare'].max())"
   ]
  },
  {
   "cell_type": "markdown",
   "metadata": {},
   "source": [
    "##### Observation:\n",
    "\n",
    "    The travel fare ranges between 0.0 and 512.3292."
   ]
  },
  {
   "cell_type": "code",
   "execution_count": 42,
   "metadata": {},
   "outputs": [
    {
     "data": {
      "text/plain": [
       "'Cabin'"
      ]
     },
     "execution_count": 42,
     "metadata": {},
     "output_type": "execute_result"
    }
   ],
   "source": [
    "list_cols[10]"
   ]
  },
  {
   "cell_type": "markdown",
   "metadata": {},
   "source": [
    "### 11.'Cabin'"
   ]
  },
  {
   "cell_type": "markdown",
   "metadata": {},
   "source": [
    "Cabin numbers are stored in this feature."
   ]
  },
  {
   "cell_type": "code",
   "execution_count": 43,
   "metadata": {},
   "outputs": [
    {
     "data": {
      "text/plain": [
       "B96 B98        4\n",
       "G6             4\n",
       "C23 C25 C27    4\n",
       "D              3\n",
       "F33            3\n",
       "              ..\n",
       "E40            1\n",
       "C82            1\n",
       "D9             1\n",
       "A10            1\n",
       "B69            1\n",
       "Name: Cabin, Length: 147, dtype: int64"
      ]
     },
     "execution_count": 43,
     "metadata": {},
     "output_type": "execute_result"
    }
   ],
   "source": [
    "data1['Cabin'].value_counts()"
   ]
  },
  {
   "cell_type": "markdown",
   "metadata": {},
   "source": [
    "##### Observation:\n",
    "\n",
    "    Some cabin numbers are repeated in the dataset as same cabin can be occupied by multiple people.\n",
    "    \n",
    "    The cabin values are alphanumeric"
   ]
  },
  {
   "cell_type": "code",
   "execution_count": 44,
   "metadata": {},
   "outputs": [
    {
     "data": {
      "text/plain": [
       "'Embarked'"
      ]
     },
     "execution_count": 44,
     "metadata": {},
     "output_type": "execute_result"
    }
   ],
   "source": [
    "list_cols[11]"
   ]
  },
  {
   "cell_type": "markdown",
   "metadata": {},
   "source": [
    "### 12.'Embarked'"
   ]
  },
  {
   "cell_type": "markdown",
   "metadata": {},
   "source": [
    " Embarked is a categorical variables with 3 categries: C(Cherbourg), Q(Queenstown) and S(Southampton)"
   ]
  },
  {
   "cell_type": "code",
   "execution_count": 45,
   "metadata": {},
   "outputs": [
    {
     "data": {
      "text/plain": [
       "S    644\n",
       "C    168\n",
       "Q     77\n",
       "Name: Embarked, dtype: int64"
      ]
     },
     "execution_count": 45,
     "metadata": {},
     "output_type": "execute_result"
    }
   ],
   "source": [
    "data1['Embarked'].value_counts()"
   ]
  },
  {
   "cell_type": "markdown",
   "metadata": {},
   "source": [
    "##### Observation:\n",
    "\n",
    "    Majority of the passengers embarked from S(Southampton)"
   ]
  },
  {
   "cell_type": "markdown",
   "metadata": {},
   "source": [
    "# EDA"
   ]
  },
  {
   "cell_type": "markdown",
   "metadata": {},
   "source": [
    "### checking correlation between numerical features"
   ]
  },
  {
   "cell_type": "code",
   "execution_count": 46,
   "metadata": {},
   "outputs": [
    {
     "data": {
      "image/png": "[encoded data removed]",
      "text/plain": [
       "<Figure size 864x432 with 2 Axes>"
      ]
     },
     "metadata": {
      "needs_background": "light"
     },
     "output_type": "display_data"
    }
   ],
   "source": [
    "corr=data1.corr()\n",
    "plt.figure(figsize=(12,6))\n",
    "ax=sn.heatmap(corr,annot=True)\n",
    "plt.show()"
   ]
  },
  {
   "cell_type": "markdown",
   "metadata": {},
   "source": [
    "##### Observation:\n",
    "\n",
    "        Only 'Fare' feature has some correlation with target feature 'Survived'"
   ]
  },
  {
   "cell_type": "markdown",
   "metadata": {},
   "source": [
    "## Multi-variate Analysis with Target Feature"
   ]
  },
  {
   "cell_type": "code",
   "execution_count": 47,
   "metadata": {},
   "outputs": [
    {
     "data": {
      "text/plain": [
       "Index(['PassengerId', 'Survived', 'Pclass', 'Name', 'Sex', 'Age', 'SibSp',\n",
       "       'Parch', 'Ticket', 'Fare', 'Cabin', 'Embarked'],\n",
       "      dtype='object')"
      ]
     },
     "execution_count": 47,
     "metadata": {},
     "output_type": "execute_result"
    }
   ],
   "source": [
    "list_cols"
   ]
  },
  {
   "cell_type": "markdown",
   "metadata": {},
   "source": [
    "### 'Pclass' , 'Sex' & 'Survived'"
   ]
  },
  {
   "cell_type": "code",
   "execution_count": 48,
   "metadata": {},
   "outputs": [
    {
     "data": {
      "image/png": "[encoded data removed]",
      "text/plain": [
       "<Figure size 430.5x360 with 1 Axes>"
      ]
     },
     "metadata": {
      "needs_background": "light"
     },
     "output_type": "display_data"
    }
   ],
   "source": [
    "sn.catplot(x='Pclass',y='Survived',data=data1,kind='bar',hue='Sex')\n",
    "plt.show()"
   ]
  },
  {
   "cell_type": "markdown",
   "metadata": {},
   "source": [
    "##### Observation:\n",
    "\n",
    "    The majority of survivers in any of the three classes are females.\n",
    "    \n",
    "    The proportion of survived people decreases as the Passenger Class decreases."
   ]
  },
  {
   "cell_type": "markdown",
   "metadata": {},
   "source": [
    "### 'Age', 'Sex' & 'Survived'"
   ]
  },
  {
   "cell_type": "code",
   "execution_count": 49,
   "metadata": {
    "scrolled": true
   },
   "outputs": [
    {
     "data": {
      "image/png": "[encoded data removed]",
      "text/plain": [
       "<Figure size 432x288 with 1 Axes>"
      ]
     },
     "metadata": {
      "needs_background": "light"
     },
     "output_type": "display_data"
    }
   ],
   "source": [
    "sn.violinplot(data1['Survived'],data1['Age'],hue=data1['Sex'])\n",
    "plt.show()"
   ]
  },
  {
   "cell_type": "markdown",
   "metadata": {},
   "source": [
    "##### Observation:\n",
    "\n",
    "    Most of the male and female survivers were between age group 20 to 35."
   ]
  },
  {
   "cell_type": "markdown",
   "metadata": {},
   "source": [
    "### 'Age', 'Fare' & 'Survived'"
   ]
  },
  {
   "cell_type": "code",
   "execution_count": 50,
   "metadata": {
    "scrolled": true
   },
   "outputs": [
    {
     "data": {
      "image/png": "[encoded data removed]",
      "text/plain": [
       "<Figure size 432x288 with 1 Axes>"
      ]
     },
     "metadata": {
      "needs_background": "light"
     },
     "output_type": "display_data"
    }
   ],
   "source": [
    "sn.scatterplot(x=data1['Age'],y=data1['Fare'],hue=data1['Survived'])\n",
    "plt.show()"
   ]
  },
  {
   "cell_type": "markdown",
   "metadata": {},
   "source": [
    "##### Observation:\n",
    "\n",
    "    The travellers with high fare had high chances of survival. "
   ]
  },
  {
   "cell_type": "code",
   "execution_count": 51,
   "metadata": {},
   "outputs": [
    {
     "data": {
      "image/png": "[encoded data removed]",
      "text/plain": [
       "<Figure size 432x288 with 1 Axes>"
      ]
     },
     "metadata": {
      "needs_background": "light"
     },
     "output_type": "display_data"
    }
   ],
   "source": [
    "sn.violinplot(x=data1['Pclass'],y=data1['Age'],hue=data1['Survived'])\n",
    "plt.show()"
   ]
  },
  {
   "cell_type": "markdown",
   "metadata": {},
   "source": [
    "##### Observation:\n",
    "\n",
    "        The travellers in 1st class were mostly senior adults and they were most of the survivers."
   ]
  },
  {
   "cell_type": "code",
   "execution_count": 52,
   "metadata": {},
   "outputs": [
    {
     "data": {
      "image/png": "[encoded data removed]",
      "text/plain": [
       "<Figure size 864x576 with 1 Axes>"
      ]
     },
     "metadata": {
      "needs_background": "light"
     },
     "output_type": "display_data"
    }
   ],
   "source": [
    "plt.figure(figsize=(12,8))\n",
    "sn.scatterplot(x=data1['Cabin'],y=data1['Age'],hue=data1['Survived'])\n",
    "plt.show()"
   ]
  },
  {
   "cell_type": "markdown",
   "metadata": {},
   "source": [
    "##### Observation:\n",
    "\n",
    "    There was no relation seen between class allocated onboard and age of people."
   ]
  },
  {
   "cell_type": "markdown",
   "metadata": {},
   "source": [
    "# Data Pre-Processing"
   ]
  },
  {
   "cell_type": "markdown",
   "metadata": {},
   "source": [
    "### Extracting features from 'Name'"
   ]
  },
  {
   "cell_type": "code",
   "execution_count": 53,
   "metadata": {},
   "outputs": [
    {
     "data": {
      "text/plain": [
       "' Mr'"
      ]
     },
     "execution_count": 53,
     "metadata": {},
     "output_type": "execute_result"
    }
   ],
   "source": [
    "data1['Name'][0].split(',')[1].split('.')[0]"
   ]
  },
  {
   "cell_type": "code",
   "execution_count": 54,
   "metadata": {},
   "outputs": [
    {
     "data": {
      "text/plain": [
       "[' Mr',\n",
       " ' Mrs',\n",
       " ' Miss',\n",
       " ' Mrs',\n",
       " ' Mr',\n",
       " ' Mr',\n",
       " ' Mr',\n",
       " ' Master',\n",
       " ' Mrs',\n",
       " ' Mrs',\n",
       " ' Miss',\n",
       " ' Miss',\n",
       " ' Mr',\n",
       " ' Mr',\n",
       " ' Miss',\n",
       " ' Mrs',\n",
       " ' Master',\n",
       " ' Mr',\n",
       " ' Mrs',\n",
       " ' Mrs',\n",
       " ' Mr',\n",
       " ' Mr',\n",
       " ' Miss',\n",
       " ' Mr',\n",
       " ' Miss',\n",
       " ' Mrs',\n",
       " ' Mr',\n",
       " ' Mr',\n",
       " ' Miss',\n",
       " ' Mr',\n",
       " ' Don',\n",
       " ' Mrs',\n",
       " ' Miss',\n",
       " ' Mr',\n",
       " ' Mr',\n",
       " ' Mr',\n",
       " ' Mr',\n",
       " ' Mr',\n",
       " ' Miss',\n",
       " ' Miss',\n",
       " ' Mrs',\n",
       " ' Mrs',\n",
       " ' Mr',\n",
       " ' Miss',\n",
       " ' Miss',\n",
       " ' Mr',\n",
       " ' Mr',\n",
       " ' Miss',\n",
       " ' Mr',\n",
       " ' Mrs',\n",
       " ' Master',\n",
       " ' Mr',\n",
       " ' Mrs',\n",
       " ' Mrs',\n",
       " ' Mr',\n",
       " ' Mr',\n",
       " ' Miss',\n",
       " ' Mr',\n",
       " ' Miss',\n",
       " ' Master',\n",
       " ' Mr',\n",
       " ' Miss',\n",
       " ' Mr',\n",
       " ' Master',\n",
       " ' Mr',\n",
       " ' Master',\n",
       " ' Mrs',\n",
       " ' Mr',\n",
       " ' Miss',\n",
       " ' Mr',\n",
       " ' Mr',\n",
       " ' Miss',\n",
       " ' Mr',\n",
       " ' Mr',\n",
       " ' Mr',\n",
       " ' Mr',\n",
       " ' Mr',\n",
       " ' Mr',\n",
       " ' Master',\n",
       " ' Miss',\n",
       " ' Mr',\n",
       " ' Mr',\n",
       " ' Miss',\n",
       " ' Mr',\n",
       " ' Miss',\n",
       " ' Mrs',\n",
       " ' Mr',\n",
       " ' Mr',\n",
       " ' Miss',\n",
       " ' Mr',\n",
       " ' Mr',\n",
       " ' Mr',\n",
       " ' Mr',\n",
       " ' Mr',\n",
       " ' Mr',\n",
       " ' Mr',\n",
       " ' Mr',\n",
       " ' Mr',\n",
       " ' Mrs',\n",
       " ' Mr',\n",
       " ' Miss',\n",
       " ' Mr',\n",
       " ' Mr',\n",
       " ' Mr',\n",
       " ' Mr',\n",
       " ' Mr',\n",
       " ' Miss',\n",
       " ' Mr',\n",
       " ' Mr',\n",
       " ' Miss',\n",
       " ' Mr',\n",
       " ' Miss',\n",
       " ' Mr',\n",
       " ' Miss',\n",
       " ' Miss',\n",
       " ' Mr',\n",
       " ' Mr',\n",
       " ' Mr',\n",
       " ' Mr',\n",
       " ' Miss',\n",
       " ' Mr',\n",
       " ' Mr',\n",
       " ' Mr',\n",
       " ' Miss',\n",
       " ' Mr',\n",
       " ' Master',\n",
       " ' Mr',\n",
       " ' Mr',\n",
       " ' Miss',\n",
       " ' Mr',\n",
       " ' Mr',\n",
       " ' Mr',\n",
       " ' Mrs',\n",
       " ' Mrs',\n",
       " ' Mr',\n",
       " ' Mr',\n",
       " ' Miss',\n",
       " ' Mr',\n",
       " ' Mr',\n",
       " ' Mr',\n",
       " ' Mrs',\n",
       " ' Miss',\n",
       " ' Mrs',\n",
       " ' Mr',\n",
       " ' Mr',\n",
       " ' Mr',\n",
       " ' Mr',\n",
       " ' Miss',\n",
       " ' Mr',\n",
       " ' Rev',\n",
       " ' Rev',\n",
       " ' Mrs',\n",
       " ' Mr',\n",
       " ' Mr',\n",
       " ' Mr',\n",
       " ' Mr',\n",
       " ' Miss',\n",
       " ' Mr',\n",
       " ' Mr',\n",
       " ' Master',\n",
       " ' Mr',\n",
       " ' Mrs',\n",
       " ' Mr',\n",
       " ' Mr',\n",
       " ' Master',\n",
       " ' Master',\n",
       " ' Mrs',\n",
       " ' Mrs',\n",
       " ' Mr',\n",
       " ' Mr',\n",
       " ' Mr',\n",
       " ' Master',\n",
       " ' Miss',\n",
       " ' Mr',\n",
       " ' Mr',\n",
       " ' Mr',\n",
       " ' Master',\n",
       " ' Miss',\n",
       " ' Mr',\n",
       " ' Mr',\n",
       " ' Miss',\n",
       " ' Mr',\n",
       " ' Master',\n",
       " ' Master',\n",
       " ' Miss',\n",
       " ' Mr',\n",
       " ' Mrs',\n",
       " ' Mr',\n",
       " ' Mr',\n",
       " ' Mr',\n",
       " ' Mrs',\n",
       " ' Mr',\n",
       " ' Miss',\n",
       " ' Master',\n",
       " ' Mrs',\n",
       " ' Miss',\n",
       " ' Mr',\n",
       " ' Mr',\n",
       " ' Miss',\n",
       " ' Miss',\n",
       " ' Mr',\n",
       " ' Mr',\n",
       " ' Mr',\n",
       " ' Mr',\n",
       " ' Mr',\n",
       " ' Miss',\n",
       " ' Mr',\n",
       " ' Mr',\n",
       " ' Miss',\n",
       " ' Mr',\n",
       " ' Mr',\n",
       " ' Miss',\n",
       " ' Mr',\n",
       " ' Mr',\n",
       " ' Mr',\n",
       " ' Miss',\n",
       " ' Miss',\n",
       " ' Mr',\n",
       " ' Miss',\n",
       " ' Mr',\n",
       " ' Mr',\n",
       " ' Mr',\n",
       " ' Mr',\n",
       " ' Mr',\n",
       " ' Mr',\n",
       " ' Mr',\n",
       " ' Mr',\n",
       " ' Mr',\n",
       " ' Mr',\n",
       " ' Miss',\n",
       " ' Mrs',\n",
       " ' Mr',\n",
       " ' Mr',\n",
       " ' Miss',\n",
       " ' Mr',\n",
       " ' Miss',\n",
       " ' Mr',\n",
       " ' Miss',\n",
       " ' Mr',\n",
       " ' Mr',\n",
       " ' Miss',\n",
       " ' Miss',\n",
       " ' Mr',\n",
       " ' Mr',\n",
       " ' Mr',\n",
       " ' Dr',\n",
       " ' Miss',\n",
       " ' Mrs',\n",
       " ' Mr',\n",
       " ' Rev',\n",
       " ' Mr',\n",
       " ' Mrs',\n",
       " ' Mr',\n",
       " ' Mr',\n",
       " ' Mrs',\n",
       " ' Mrs',\n",
       " ' Mrs',\n",
       " ' Miss',\n",
       " ' Miss',\n",
       " ' Mrs',\n",
       " ' Mr',\n",
       " ' Master',\n",
       " ' Mr',\n",
       " ' Mr',\n",
       " ' Miss',\n",
       " ' Mr',\n",
       " ' Mr',\n",
       " ' Mr',\n",
       " ' Mrs',\n",
       " ' Miss',\n",
       " ' Mr',\n",
       " ' Mr',\n",
       " ' Mrs',\n",
       " ' Mr',\n",
       " ' Miss',\n",
       " ' Miss',\n",
       " ' Miss',\n",
       " ' Mr',\n",
       " ' Master',\n",
       " ' Mrs',\n",
       " ' Mr',\n",
       " ' Mr',\n",
       " ' Mr',\n",
       " ' Mr',\n",
       " ' Mr',\n",
       " ' Mr',\n",
       " ' Mr',\n",
       " ' Mr',\n",
       " ' Mr',\n",
       " ' Miss',\n",
       " ' Miss',\n",
       " ' Mrs',\n",
       " ' Mr',\n",
       " ' Miss',\n",
       " ' Mr',\n",
       " ' Mr',\n",
       " ' Mr',\n",
       " ' Miss',\n",
       " ' Mr',\n",
       " ' Mrs',\n",
       " ' Miss',\n",
       " ' Mr',\n",
       " ' Mr',\n",
       " ' Miss',\n",
       " ' Mr',\n",
       " ' Master',\n",
       " ' Miss',\n",
       " ' Mrs',\n",
       " ' Mr',\n",
       " ' Miss',\n",
       " ' Miss',\n",
       " ' Miss',\n",
       " ' Mrs',\n",
       " ' Mr',\n",
       " ' Mr',\n",
       " ' Miss',\n",
       " ' Mrs',\n",
       " ' Dr',\n",
       " ' Miss',\n",
       " ' Mrs',\n",
       " ' Mr',\n",
       " ' Mr',\n",
       " ' Miss',\n",
       " ' Mrs',\n",
       " ' Mr',\n",
       " ' Miss',\n",
       " ' Mr',\n",
       " ' Mrs',\n",
       " ' Mrs',\n",
       " ' Miss',\n",
       " ' Miss',\n",
       " ' Mr',\n",
       " ' Mr',\n",
       " ' Mr',\n",
       " ' Mrs',\n",
       " ' Mr',\n",
       " ' Mr',\n",
       " ' Miss',\n",
       " ' Mr',\n",
       " ' Mr',\n",
       " ' Master',\n",
       " ' Miss',\n",
       " ' Mr',\n",
       " ' Mr',\n",
       " ' Mr',\n",
       " ' Miss',\n",
       " ' Miss',\n",
       " ' Mrs',\n",
       " ' Master',\n",
       " ' Mr',\n",
       " ' Mr',\n",
       " ' Mr',\n",
       " ' Mr',\n",
       " ' Mr',\n",
       " ' Mr',\n",
       " ' Mr',\n",
       " ' Miss',\n",
       " ' Miss',\n",
       " ' Miss',\n",
       " ' Miss',\n",
       " ' Mr',\n",
       " ' Mr',\n",
       " ' Mrs',\n",
       " ' Mr',\n",
       " ' Mr',\n",
       " ' Mr',\n",
       " ' Mrs',\n",
       " ' Mrs',\n",
       " ' Miss',\n",
       " ' Mme',\n",
       " ' Mr',\n",
       " ' Mr',\n",
       " ' Mr',\n",
       " ' Mr',\n",
       " ' Miss',\n",
       " ' Mrs',\n",
       " ' Miss',\n",
       " ' Mr',\n",
       " ' Mr',\n",
       " ' Mr',\n",
       " ' Miss',\n",
       " ' Miss',\n",
       " ' Mr',\n",
       " ' Mrs',\n",
       " ' Mr',\n",
       " ' Mr',\n",
       " ' Master',\n",
       " ' Miss',\n",
       " ' Mr',\n",
       " ' Miss',\n",
       " ' Mr',\n",
       " ' Mr',\n",
       " ' Mr',\n",
       " ' Miss',\n",
       " ' Mrs',\n",
       " ' Mr',\n",
       " ' Miss',\n",
       " ' Mr',\n",
       " ' Dr',\n",
       " ' Mrs',\n",
       " ' Mr',\n",
       " ' Mr',\n",
       " ' Miss',\n",
       " ' Mr',\n",
       " ' Miss',\n",
       " ' Mr',\n",
       " ' Mr',\n",
       " ' Master',\n",
       " ' Mr',\n",
       " ' Miss',\n",
       " ' Mr',\n",
       " ' Mr',\n",
       " ' Miss',\n",
       " ' Mr',\n",
       " ' Mr',\n",
       " ' Mrs',\n",
       " ' Mrs',\n",
       " ' Miss',\n",
       " ' Mr',\n",
       " ' Miss',\n",
       " ' Mr',\n",
       " ' Mr',\n",
       " ' Mr',\n",
       " ' Mrs',\n",
       " ' Mr',\n",
       " ' Mr',\n",
       " ' Mrs',\n",
       " ' Miss',\n",
       " ' Mr',\n",
       " ' Mr',\n",
       " ' Mr',\n",
       " ' Mrs',\n",
       " ' Mrs',\n",
       " ' Mr',\n",
       " ' Mr',\n",
       " ' Miss',\n",
       " ' Miss',\n",
       " ' Mrs',\n",
       " ' Mr',\n",
       " ' Mr',\n",
       " ' Mrs',\n",
       " ' Mr',\n",
       " ' Mr',\n",
       " ' Ms',\n",
       " ' Mr',\n",
       " ' Master',\n",
       " ' Miss',\n",
       " ' Mr',\n",
       " ' Miss',\n",
       " ' Major',\n",
       " ' Mr',\n",
       " ' Mr',\n",
       " ' Mr',\n",
       " ' Mr',\n",
       " ' Mr',\n",
       " ' Mr',\n",
       " ' Mr',\n",
       " ' Mrs',\n",
       " ' Miss',\n",
       " ' Mr',\n",
       " ' Mr',\n",
       " ' Mr',\n",
       " ' Mr',\n",
       " ' Mr',\n",
       " ' Mr',\n",
       " ' Mr',\n",
       " ' Mr',\n",
       " ' Mr',\n",
       " ' Mr',\n",
       " ' Miss',\n",
       " ' Mr',\n",
       " ' Mr',\n",
       " ' Mrs',\n",
       " ' Mrs',\n",
       " ' Miss',\n",
       " ' Mr',\n",
       " ' Mr',\n",
       " ' Mr',\n",
       " ' Mr',\n",
       " ' Miss',\n",
       " ' Master',\n",
       " ' Mr',\n",
       " ' Mr',\n",
       " ' Mrs',\n",
       " ' Mr',\n",
       " ' Miss',\n",
       " ' Mrs',\n",
       " ' Mr',\n",
       " ' Mr',\n",
       " ' Master',\n",
       " ' Mr',\n",
       " ' Mr',\n",
       " ' Mr',\n",
       " ' Mr',\n",
       " ' Mr',\n",
       " ' Mr',\n",
       " ' Miss',\n",
       " ' Mr',\n",
       " ' Mrs',\n",
       " ' Mr',\n",
       " ' Mr',\n",
       " ' Miss',\n",
       " ' Miss',\n",
       " ' Miss',\n",
       " ' Miss',\n",
       " ' Mr',\n",
       " ' Mrs',\n",
       " ' Mr',\n",
       " ' Mr',\n",
       " ' Mr',\n",
       " ' Mr',\n",
       " ' Mr',\n",
       " ' Mr',\n",
       " ' Mrs',\n",
       " ' Mr',\n",
       " ' Mr',\n",
       " ' Mrs',\n",
       " ' Mr',\n",
       " ' Mrs',\n",
       " ' Mr',\n",
       " ' Miss',\n",
       " ' Mr',\n",
       " ' Mr',\n",
       " ' Mrs',\n",
       " ' Mr',\n",
       " ' Mr',\n",
       " ' Miss',\n",
       " ' Mr',\n",
       " ' Mr',\n",
       " ' Mr',\n",
       " ' Miss',\n",
       " ' Mr',\n",
       " ' Mr',\n",
       " ' Mrs',\n",
       " ' Miss',\n",
       " ' Miss',\n",
       " ' Major',\n",
       " ' Miss',\n",
       " ' Mr',\n",
       " ' Miss',\n",
       " ' Miss',\n",
       " ' Miss',\n",
       " ' Miss',\n",
       " ' Mr',\n",
       " ' Mr',\n",
       " ' Mr',\n",
       " ' Mrs',\n",
       " ' Mr',\n",
       " ' Mr',\n",
       " ' Master',\n",
       " ' Mr',\n",
       " ' Mr',\n",
       " ' Mr',\n",
       " ' Mr',\n",
       " ' Miss',\n",
       " ' Mr',\n",
       " ' Lady',\n",
       " ' Mr',\n",
       " ' Mrs',\n",
       " ' Mrs',\n",
       " ' Mr',\n",
       " ' Mr',\n",
       " ' Mr',\n",
       " ' Mr',\n",
       " ' Miss',\n",
       " ' Mr',\n",
       " ' Mr',\n",
       " ' Mrs',\n",
       " ' Mr',\n",
       " ' Mr',\n",
       " ' Mr',\n",
       " ' Mrs',\n",
       " ' Mr',\n",
       " ' Miss',\n",
       " ' Mr',\n",
       " ' Mr',\n",
       " ' Miss',\n",
       " ' Mrs',\n",
       " ' Mrs',\n",
       " ' Mr',\n",
       " ' Miss',\n",
       " ' Mrs',\n",
       " ' Mr',\n",
       " ' Mr',\n",
       " ' Mr',\n",
       " ' Miss',\n",
       " ' Mr',\n",
       " ' Mr',\n",
       " ' Mr',\n",
       " ' Mr',\n",
       " ' Mr',\n",
       " ' Mrs',\n",
       " ' Mr',\n",
       " ' Miss',\n",
       " ' Mr',\n",
       " ' Mr',\n",
       " ' Miss',\n",
       " ' Mr',\n",
       " ' Mr',\n",
       " ' Sir',\n",
       " ' Mrs',\n",
       " ' Mr',\n",
       " ' Mr',\n",
       " ' Mr',\n",
       " ' Mr',\n",
       " ' Mr',\n",
       " ' Mr',\n",
       " ' Mr',\n",
       " ' Mrs',\n",
       " ' Miss',\n",
       " ' Mrs',\n",
       " ' Mr',\n",
       " ' Miss',\n",
       " ' Mr',\n",
       " ' Mr',\n",
       " ' Miss',\n",
       " ' Mr',\n",
       " ' Mrs',\n",
       " ' Miss',\n",
       " ' Mr',\n",
       " ' Mr',\n",
       " ' Mr',\n",
       " ' Mr',\n",
       " ' Mr',\n",
       " ' Mr',\n",
       " ' Mr',\n",
       " ' Rev',\n",
       " ' Miss',\n",
       " ' Mr',\n",
       " ' Mr',\n",
       " ' Mr',\n",
       " ' Mr',\n",
       " ' Dr',\n",
       " ' Mr',\n",
       " ' Miss',\n",
       " ' Miss',\n",
       " ' Mr',\n",
       " ' Mr',\n",
       " ' Mrs',\n",
       " ' Mr',\n",
       " ' Mr',\n",
       " ' Mlle',\n",
       " ' Miss',\n",
       " ' Mr',\n",
       " ' Miss',\n",
       " ' Mr',\n",
       " ' Mr',\n",
       " ' Col',\n",
       " ' Mr',\n",
       " ' Miss',\n",
       " ' Mr',\n",
       " ' Miss',\n",
       " ' Mr',\n",
       " ' Miss',\n",
       " ' Miss',\n",
       " ' Mr',\n",
       " ' Mr',\n",
       " ' Mrs',\n",
       " ' Mr',\n",
       " ' Mr',\n",
       " ' Dr',\n",
       " ' Mr',\n",
       " ' Mr',\n",
       " ' Mr',\n",
       " ' Mr',\n",
       " ' Mr',\n",
       " ' Mr',\n",
       " ' Mr',\n",
       " ' Mr',\n",
       " ' Mrs',\n",
       " ' Mrs',\n",
       " ' Mr',\n",
       " ' Mr',\n",
       " ' Mr',\n",
       " ' Mr',\n",
       " ' Mr',\n",
       " ' Mr',\n",
       " ' Miss',\n",
       " ' Mrs',\n",
       " ' Mr',\n",
       " ' Miss',\n",
       " ' Mr',\n",
       " ' Mr',\n",
       " ' Mr',\n",
       " ' Mr',\n",
       " ' Mr',\n",
       " ' Mr',\n",
       " ' Mr',\n",
       " ' Mr',\n",
       " ' Miss',\n",
       " ' Mr',\n",
       " ' Miss',\n",
       " ' Mr',\n",
       " ' Mr',\n",
       " ' Col',\n",
       " ' Mr',\n",
       " ' Mr',\n",
       " ' Miss',\n",
       " ' Mr',\n",
       " ' Mr',\n",
       " ' Mrs',\n",
       " ' Mr',\n",
       " ' Miss',\n",
       " ' Mr',\n",
       " ' Mr',\n",
       " ' Mr',\n",
       " ' Mrs',\n",
       " ' Mr',\n",
       " ' Miss',\n",
       " ' Master',\n",
       " ' Mlle',\n",
       " ' Mr',\n",
       " ' Mr',\n",
       " ' Mr',\n",
       " ' Mr',\n",
       " ' Mr',\n",
       " ' Miss',\n",
       " ' Miss',\n",
       " ' Mr',\n",
       " ' Mr',\n",
       " ' Miss',\n",
       " ' Mr',\n",
       " ' Mr',\n",
       " ' Mr',\n",
       " ' Mr',\n",
       " ' Mr',\n",
       " ' Mrs',\n",
       " ' Miss',\n",
       " ' Mr',\n",
       " ' Miss',\n",
       " ' Miss',\n",
       " ' Mr',\n",
       " ' Mr',\n",
       " ' Mr',\n",
       " ' Mr',\n",
       " ' Mr',\n",
       " ' Mrs',\n",
       " ' Mr',\n",
       " ' Mr',\n",
       " ' Mr',\n",
       " ' Mr',\n",
       " ' Mr',\n",
       " ' Miss',\n",
       " ' Mr',\n",
       " ' Mr',\n",
       " ' Capt',\n",
       " ' Mr',\n",
       " ' Miss',\n",
       " ' Mr',\n",
       " ' Mr',\n",
       " ' Miss',\n",
       " ' Master',\n",
       " ' Mr',\n",
       " ' Mr',\n",
       " ' Mrs',\n",
       " ' Master',\n",
       " ' Mr',\n",
       " ' Mr',\n",
       " ' Mr',\n",
       " ' the Countess',\n",
       " ' Mr',\n",
       " ' Mr',\n",
       " ' Mr',\n",
       " ' Mrs',\n",
       " ' Mr',\n",
       " ' Mrs',\n",
       " ' Dr',\n",
       " ' Miss',\n",
       " ' Mr',\n",
       " ' Mr',\n",
       " ' Mr',\n",
       " ' Mr',\n",
       " ' Mrs',\n",
       " ' Mr',\n",
       " ' Mrs',\n",
       " ' Mr',\n",
       " ' Mr',\n",
       " ' Miss',\n",
       " ' Mr',\n",
       " ' Mrs',\n",
       " ' Miss',\n",
       " ' Mrs',\n",
       " ' Mr',\n",
       " ' Mr',\n",
       " ' Mr',\n",
       " ' Mr',\n",
       " ' Miss',\n",
       " ' Master',\n",
       " ' Master',\n",
       " ' Mr',\n",
       " ' Mr',\n",
       " ' Mr',\n",
       " ' Miss',\n",
       " ' Mr',\n",
       " ' Mr',\n",
       " ' Mr',\n",
       " ' Dr',\n",
       " ' Mrs',\n",
       " ' Mr',\n",
       " ' Mrs',\n",
       " ' Mr',\n",
       " ' Mrs',\n",
       " ' Master',\n",
       " ' Master',\n",
       " ' Mr',\n",
       " ' Mr',\n",
       " ' Mr',\n",
       " ' Miss',\n",
       " ' Mr',\n",
       " ' Mrs',\n",
       " ' Mr',\n",
       " ' Mr',\n",
       " ' Mr',\n",
       " ' Miss',\n",
       " ' Mr',\n",
       " ' Mr',\n",
       " ' Miss',\n",
       " ' Mr',\n",
       " ' Mr',\n",
       " ' Master',\n",
       " ' Mrs',\n",
       " ' Mr',\n",
       " ' Jonkheer',\n",
       " ' Mrs',\n",
       " ' Master',\n",
       " ' Mr',\n",
       " ' Mr',\n",
       " ' Master',\n",
       " ' Mr',\n",
       " ' Mrs',\n",
       " ' Mrs',\n",
       " ' Master',\n",
       " ' Mr',\n",
       " ' Mr',\n",
       " ' Mr',\n",
       " ' Miss',\n",
       " ' Mr',\n",
       " ' Mr',\n",
       " ' Mr',\n",
       " ' Mr',\n",
       " ' Mr',\n",
       " ' Mr',\n",
       " ' Miss',\n",
       " ' Mr',\n",
       " ' Mr',\n",
       " ' Mr',\n",
       " ' Mr',\n",
       " ' Mr',\n",
       " ' Rev',\n",
       " ' Mrs',\n",
       " ' Master',\n",
       " ' Mr',\n",
       " ' Miss',\n",
       " ' Miss',\n",
       " ' Mrs',\n",
       " ' Mrs',\n",
       " ' Mrs',\n",
       " ' Mr',\n",
       " ' Mrs',\n",
       " ' Mr',\n",
       " ' Mr',\n",
       " ' Mr',\n",
       " ' Mrs',\n",
       " ' Miss',\n",
       " ' Mr',\n",
       " ' Mrs',\n",
       " ' Miss',\n",
       " ' Mr',\n",
       " ' Mr',\n",
       " ' Master',\n",
       " ' Mr',\n",
       " ' Mrs',\n",
       " ' Mr',\n",
       " ' Mr',\n",
       " ' Mrs',\n",
       " ' Miss',\n",
       " ' Mr',\n",
       " ' Mr',\n",
       " ' Mr',\n",
       " ' Mrs',\n",
       " ' Mrs',\n",
       " ' Mr',\n",
       " ' Miss',\n",
       " ' Mr',\n",
       " ' Mr',\n",
       " ' Mrs',\n",
       " ' Rev',\n",
       " ' Miss',\n",
       " ' Miss',\n",
       " ' Mr',\n",
       " ' Mr']"
      ]
     },
     "execution_count": 54,
     "metadata": {},
     "output_type": "execute_result"
    }
   ],
   "source": [
    "temp_title1=[]\n",
    "temp_title1.clear()\n",
    "\n",
    "for i in range(len(data1['Name'])):\n",
    "    temp_title2=data1['Name'][i].split(',')[1].split('.')[0]\n",
    "    temp_title1.append(temp_title2)\n",
    "temp_title1"
   ]
  },
  {
   "cell_type": "code",
   "execution_count": 55,
   "metadata": {},
   "outputs": [
    {
     "data": {
      "text/plain": [
       "(891,)"
      ]
     },
     "execution_count": 55,
     "metadata": {},
     "output_type": "execute_result"
    }
   ],
   "source": [
    "data1['Name'].shape"
   ]
  },
  {
   "cell_type": "code",
   "execution_count": 56,
   "metadata": {},
   "outputs": [
    {
     "data": {
      "text/plain": [
       "891"
      ]
     },
     "execution_count": 56,
     "metadata": {},
     "output_type": "execute_result"
    }
   ],
   "source": [
    "len(temp_title1)"
   ]
  },
  {
   "cell_type": "markdown",
   "metadata": {},
   "source": [
    "##### Observation\n",
    "\n",
    "    We can extract the titles and analyse if there is any trend between title of person and survival rate."
   ]
  },
  {
   "cell_type": "code",
   "execution_count": 57,
   "metadata": {},
   "outputs": [
    {
     "data": {
      "text/plain": [
       "(891, 12)"
      ]
     },
     "execution_count": 57,
     "metadata": {},
     "output_type": "execute_result"
    }
   ],
   "source": [
    "data1.shape"
   ]
  },
  {
   "cell_type": "code",
   "execution_count": 58,
   "metadata": {},
   "outputs": [],
   "source": [
    "data1['Titles']=temp_title1"
   ]
  },
  {
   "cell_type": "code",
   "execution_count": 59,
   "metadata": {},
   "outputs": [
    {
     "data": {
      "text/plain": [
       "(891, 13)"
      ]
     },
     "execution_count": 59,
     "metadata": {},
     "output_type": "execute_result"
    }
   ],
   "source": [
    "data1.shape"
   ]
  },
  {
   "cell_type": "code",
   "execution_count": 60,
   "metadata": {},
   "outputs": [
    {
     "data": {
      "text/html": [
       "<div>\n",
       "<style scoped>\n",
       "    .dataframe tbody tr th:only-of-type {\n",
       "        vertical-align: middle;\n",
       "    }\n",
       "\n",
       "    .dataframe tbody tr th {\n",
       "        vertical-align: top;\n",
       "    }\n",
       "\n",
       "    .dataframe thead th {\n",
       "        text-align: right;\n",
       "    }\n",
       "</style>\n",
       "<table border=\"1\" class=\"dataframe\">\n",
       "  <thead>\n",
       "    <tr style=\"text-align: right;\">\n",
       "      <th></th>\n",
       "      <th>PassengerId</th>\n",
       "      <th>Survived</th>\n",
       "      <th>Pclass</th>\n",
       "      <th>Name</th>\n",
       "      <th>Sex</th>\n",
       "      <th>Age</th>\n",
       "      <th>SibSp</th>\n",
       "      <th>Parch</th>\n",
       "      <th>Ticket</th>\n",
       "      <th>Fare</th>\n",
       "      <th>Cabin</th>\n",
       "      <th>Embarked</th>\n",
       "      <th>Titles</th>\n",
       "    </tr>\n",
       "  </thead>\n",
       "  <tbody>\n",
       "    <tr>\n",
       "      <th>0</th>\n",
       "      <td>1</td>\n",
       "      <td>0</td>\n",
       "      <td>3</td>\n",
       "      <td>Braund, Mr. Owen Harris</td>\n",
       "      <td>male</td>\n",
       "      <td>22.0</td>\n",
       "      <td>1</td>\n",
       "      <td>0</td>\n",
       "      <td>A/5 21171</td>\n",
       "      <td>7.2500</td>\n",
       "      <td>NaN</td>\n",
       "      <td>S</td>\n",
       "      <td>Mr</td>\n",
       "    </tr>\n",
       "    <tr>\n",
       "      <th>1</th>\n",
       "      <td>2</td>\n",
       "      <td>1</td>\n",
       "      <td>1</td>\n",
       "      <td>Cumings, Mrs. John Bradley (Florence Briggs Th...</td>\n",
       "      <td>female</td>\n",
       "      <td>38.0</td>\n",
       "      <td>1</td>\n",
       "      <td>0</td>\n",
       "      <td>PC 17599</td>\n",
       "      <td>71.2833</td>\n",
       "      <td>C85</td>\n",
       "      <td>C</td>\n",
       "      <td>Mrs</td>\n",
       "    </tr>\n",
       "    <tr>\n",
       "      <th>2</th>\n",
       "      <td>3</td>\n",
       "      <td>1</td>\n",
       "      <td>3</td>\n",
       "      <td>Heikkinen, Miss. Laina</td>\n",
       "      <td>female</td>\n",
       "      <td>26.0</td>\n",
       "      <td>0</td>\n",
       "      <td>0</td>\n",
       "      <td>STON/O2. 3101282</td>\n",
       "      <td>7.9250</td>\n",
       "      <td>NaN</td>\n",
       "      <td>S</td>\n",
       "      <td>Miss</td>\n",
       "    </tr>\n",
       "    <tr>\n",
       "      <th>3</th>\n",
       "      <td>4</td>\n",
       "      <td>1</td>\n",
       "      <td>1</td>\n",
       "      <td>Futrelle, Mrs. Jacques Heath (Lily May Peel)</td>\n",
       "      <td>female</td>\n",
       "      <td>35.0</td>\n",
       "      <td>1</td>\n",
       "      <td>0</td>\n",
       "      <td>113803</td>\n",
       "      <td>53.1000</td>\n",
       "      <td>C123</td>\n",
       "      <td>S</td>\n",
       "      <td>Mrs</td>\n",
       "    </tr>\n",
       "    <tr>\n",
       "      <th>4</th>\n",
       "      <td>5</td>\n",
       "      <td>0</td>\n",
       "      <td>3</td>\n",
       "      <td>Allen, Mr. William Henry</td>\n",
       "      <td>male</td>\n",
       "      <td>35.0</td>\n",
       "      <td>0</td>\n",
       "      <td>0</td>\n",
       "      <td>373450</td>\n",
       "      <td>8.0500</td>\n",
       "      <td>NaN</td>\n",
       "      <td>S</td>\n",
       "      <td>Mr</td>\n",
       "    </tr>\n",
       "  </tbody>\n",
       "</table>\n",
       "</div>"
      ],
      "text/plain": [
       "   PassengerId  Survived  Pclass  \\\n",
       "0            1         0       3   \n",
       "1            2         1       1   \n",
       "2            3         1       3   \n",
       "3            4         1       1   \n",
       "4            5         0       3   \n",
       "\n",
       "                                                Name     Sex   Age  SibSp  \\\n",
       "0                            Braund, Mr. Owen Harris    male  22.0      1   \n",
       "1  Cumings, Mrs. John Bradley (Florence Briggs Th...  female  38.0      1   \n",
       "2                             Heikkinen, Miss. Laina  female  26.0      0   \n",
       "3       Futrelle, Mrs. Jacques Heath (Lily May Peel)  female  35.0      1   \n",
       "4                           Allen, Mr. William Henry    male  35.0      0   \n",
       "\n",
       "   Parch            Ticket     Fare Cabin Embarked Titles  \n",
       "0      0         A/5 21171   7.2500   NaN        S     Mr  \n",
       "1      0          PC 17599  71.2833   C85        C    Mrs  \n",
       "2      0  STON/O2. 3101282   7.9250   NaN        S   Miss  \n",
       "3      0            113803  53.1000  C123        S    Mrs  \n",
       "4      0            373450   8.0500   NaN        S     Mr  "
      ]
     },
     "execution_count": 60,
     "metadata": {},
     "output_type": "execute_result"
    }
   ],
   "source": [
    "data1.head()"
   ]
  },
  {
   "cell_type": "code",
   "execution_count": 61,
   "metadata": {},
   "outputs": [
    {
     "data": {
      "text/plain": [
       " Mr              517\n",
       " Miss            182\n",
       " Mrs             125\n",
       " Master           40\n",
       " Dr                7\n",
       " Rev               6\n",
       " Mlle              2\n",
       " Major             2\n",
       " Col               2\n",
       " Sir               1\n",
       " Lady              1\n",
       " Mme               1\n",
       " Ms                1\n",
       " Capt              1\n",
       " Jonkheer          1\n",
       " Don               1\n",
       " the Countess      1\n",
       "Name: Titles, dtype: int64"
      ]
     },
     "execution_count": 61,
     "metadata": {},
     "output_type": "execute_result"
    }
   ],
   "source": [
    "data1['Titles'].value_counts()"
   ]
  },
  {
   "cell_type": "markdown",
   "metadata": {},
   "source": []
  },
  {
   "cell_type": "code",
   "execution_count": 62,
   "metadata": {},
   "outputs": [
    {
     "data": {
      "text/html": [
       "<div>\n",
       "<style scoped>\n",
       "    .dataframe tbody tr th:only-of-type {\n",
       "        vertical-align: middle;\n",
       "    }\n",
       "\n",
       "    .dataframe tbody tr th {\n",
       "        vertical-align: top;\n",
       "    }\n",
       "\n",
       "    .dataframe thead th {\n",
       "        text-align: right;\n",
       "    }\n",
       "</style>\n",
       "<table border=\"1\" class=\"dataframe\">\n",
       "  <thead>\n",
       "    <tr style=\"text-align: right;\">\n",
       "      <th>Survived</th>\n",
       "      <th>0</th>\n",
       "      <th>1</th>\n",
       "    </tr>\n",
       "    <tr>\n",
       "      <th>Titles</th>\n",
       "      <th></th>\n",
       "      <th></th>\n",
       "    </tr>\n",
       "  </thead>\n",
       "  <tbody>\n",
       "    <tr>\n",
       "      <th>Capt</th>\n",
       "      <td>1</td>\n",
       "      <td>0</td>\n",
       "    </tr>\n",
       "    <tr>\n",
       "      <th>Col</th>\n",
       "      <td>1</td>\n",
       "      <td>1</td>\n",
       "    </tr>\n",
       "    <tr>\n",
       "      <th>Don</th>\n",
       "      <td>1</td>\n",
       "      <td>0</td>\n",
       "    </tr>\n",
       "    <tr>\n",
       "      <th>Dr</th>\n",
       "      <td>4</td>\n",
       "      <td>3</td>\n",
       "    </tr>\n",
       "    <tr>\n",
       "      <th>Jonkheer</th>\n",
       "      <td>1</td>\n",
       "      <td>0</td>\n",
       "    </tr>\n",
       "    <tr>\n",
       "      <th>Lady</th>\n",
       "      <td>0</td>\n",
       "      <td>1</td>\n",
       "    </tr>\n",
       "    <tr>\n",
       "      <th>Major</th>\n",
       "      <td>1</td>\n",
       "      <td>1</td>\n",
       "    </tr>\n",
       "    <tr>\n",
       "      <th>Master</th>\n",
       "      <td>17</td>\n",
       "      <td>23</td>\n",
       "    </tr>\n",
       "    <tr>\n",
       "      <th>Miss</th>\n",
       "      <td>55</td>\n",
       "      <td>127</td>\n",
       "    </tr>\n",
       "    <tr>\n",
       "      <th>Mlle</th>\n",
       "      <td>0</td>\n",
       "      <td>2</td>\n",
       "    </tr>\n",
       "    <tr>\n",
       "      <th>Mme</th>\n",
       "      <td>0</td>\n",
       "      <td>1</td>\n",
       "    </tr>\n",
       "    <tr>\n",
       "      <th>Mr</th>\n",
       "      <td>436</td>\n",
       "      <td>81</td>\n",
       "    </tr>\n",
       "    <tr>\n",
       "      <th>Mrs</th>\n",
       "      <td>26</td>\n",
       "      <td>99</td>\n",
       "    </tr>\n",
       "    <tr>\n",
       "      <th>Ms</th>\n",
       "      <td>0</td>\n",
       "      <td>1</td>\n",
       "    </tr>\n",
       "    <tr>\n",
       "      <th>Rev</th>\n",
       "      <td>6</td>\n",
       "      <td>0</td>\n",
       "    </tr>\n",
       "    <tr>\n",
       "      <th>Sir</th>\n",
       "      <td>0</td>\n",
       "      <td>1</td>\n",
       "    </tr>\n",
       "    <tr>\n",
       "      <th>the Countess</th>\n",
       "      <td>0</td>\n",
       "      <td>1</td>\n",
       "    </tr>\n",
       "  </tbody>\n",
       "</table>\n",
       "</div>"
      ],
      "text/plain": [
       "Survived         0    1\n",
       "Titles                 \n",
       " Capt            1    0\n",
       " Col             1    1\n",
       " Don             1    0\n",
       " Dr              4    3\n",
       " Jonkheer        1    0\n",
       " Lady            0    1\n",
       " Major           1    1\n",
       " Master         17   23\n",
       " Miss           55  127\n",
       " Mlle            0    2\n",
       " Mme             0    1\n",
       " Mr            436   81\n",
       " Mrs            26   99\n",
       " Ms              0    1\n",
       " Rev             6    0\n",
       " Sir             0    1\n",
       " the Countess    0    1"
      ]
     },
     "execution_count": 62,
     "metadata": {},
     "output_type": "execute_result"
    }
   ],
   "source": [
    "pd.crosstab(columns=data1['Survived'],index=data1['Titles'])"
   ]
  },
  {
   "cell_type": "markdown",
   "metadata": {},
   "source": [
    "##### Observation:\n",
    "\n",
    "    The %ge of survival was very less with 'Master' titles as well as 'Mr'."
   ]
  },
  {
   "cell_type": "markdown",
   "metadata": {},
   "source": [
    "# Handling of missing values"
   ]
  },
  {
   "cell_type": "code",
   "execution_count": 63,
   "metadata": {},
   "outputs": [
    {
     "data": {
      "text/plain": [
       "PassengerId      0\n",
       "Survived         0\n",
       "Pclass           0\n",
       "Name             0\n",
       "Sex              0\n",
       "Age            177\n",
       "SibSp            0\n",
       "Parch            0\n",
       "Ticket           0\n",
       "Fare             0\n",
       "Cabin          687\n",
       "Embarked         2\n",
       "Titles           0\n",
       "dtype: int64"
      ]
     },
     "execution_count": 63,
     "metadata": {},
     "output_type": "execute_result"
    }
   ],
   "source": [
    "data1.isnull().sum()"
   ]
  },
  {
   "cell_type": "code",
   "execution_count": 64,
   "metadata": {},
   "outputs": [
    {
     "data": {
      "text/plain": [
       "891"
      ]
     },
     "execution_count": 64,
     "metadata": {},
     "output_type": "execute_result"
    }
   ],
   "source": [
    "len(data1['Cabin'])"
   ]
  },
  {
   "cell_type": "code",
   "execution_count": 65,
   "metadata": {},
   "outputs": [
    {
     "data": {
      "text/plain": [
       "77.10437710437711"
      ]
     },
     "execution_count": 65,
     "metadata": {},
     "output_type": "execute_result"
    }
   ],
   "source": [
    "687/891*100"
   ]
  },
  {
   "cell_type": "markdown",
   "metadata": {},
   "source": [
    "##### Observation:\n",
    "\n",
    "    77% of the values of 'Cabin' are null, so we can drop this column."
   ]
  },
  {
   "cell_type": "code",
   "execution_count": 66,
   "metadata": {},
   "outputs": [],
   "source": [
    "data1.drop('Cabin',axis=1,inplace=True)"
   ]
  },
  {
   "cell_type": "code",
   "execution_count": 67,
   "metadata": {},
   "outputs": [
    {
     "data": {
      "text/plain": [
       "(891, 12)"
      ]
     },
     "execution_count": 67,
     "metadata": {},
     "output_type": "execute_result"
    }
   ],
   "source": [
    "data1.shape"
   ]
  },
  {
   "cell_type": "code",
   "execution_count": 68,
   "metadata": {
    "scrolled": false
   },
   "outputs": [
    {
     "data": {
      "image/png": "[encoded data removed]",
      "text/plain": [
       "<Figure size 432x288 with 1 Axes>"
      ]
     },
     "metadata": {
      "needs_background": "light"
     },
     "output_type": "display_data"
    }
   ],
   "source": [
    "sn.distplot(data1['Age'])\n",
    "plt.show()"
   ]
  },
  {
   "cell_type": "code",
   "execution_count": 69,
   "metadata": {},
   "outputs": [
    {
     "data": {
      "text/plain": [
       "count    714.000000\n",
       "mean      29.699118\n",
       "std       14.526497\n",
       "min        0.420000\n",
       "25%       20.125000\n",
       "50%       28.000000\n",
       "75%       38.000000\n",
       "max       80.000000\n",
       "Name: Age, dtype: float64"
      ]
     },
     "execution_count": 69,
     "metadata": {},
     "output_type": "execute_result"
    }
   ],
   "source": [
    "data1['Age'].describe()"
   ]
  },
  {
   "cell_type": "markdown",
   "metadata": {},
   "source": [
    "##### Observation:\n",
    "\n",
    "    The mean of 'Age' column is higher than median, so the data is right skewed.\n",
    "    \n",
    "    We will replace the missing values with median of that column."
   ]
  },
  {
   "cell_type": "code",
   "execution_count": 70,
   "metadata": {},
   "outputs": [],
   "source": [
    "data1['Age'].fillna(data1['Age'].median(),inplace=True)"
   ]
  },
  {
   "cell_type": "code",
   "execution_count": 71,
   "metadata": {},
   "outputs": [
    {
     "data": {
      "text/plain": [
       "count    891.000000\n",
       "mean      29.361582\n",
       "std       13.019697\n",
       "min        0.420000\n",
       "25%       22.000000\n",
       "50%       28.000000\n",
       "75%       35.000000\n",
       "max       80.000000\n",
       "Name: Age, dtype: float64"
      ]
     },
     "execution_count": 71,
     "metadata": {},
     "output_type": "execute_result"
    }
   ],
   "source": [
    "data1['Age'].describe()"
   ]
  },
  {
   "cell_type": "markdown",
   "metadata": {},
   "source": [
    "##### Observation:\n",
    "\n",
    "    After replacing the null values with median of 'Age' column, the mean and median is undisturbed."
   ]
  },
  {
   "cell_type": "code",
   "execution_count": 72,
   "metadata": {},
   "outputs": [],
   "source": [
    "# As we have extracted necessary feature from 'Name', we will drop it\n",
    "data1.drop('Name',axis=1,inplace=True)"
   ]
  },
  {
   "cell_type": "code",
   "execution_count": 73,
   "metadata": {},
   "outputs": [
    {
     "data": {
      "text/plain": [
       "(891, 11)"
      ]
     },
     "execution_count": 73,
     "metadata": {},
     "output_type": "execute_result"
    }
   ],
   "source": [
    "data1.shape"
   ]
  },
  {
   "cell_type": "code",
   "execution_count": 74,
   "metadata": {},
   "outputs": [
    {
     "data": {
      "text/plain": [
       "2"
      ]
     },
     "execution_count": 74,
     "metadata": {},
     "output_type": "execute_result"
    }
   ],
   "source": [
    "data1['Embarked'].isnull().sum()"
   ]
  },
  {
   "cell_type": "code",
   "execution_count": 75,
   "metadata": {},
   "outputs": [
    {
     "data": {
      "text/plain": [
       "S    644\n",
       "C    168\n",
       "Q     77\n",
       "Name: Embarked, dtype: int64"
      ]
     },
     "execution_count": 75,
     "metadata": {},
     "output_type": "execute_result"
    }
   ],
   "source": [
    "data1['Embarked'].value_counts()"
   ]
  },
  {
   "cell_type": "markdown",
   "metadata": {},
   "source": [
    "##### Observation:\n",
    "\n",
    "    As the most frequent Embarked station is Southampton, we will replace the 2 missing values with 'S'"
   ]
  },
  {
   "cell_type": "code",
   "execution_count": 76,
   "metadata": {},
   "outputs": [],
   "source": [
    "data1['Embarked'].fillna('S',inplace=True)"
   ]
  },
  {
   "cell_type": "code",
   "execution_count": 77,
   "metadata": {
    "scrolled": true
   },
   "outputs": [
    {
     "data": {
      "text/plain": [
       "0"
      ]
     },
     "execution_count": 77,
     "metadata": {},
     "output_type": "execute_result"
    }
   ],
   "source": [
    "data1['Embarked'].isnull().sum()"
   ]
  },
  {
   "cell_type": "markdown",
   "metadata": {},
   "source": [
    "# Checking for outliers"
   ]
  },
  {
   "cell_type": "code",
   "execution_count": 78,
   "metadata": {},
   "outputs": [
    {
     "name": "stdout",
     "output_type": "stream",
     "text": [
      "<class 'pandas.core.frame.DataFrame'>\n",
      "RangeIndex: 891 entries, 0 to 890\n",
      "Data columns (total 11 columns):\n",
      " #   Column       Non-Null Count  Dtype  \n",
      "---  ------       --------------  -----  \n",
      " 0   PassengerId  891 non-null    int64  \n",
      " 1   Survived     891 non-null    int64  \n",
      " 2   Pclass       891 non-null    int64  \n",
      " 3   Sex          891 non-null    object \n",
      " 4   Age          891 non-null    float64\n",
      " 5   SibSp        891 non-null    int64  \n",
      " 6   Parch        891 non-null    int64  \n",
      " 7   Ticket       891 non-null    object \n",
      " 8   Fare         891 non-null    float64\n",
      " 9   Embarked     891 non-null    object \n",
      " 10  Titles       891 non-null    object \n",
      "dtypes: float64(2), int64(5), object(4)\n",
      "memory usage: 76.7+ KB\n"
     ]
    }
   ],
   "source": [
    "data1.info()"
   ]
  },
  {
   "cell_type": "markdown",
   "metadata": {},
   "source": [
    "##### Observation:\n",
    "\n",
    "     We will check for any outliers for our numerical features."
   ]
  },
  {
   "cell_type": "code",
   "execution_count": 79,
   "metadata": {
    "scrolled": true
   },
   "outputs": [
    {
     "data": {
      "image/png": "[encoded data removed]",
      "text/plain": [
       "<Figure size 432x288 with 1 Axes>"
      ]
     },
     "metadata": {
      "needs_background": "light"
     },
     "output_type": "display_data"
    }
   ],
   "source": [
    "plt.boxplot(data1['PassengerId'])\n",
    "plt.show()"
   ]
  },
  {
   "cell_type": "code",
   "execution_count": 80,
   "metadata": {
    "scrolled": false
   },
   "outputs": [
    {
     "data": {
      "image/png": "[encoded data removed]",
      "text/plain": [
       "<Figure size 432x288 with 1 Axes>"
      ]
     },
     "metadata": {
      "needs_background": "light"
     },
     "output_type": "display_data"
    }
   ],
   "source": [
    "plt.boxplot(data1['Age'])\n",
    "plt.show()"
   ]
  },
  {
   "cell_type": "code",
   "execution_count": 81,
   "metadata": {
    "scrolled": false
   },
   "outputs": [
    {
     "data": {
      "image/png": "[encoded data removed]",
      "text/plain": [
       "<Figure size 432x288 with 1 Axes>"
      ]
     },
     "metadata": {
      "needs_background": "light"
     },
     "output_type": "display_data"
    }
   ],
   "source": [
    "plt.boxplot(data1['Fare'])\n",
    "plt.show()"
   ]
  },
  {
   "cell_type": "markdown",
   "metadata": {},
   "source": [
    "##### Observation:\n",
    "\n",
    "    The data points away from whiskers in 'Age' column are very close to whisker so we will not consider them outliers.\n",
    "    \n",
    "    In case of 'Fare', we see few outliers , we will remove it."
   ]
  },
  {
   "cell_type": "code",
   "execution_count": 82,
   "metadata": {
    "scrolled": false
   },
   "outputs": [
    {
     "data": {
      "image/png": "[encoded data removed]",
      "text/plain": [
       "<Figure size 432x288 with 1 Axes>"
      ]
     },
     "metadata": {
      "needs_background": "light"
     },
     "output_type": "display_data"
    }
   ],
   "source": [
    "sn.distplot(data1['Fare'])\n",
    "plt.show()"
   ]
  },
  {
   "cell_type": "code",
   "execution_count": null,
   "metadata": {},
   "outputs": [],
   "source": []
  },
  {
   "cell_type": "code",
   "execution_count": 83,
   "metadata": {},
   "outputs": [
    {
     "data": {
      "image/png": "[encoded data removed]",
      "text/plain": [
       "<Figure size 432x288 with 1 Axes>"
      ]
     },
     "metadata": {
      "needs_background": "light"
     },
     "output_type": "display_data"
    }
   ],
   "source": [
    "sn.distplot(np.cbrt(data1['Fare']))\n",
    "plt.show()"
   ]
  },
  {
   "cell_type": "markdown",
   "metadata": {},
   "source": [
    "##### Observation:\n",
    "\n",
    "    To remove skewness and control the effect of outlier, we will use cuberoot transform on 'Fare'"
   ]
  },
  {
   "cell_type": "code",
   "execution_count": 84,
   "metadata": {},
   "outputs": [],
   "source": [
    "data1['Fare']=np.cbrt(data1['Fare'])"
   ]
  },
  {
   "cell_type": "markdown",
   "metadata": {},
   "source": [
    "### Label Encoding"
   ]
  },
  {
   "cell_type": "code",
   "execution_count": 85,
   "metadata": {},
   "outputs": [],
   "source": [
    "from sklearn.preprocessing import LabelEncoder\n",
    "le=LabelEncoder()\n",
    "data1['Sex']=le.fit_transform(data1['Sex'])"
   ]
  },
  {
   "cell_type": "code",
   "execution_count": 86,
   "metadata": {},
   "outputs": [],
   "source": [
    "data1['Survived']=le.fit_transform(data1['Survived'])"
   ]
  },
  {
   "cell_type": "code",
   "execution_count": 87,
   "metadata": {},
   "outputs": [],
   "source": [
    "data1['Ticket']=le.fit_transform(data1['Ticket'])"
   ]
  },
  {
   "cell_type": "code",
   "execution_count": 88,
   "metadata": {},
   "outputs": [],
   "source": [
    "data1['Embarked']=le.fit_transform(data1['Embarked'])"
   ]
  },
  {
   "cell_type": "code",
   "execution_count": 89,
   "metadata": {},
   "outputs": [],
   "source": [
    "data1['Titles']=le.fit_transform(data1['Titles'])"
   ]
  },
  {
   "cell_type": "code",
   "execution_count": 90,
   "metadata": {},
   "outputs": [
    {
     "data": {
      "text/html": [
       "<div>\n",
       "<style scoped>\n",
       "    .dataframe tbody tr th:only-of-type {\n",
       "        vertical-align: middle;\n",
       "    }\n",
       "\n",
       "    .dataframe tbody tr th {\n",
       "        vertical-align: top;\n",
       "    }\n",
       "\n",
       "    .dataframe thead th {\n",
       "        text-align: right;\n",
       "    }\n",
       "</style>\n",
       "<table border=\"1\" class=\"dataframe\">\n",
       "  <thead>\n",
       "    <tr style=\"text-align: right;\">\n",
       "      <th></th>\n",
       "      <th>PassengerId</th>\n",
       "      <th>Survived</th>\n",
       "      <th>Pclass</th>\n",
       "      <th>Sex</th>\n",
       "      <th>Age</th>\n",
       "      <th>SibSp</th>\n",
       "      <th>Parch</th>\n",
       "      <th>Ticket</th>\n",
       "      <th>Fare</th>\n",
       "      <th>Embarked</th>\n",
       "      <th>Titles</th>\n",
       "    </tr>\n",
       "  </thead>\n",
       "  <tbody>\n",
       "    <tr>\n",
       "      <th>0</th>\n",
       "      <td>1</td>\n",
       "      <td>0</td>\n",
       "      <td>3</td>\n",
       "      <td>1</td>\n",
       "      <td>22.0</td>\n",
       "      <td>1</td>\n",
       "      <td>0</td>\n",
       "      <td>523</td>\n",
       "      <td>1.935438</td>\n",
       "      <td>2</td>\n",
       "      <td>11</td>\n",
       "    </tr>\n",
       "    <tr>\n",
       "      <th>1</th>\n",
       "      <td>2</td>\n",
       "      <td>1</td>\n",
       "      <td>1</td>\n",
       "      <td>0</td>\n",
       "      <td>38.0</td>\n",
       "      <td>1</td>\n",
       "      <td>0</td>\n",
       "      <td>596</td>\n",
       "      <td>4.146318</td>\n",
       "      <td>0</td>\n",
       "      <td>12</td>\n",
       "    </tr>\n",
       "    <tr>\n",
       "      <th>2</th>\n",
       "      <td>3</td>\n",
       "      <td>1</td>\n",
       "      <td>3</td>\n",
       "      <td>0</td>\n",
       "      <td>26.0</td>\n",
       "      <td>0</td>\n",
       "      <td>0</td>\n",
       "      <td>669</td>\n",
       "      <td>1.993730</td>\n",
       "      <td>2</td>\n",
       "      <td>8</td>\n",
       "    </tr>\n",
       "    <tr>\n",
       "      <th>3</th>\n",
       "      <td>4</td>\n",
       "      <td>1</td>\n",
       "      <td>1</td>\n",
       "      <td>0</td>\n",
       "      <td>35.0</td>\n",
       "      <td>1</td>\n",
       "      <td>0</td>\n",
       "      <td>49</td>\n",
       "      <td>3.758647</td>\n",
       "      <td>2</td>\n",
       "      <td>12</td>\n",
       "    </tr>\n",
       "    <tr>\n",
       "      <th>4</th>\n",
       "      <td>5</td>\n",
       "      <td>0</td>\n",
       "      <td>3</td>\n",
       "      <td>1</td>\n",
       "      <td>35.0</td>\n",
       "      <td>0</td>\n",
       "      <td>0</td>\n",
       "      <td>472</td>\n",
       "      <td>2.004158</td>\n",
       "      <td>2</td>\n",
       "      <td>11</td>\n",
       "    </tr>\n",
       "  </tbody>\n",
       "</table>\n",
       "</div>"
      ],
      "text/plain": [
       "   PassengerId  Survived  Pclass  Sex   Age  SibSp  Parch  Ticket      Fare  \\\n",
       "0            1         0       3    1  22.0      1      0     523  1.935438   \n",
       "1            2         1       1    0  38.0      1      0     596  4.146318   \n",
       "2            3         1       3    0  26.0      0      0     669  1.993730   \n",
       "3            4         1       1    0  35.0      1      0      49  3.758647   \n",
       "4            5         0       3    1  35.0      0      0     472  2.004158   \n",
       "\n",
       "   Embarked  Titles  \n",
       "0         2      11  \n",
       "1         0      12  \n",
       "2         2       8  \n",
       "3         2      12  \n",
       "4         2      11  "
      ]
     },
     "execution_count": 90,
     "metadata": {},
     "output_type": "execute_result"
    }
   ],
   "source": [
    "data1.head()"
   ]
  },
  {
   "cell_type": "code",
   "execution_count": null,
   "metadata": {},
   "outputs": [],
   "source": []
  },
  {
   "cell_type": "markdown",
   "metadata": {},
   "source": [
    "### Scaling"
   ]
  },
  {
   "cell_type": "markdown",
   "metadata": {},
   "source": [
    "# Splitting the dataset into training and testing"
   ]
  },
  {
   "cell_type": "code",
   "execution_count": 91,
   "metadata": {},
   "outputs": [
    {
     "data": {
      "text/html": [
       "<div>\n",
       "<style scoped>\n",
       "    .dataframe tbody tr th:only-of-type {\n",
       "        vertical-align: middle;\n",
       "    }\n",
       "\n",
       "    .dataframe tbody tr th {\n",
       "        vertical-align: top;\n",
       "    }\n",
       "\n",
       "    .dataframe thead th {\n",
       "        text-align: right;\n",
       "    }\n",
       "</style>\n",
       "<table border=\"1\" class=\"dataframe\">\n",
       "  <thead>\n",
       "    <tr style=\"text-align: right;\">\n",
       "      <th></th>\n",
       "      <th>PassengerId</th>\n",
       "      <th>Survived</th>\n",
       "      <th>Pclass</th>\n",
       "      <th>Sex</th>\n",
       "      <th>Age</th>\n",
       "      <th>SibSp</th>\n",
       "      <th>Parch</th>\n",
       "      <th>Ticket</th>\n",
       "      <th>Fare</th>\n",
       "      <th>Embarked</th>\n",
       "      <th>Titles</th>\n",
       "    </tr>\n",
       "  </thead>\n",
       "  <tbody>\n",
       "    <tr>\n",
       "      <th>0</th>\n",
       "      <td>1</td>\n",
       "      <td>0</td>\n",
       "      <td>3</td>\n",
       "      <td>1</td>\n",
       "      <td>22.0</td>\n",
       "      <td>1</td>\n",
       "      <td>0</td>\n",
       "      <td>523</td>\n",
       "      <td>1.935438</td>\n",
       "      <td>2</td>\n",
       "      <td>11</td>\n",
       "    </tr>\n",
       "    <tr>\n",
       "      <th>1</th>\n",
       "      <td>2</td>\n",
       "      <td>1</td>\n",
       "      <td>1</td>\n",
       "      <td>0</td>\n",
       "      <td>38.0</td>\n",
       "      <td>1</td>\n",
       "      <td>0</td>\n",
       "      <td>596</td>\n",
       "      <td>4.146318</td>\n",
       "      <td>0</td>\n",
       "      <td>12</td>\n",
       "    </tr>\n",
       "    <tr>\n",
       "      <th>2</th>\n",
       "      <td>3</td>\n",
       "      <td>1</td>\n",
       "      <td>3</td>\n",
       "      <td>0</td>\n",
       "      <td>26.0</td>\n",
       "      <td>0</td>\n",
       "      <td>0</td>\n",
       "      <td>669</td>\n",
       "      <td>1.993730</td>\n",
       "      <td>2</td>\n",
       "      <td>8</td>\n",
       "    </tr>\n",
       "    <tr>\n",
       "      <th>3</th>\n",
       "      <td>4</td>\n",
       "      <td>1</td>\n",
       "      <td>1</td>\n",
       "      <td>0</td>\n",
       "      <td>35.0</td>\n",
       "      <td>1</td>\n",
       "      <td>0</td>\n",
       "      <td>49</td>\n",
       "      <td>3.758647</td>\n",
       "      <td>2</td>\n",
       "      <td>12</td>\n",
       "    </tr>\n",
       "    <tr>\n",
       "      <th>4</th>\n",
       "      <td>5</td>\n",
       "      <td>0</td>\n",
       "      <td>3</td>\n",
       "      <td>1</td>\n",
       "      <td>35.0</td>\n",
       "      <td>0</td>\n",
       "      <td>0</td>\n",
       "      <td>472</td>\n",
       "      <td>2.004158</td>\n",
       "      <td>2</td>\n",
       "      <td>11</td>\n",
       "    </tr>\n",
       "    <tr>\n",
       "      <th>...</th>\n",
       "      <td>...</td>\n",
       "      <td>...</td>\n",
       "      <td>...</td>\n",
       "      <td>...</td>\n",
       "      <td>...</td>\n",
       "      <td>...</td>\n",
       "      <td>...</td>\n",
       "      <td>...</td>\n",
       "      <td>...</td>\n",
       "      <td>...</td>\n",
       "      <td>...</td>\n",
       "    </tr>\n",
       "    <tr>\n",
       "      <th>886</th>\n",
       "      <td>887</td>\n",
       "      <td>0</td>\n",
       "      <td>2</td>\n",
       "      <td>1</td>\n",
       "      <td>27.0</td>\n",
       "      <td>0</td>\n",
       "      <td>0</td>\n",
       "      <td>101</td>\n",
       "      <td>2.351335</td>\n",
       "      <td>2</td>\n",
       "      <td>14</td>\n",
       "    </tr>\n",
       "    <tr>\n",
       "      <th>887</th>\n",
       "      <td>888</td>\n",
       "      <td>1</td>\n",
       "      <td>1</td>\n",
       "      <td>0</td>\n",
       "      <td>19.0</td>\n",
       "      <td>0</td>\n",
       "      <td>0</td>\n",
       "      <td>14</td>\n",
       "      <td>3.107233</td>\n",
       "      <td>2</td>\n",
       "      <td>8</td>\n",
       "    </tr>\n",
       "    <tr>\n",
       "      <th>888</th>\n",
       "      <td>889</td>\n",
       "      <td>0</td>\n",
       "      <td>3</td>\n",
       "      <td>0</td>\n",
       "      <td>28.0</td>\n",
       "      <td>1</td>\n",
       "      <td>2</td>\n",
       "      <td>675</td>\n",
       "      <td>2.862294</td>\n",
       "      <td>2</td>\n",
       "      <td>8</td>\n",
       "    </tr>\n",
       "    <tr>\n",
       "      <th>889</th>\n",
       "      <td>890</td>\n",
       "      <td>1</td>\n",
       "      <td>1</td>\n",
       "      <td>1</td>\n",
       "      <td>26.0</td>\n",
       "      <td>0</td>\n",
       "      <td>0</td>\n",
       "      <td>8</td>\n",
       "      <td>3.107233</td>\n",
       "      <td>0</td>\n",
       "      <td>11</td>\n",
       "    </tr>\n",
       "    <tr>\n",
       "      <th>890</th>\n",
       "      <td>891</td>\n",
       "      <td>0</td>\n",
       "      <td>3</td>\n",
       "      <td>1</td>\n",
       "      <td>32.0</td>\n",
       "      <td>0</td>\n",
       "      <td>0</td>\n",
       "      <td>466</td>\n",
       "      <td>1.978946</td>\n",
       "      <td>1</td>\n",
       "      <td>11</td>\n",
       "    </tr>\n",
       "  </tbody>\n",
       "</table>\n",
       "<p>891 rows × 11 columns</p>\n",
       "</div>"
      ],
      "text/plain": [
       "     PassengerId  Survived  Pclass  Sex   Age  SibSp  Parch  Ticket      Fare  \\\n",
       "0              1         0       3    1  22.0      1      0     523  1.935438   \n",
       "1              2         1       1    0  38.0      1      0     596  4.146318   \n",
       "2              3         1       3    0  26.0      0      0     669  1.993730   \n",
       "3              4         1       1    0  35.0      1      0      49  3.758647   \n",
       "4              5         0       3    1  35.0      0      0     472  2.004158   \n",
       "..           ...       ...     ...  ...   ...    ...    ...     ...       ...   \n",
       "886          887         0       2    1  27.0      0      0     101  2.351335   \n",
       "887          888         1       1    0  19.0      0      0      14  3.107233   \n",
       "888          889         0       3    0  28.0      1      2     675  2.862294   \n",
       "889          890         1       1    1  26.0      0      0       8  3.107233   \n",
       "890          891         0       3    1  32.0      0      0     466  1.978946   \n",
       "\n",
       "     Embarked  Titles  \n",
       "0           2      11  \n",
       "1           0      12  \n",
       "2           2       8  \n",
       "3           2      12  \n",
       "4           2      11  \n",
       "..        ...     ...  \n",
       "886         2      14  \n",
       "887         2       8  \n",
       "888         2       8  \n",
       "889         0      11  \n",
       "890         1      11  \n",
       "\n",
       "[891 rows x 11 columns]"
      ]
     },
     "execution_count": 91,
     "metadata": {},
     "output_type": "execute_result"
    }
   ],
   "source": [
    "data1"
   ]
  },
  {
   "cell_type": "code",
   "execution_count": 92,
   "metadata": {},
   "outputs": [],
   "source": [
    "x=data1.drop('Survived',axis=1)\n",
    "y=data1['Survived']"
   ]
  },
  {
   "cell_type": "code",
   "execution_count": 93,
   "metadata": {},
   "outputs": [
    {
     "name": "stdout",
     "output_type": "stream",
     "text": [
      "(891, 10)\n",
      "(891,)\n"
     ]
    }
   ],
   "source": [
    "print(x.shape)\n",
    "print(y.shape)"
   ]
  },
  {
   "cell_type": "markdown",
   "metadata": {},
   "source": [
    "# Finding the best random state"
   ]
  },
  {
   "cell_type": "code",
   "execution_count": null,
   "metadata": {},
   "outputs": [],
   "source": []
  },
  {
   "cell_type": "code",
   "execution_count": 94,
   "metadata": {
    "scrolled": true
   },
   "outputs": [
    {
     "name": "stdout",
     "output_type": "stream",
     "text": [
      "Best Accuracy is  0.8542372881355932  at random state  196\n"
     ]
    }
   ],
   "source": [
    "from sklearn.model_selection import train_test_split\n",
    "from sklearn.linear_model import LogisticRegression\n",
    "from sklearn.metrics import accuracy_score\n",
    "maxAccu=0\n",
    "maxRS=0\n",
    "for i in range(1,200):\n",
    "    x_train,x_test,y_train,y_test=train_test_split(x,y,test_size=.33,random_state=i)\n",
    "    LR = LogisticRegression()\n",
    "    LR.fit(x_train,y_train)\n",
    "    predrf=LR.predict(x_test)\n",
    "    acc=accuracy_score(y_test,predrf)\n",
    "    if acc>maxAccu:\n",
    "        maxAccu=acc\n",
    "        maxRs=i\n",
    "print(\"Best Accuracy is \",maxAccu,\" at random state \",maxRs)"
   ]
  },
  {
   "cell_type": "markdown",
   "metadata": {},
   "source": [
    "# Model Building"
   ]
  },
  {
   "cell_type": "code",
   "execution_count": 95,
   "metadata": {},
   "outputs": [],
   "source": [
    "x_train,x_test,y_train,y_test=train_test_split(x,y,test_size=.33,random_state=196)"
   ]
  },
  {
   "cell_type": "code",
   "execution_count": 96,
   "metadata": {},
   "outputs": [],
   "source": [
    "#scaling the data\n",
    "from sklearn.preprocessing import StandardScaler\n",
    "\n",
    "s = StandardScaler()\n",
    "\n",
    "x_train = s.fit_transform(x_train)\n",
    "x_test = s.transform(x_test)"
   ]
  },
  {
   "cell_type": "markdown",
   "metadata": {},
   "source": [
    "# Logistic Regression"
   ]
  },
  {
   "cell_type": "code",
   "execution_count": 97,
   "metadata": {},
   "outputs": [],
   "source": [
    "from sklearn.linear_model import LogisticRegression\n",
    "from sklearn.metrics import confusion_matrix , accuracy_score, roc_auc_score,roc_curve,classification_report"
   ]
  },
  {
   "cell_type": "code",
   "execution_count": 98,
   "metadata": {},
   "outputs": [
    {
     "name": "stdout",
     "output_type": "stream",
     "text": [
      "Accuracy_score: 0.8338983050847457\n"
     ]
    }
   ],
   "source": [
    "lr = LogisticRegression()\n",
    "lr.fit(x_train,y_train)\n",
    "\n",
    "pred_lr = lr.predict(x_test)\n",
    "\n",
    "print('Accuracy_score:',accuracy_score(y_test,pred_lr))"
   ]
  },
  {
   "cell_type": "code",
   "execution_count": 99,
   "metadata": {},
   "outputs": [
    {
     "name": "stdout",
     "output_type": "stream",
     "text": [
      "[0.61666667 0.76666667 0.78333333 0.75       0.78333333 0.81666667\n",
      " 0.84745763 0.84745763 0.83050847 0.6779661 ]\n",
      "\n",
      " The mean score we got from 10-Fold CV: 0.7720056497175142\n"
     ]
    }
   ],
   "source": [
    "# cross validation\n",
    "from sklearn.model_selection import cross_val_score\n",
    "\n",
    "score_cv = cross_val_score(lr, x_train, y_train, cv=10)\n",
    "print(score_cv)\n",
    "\n",
    "print('\\n The mean score we got from 10-Fold CV:',np.mean(score_cv))"
   ]
  },
  {
   "cell_type": "code",
   "execution_count": 100,
   "metadata": {},
   "outputs": [
    {
     "name": "stdout",
     "output_type": "stream",
     "text": [
      "              precision    recall  f1-score   support\n",
      "\n",
      "           0       0.85      0.88      0.87       182\n",
      "           1       0.80      0.75      0.78       113\n",
      "\n",
      "    accuracy                           0.83       295\n",
      "   macro avg       0.83      0.82      0.82       295\n",
      "weighted avg       0.83      0.83      0.83       295\n",
      "\n"
     ]
    }
   ],
   "source": [
    "#Classification Report\n",
    "\n",
    "print(classification_report(y_test,pred_lr))"
   ]
  },
  {
   "cell_type": "markdown",
   "metadata": {},
   "source": [
    "# AUC Score"
   ]
  },
  {
   "cell_type": "code",
   "execution_count": 101,
   "metadata": {},
   "outputs": [
    {
     "name": "stdout",
     "output_type": "stream",
     "text": [
      "AUC: 0.8997860546533113\n"
     ]
    }
   ],
   "source": [
    "y_test_prob = lr.predict_proba(x_test)[:,1]\n",
    "\n",
    "print('AUC:',roc_auc_score(y_test,y_test_prob))"
   ]
  },
  {
   "cell_type": "markdown",
   "metadata": {},
   "source": [
    "# AUC Curve"
   ]
  },
  {
   "cell_type": "code",
   "execution_count": 102,
   "metadata": {},
   "outputs": [],
   "source": [
    "fpr,tpr,thresholds = roc_curve(y_test,y_test_prob) #thresholds here are the cutoffs"
   ]
  },
  {
   "cell_type": "code",
   "execution_count": 103,
   "metadata": {},
   "outputs": [
    {
     "data": {
      "image/png": "[encoded data removed]",
      "text/plain": [
       "<Figure size 432x288 with 1 Axes>"
      ]
     },
     "metadata": {
      "needs_background": "light"
     },
     "output_type": "display_data"
    }
   ],
   "source": [
    "plt.plot(fpr,tpr,'r')\n",
    "plt.plot(fpr,fpr,'g')\n",
    "plt.xlabel('FPR')\n",
    "plt.ylabel('TPR')\n",
    "plt.show()"
   ]
  },
  {
   "cell_type": "code",
   "execution_count": null,
   "metadata": {},
   "outputs": [],
   "source": []
  }
 ],
 "metadata": {
  "kernelspec": {
   "display_name": "Python 3",
   "language": "python",
   "name": "python3"
  },
  "language_info": {
   "codemirror_mode": {
    "name": "ipython",
    "version": 3
   },
   "file_extension": ".py",
   "mimetype": "text/x-python",
   "name": "python",
   "nbconvert_exporter": "python",
   "pygments_lexer": "ipython3",
   "version": "3.8.5"
  }
 },
 "nbformat": 4,
 "nbformat_minor": 4
}
