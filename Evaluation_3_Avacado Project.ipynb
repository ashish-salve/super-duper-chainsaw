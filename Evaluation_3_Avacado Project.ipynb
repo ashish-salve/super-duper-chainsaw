{
 "cells": [
  {
   "cell_type": "markdown",
   "metadata": {},
   "source": [
    "## Problem Statement:\n",
    "Avocado is a fruit consumed by people heavily in the United States. \n",
    "\n",
    "#### Content:\n",
    "    \n",
    "    This data was downloaded from the Hass Avocado Board website in May of 2018 & compiled into a single CSV. \n",
    "\n",
    "    The table below represents weekly 2018 retail scan data for National retail volume (units) and price. Retail scan data comes directly from retailers’ cash registers based on actual retail sales of Hass avocados. \n",
    "\n",
    "    Starting in 2013, the table below reflects an expanded, multi-outlet retail data set. Multi-outlet reporting includes an aggregation of the following channels: grocery, mass, club, drug, dollar and military. The Average Price (of avocados) in the table reflects a per unit (per avocado) cost, even when multiple units (avocados) are sold in bags. \n",
    "\n",
    "    The Product Lookup codes (PLU’s) in the table are only for Hass avocados. Other varieties of avocados (e.g. greenskins) are not included in this table.\n",
    "\n",
    "#### Some relevant columns in the dataset:\n",
    "\n",
    "Date - The date of the observation\n",
    "\n",
    "AveragePrice - the average price of a single avocado\n",
    "\n",
    "type - conventional or organic\n",
    "\n",
    "year - the year\n",
    "\n",
    "Region - the city or region of the observation\n",
    "\n",
    "Total Volume - Total number of avocados sold\n",
    "\n",
    "4046 - Total number of avocados with PLU 4046 sold\n",
    "\n",
    "4225 - Total number of avocados with PLU 4225 sold\n",
    "\n",
    "4770 - Total number of avocados with PLU 4770 sold\n",
    "\n",
    "\n",
    "#### Inspiration /Label \n",
    "\n",
    "Your task is to make a model that can consider the data provided and predict the Average Price."
   ]
  },
  {
   "cell_type": "code",
   "execution_count": 170,
   "metadata": {},
   "outputs": [],
   "source": [
    "# Data Wrangling and analytics libraries\n",
    "import pandas as pd\n",
    "import numpy as np\n",
    "\n",
    "# Data Visualization libraries\n",
    "import matplotlib.pyplot as plt\n",
    "import seaborn as sn\n",
    "\n",
    "# ignore warnings\n",
    "import warnings\n",
    "warnings.filterwarnings('ignore')\n",
    "\n",
    "# to remove outliers\n",
    "from scipy.stats import zscore\n",
    "\n",
    "#for label encoding of categorical features\n",
    "from sklearn.preprocessing import LabelEncoder\n",
    "\n",
    "# PCA\n",
    "from sklearn.decomposition import PCA\n",
    "\n",
    "from sklearn.model_selection import train_test_split\n",
    "\n",
    "#stanrdization\n",
    "from sklearn.preprocessing import StandardScaler\n",
    "\n",
    "# Linear regression\n",
    "from sklearn.linear_model import LinearRegression\n",
    "\n",
    "# metrics\n",
    "from sklearn.metrics import r2_score,mean_squared_error,mean_absolute_error\n",
    "\n",
    "# Decision Tree Regressor\n",
    "from sklearn.tree import DecisionTreeRegressor\n",
    "\n",
    "# Random Forest Regressor\n",
    "from sklearn.ensemble import RandomForestRegressor"
   ]
  },
  {
   "cell_type": "markdown",
   "metadata": {},
   "source": [
    "### Loading the Dataset"
   ]
  },
  {
   "cell_type": "code",
   "execution_count": 2,
   "metadata": {},
   "outputs": [
    {
     "data": {
      "text/html": [
       "<div>\n",
       "<style scoped>\n",
       "    .dataframe tbody tr th:only-of-type {\n",
       "        vertical-align: middle;\n",
       "    }\n",
       "\n",
       "    .dataframe tbody tr th {\n",
       "        vertical-align: top;\n",
       "    }\n",
       "\n",
       "    .dataframe thead th {\n",
       "        text-align: right;\n",
       "    }\n",
       "</style>\n",
       "<table border=\"1\" class=\"dataframe\">\n",
       "  <thead>\n",
       "    <tr style=\"text-align: right;\">\n",
       "      <th></th>\n",
       "      <th>Unnamed: 0</th>\n",
       "      <th>Date</th>\n",
       "      <th>AveragePrice</th>\n",
       "      <th>Total Volume</th>\n",
       "      <th>4046</th>\n",
       "      <th>4225</th>\n",
       "      <th>4770</th>\n",
       "      <th>Total Bags</th>\n",
       "      <th>Small Bags</th>\n",
       "      <th>Large Bags</th>\n",
       "      <th>XLarge Bags</th>\n",
       "      <th>type</th>\n",
       "      <th>year</th>\n",
       "      <th>region</th>\n",
       "    </tr>\n",
       "  </thead>\n",
       "  <tbody>\n",
       "    <tr>\n",
       "      <th>0</th>\n",
       "      <td>0.0</td>\n",
       "      <td>27-12-2015</td>\n",
       "      <td>1.33</td>\n",
       "      <td>64236.62</td>\n",
       "      <td>1036.74</td>\n",
       "      <td>54454.85</td>\n",
       "      <td>48.16</td>\n",
       "      <td>8696.87</td>\n",
       "      <td>8603.62</td>\n",
       "      <td>93.25</td>\n",
       "      <td>0.0</td>\n",
       "      <td>conventional</td>\n",
       "      <td>2015.0</td>\n",
       "      <td>Albany</td>\n",
       "    </tr>\n",
       "    <tr>\n",
       "      <th>1</th>\n",
       "      <td>1.0</td>\n",
       "      <td>20-12-2015</td>\n",
       "      <td>1.35</td>\n",
       "      <td>54876.98</td>\n",
       "      <td>674.28</td>\n",
       "      <td>44638.81</td>\n",
       "      <td>58.33</td>\n",
       "      <td>9505.56</td>\n",
       "      <td>9408.07</td>\n",
       "      <td>97.49</td>\n",
       "      <td>0.0</td>\n",
       "      <td>conventional</td>\n",
       "      <td>2015.0</td>\n",
       "      <td>Albany</td>\n",
       "    </tr>\n",
       "    <tr>\n",
       "      <th>2</th>\n",
       "      <td>2.0</td>\n",
       "      <td>13-12-2015</td>\n",
       "      <td>0.93</td>\n",
       "      <td>118220.22</td>\n",
       "      <td>794.70</td>\n",
       "      <td>109149.67</td>\n",
       "      <td>130.50</td>\n",
       "      <td>8145.35</td>\n",
       "      <td>8042.21</td>\n",
       "      <td>103.14</td>\n",
       "      <td>0.0</td>\n",
       "      <td>conventional</td>\n",
       "      <td>2015.0</td>\n",
       "      <td>Albany</td>\n",
       "    </tr>\n",
       "    <tr>\n",
       "      <th>3</th>\n",
       "      <td>3.0</td>\n",
       "      <td>06-12-2015</td>\n",
       "      <td>1.08</td>\n",
       "      <td>78992.15</td>\n",
       "      <td>1132.00</td>\n",
       "      <td>71976.41</td>\n",
       "      <td>72.58</td>\n",
       "      <td>5811.16</td>\n",
       "      <td>5677.40</td>\n",
       "      <td>133.76</td>\n",
       "      <td>0.0</td>\n",
       "      <td>conventional</td>\n",
       "      <td>2015.0</td>\n",
       "      <td>Albany</td>\n",
       "    </tr>\n",
       "    <tr>\n",
       "      <th>4</th>\n",
       "      <td>4.0</td>\n",
       "      <td>29-11-2015</td>\n",
       "      <td>1.28</td>\n",
       "      <td>51039.60</td>\n",
       "      <td>941.48</td>\n",
       "      <td>43838.39</td>\n",
       "      <td>75.78</td>\n",
       "      <td>6183.95</td>\n",
       "      <td>5986.26</td>\n",
       "      <td>197.69</td>\n",
       "      <td>0.0</td>\n",
       "      <td>conventional</td>\n",
       "      <td>2015.0</td>\n",
       "      <td>Albany</td>\n",
       "    </tr>\n",
       "  </tbody>\n",
       "</table>\n",
       "</div>"
      ],
      "text/plain": [
       "   Unnamed: 0        Date  AveragePrice  Total Volume     4046       4225  \\\n",
       "0         0.0  27-12-2015          1.33      64236.62  1036.74   54454.85   \n",
       "1         1.0  20-12-2015          1.35      54876.98   674.28   44638.81   \n",
       "2         2.0  13-12-2015          0.93     118220.22   794.70  109149.67   \n",
       "3         3.0  06-12-2015          1.08      78992.15  1132.00   71976.41   \n",
       "4         4.0  29-11-2015          1.28      51039.60   941.48   43838.39   \n",
       "\n",
       "     4770  Total Bags  Small Bags  Large Bags  XLarge Bags          type  \\\n",
       "0   48.16     8696.87     8603.62       93.25          0.0  conventional   \n",
       "1   58.33     9505.56     9408.07       97.49          0.0  conventional   \n",
       "2  130.50     8145.35     8042.21      103.14          0.0  conventional   \n",
       "3   72.58     5811.16     5677.40      133.76          0.0  conventional   \n",
       "4   75.78     6183.95     5986.26      197.69          0.0  conventional   \n",
       "\n",
       "     year  region  \n",
       "0  2015.0  Albany  \n",
       "1  2015.0  Albany  \n",
       "2  2015.0  Albany  \n",
       "3  2015.0  Albany  \n",
       "4  2015.0  Albany  "
      ]
     },
     "execution_count": 2,
     "metadata": {},
     "output_type": "execute_result"
    }
   ],
   "source": [
    "data1=pd.read_csv('avacado.csv')\n",
    "data1.head()"
   ]
  },
  {
   "cell_type": "markdown",
   "metadata": {},
   "source": [
    "### Dropping the 'Unnamed: 0' index column from csv file"
   ]
  },
  {
   "cell_type": "code",
   "execution_count": null,
   "metadata": {},
   "outputs": [],
   "source": [
    "data1.drop('Unnamed: 0',axis=1,inplace=True)\n",
    "data1.head()"
   ]
  },
  {
   "cell_type": "markdown",
   "metadata": {},
   "source": [
    "### Checking the dimensionality"
   ]
  },
  {
   "cell_type": "code",
   "execution_count": 5,
   "metadata": {},
   "outputs": [
    {
     "data": {
      "text/plain": [
       "(16468, 13)"
      ]
     },
     "execution_count": 5,
     "metadata": {},
     "output_type": "execute_result"
    }
   ],
   "source": [
    "data1.shape"
   ]
  },
  {
   "cell_type": "markdown",
   "metadata": {},
   "source": [
    "### Checking for duplicates"
   ]
  },
  {
   "cell_type": "code",
   "execution_count": 6,
   "metadata": {},
   "outputs": [],
   "source": [
    "data1_dup=data1[data1.duplicated()]"
   ]
  },
  {
   "cell_type": "code",
   "execution_count": 7,
   "metadata": {},
   "outputs": [
    {
     "data": {
      "text/html": [
       "<div>\n",
       "<style scoped>\n",
       "    .dataframe tbody tr th:only-of-type {\n",
       "        vertical-align: middle;\n",
       "    }\n",
       "\n",
       "    .dataframe tbody tr th {\n",
       "        vertical-align: top;\n",
       "    }\n",
       "\n",
       "    .dataframe thead th {\n",
       "        text-align: right;\n",
       "    }\n",
       "</style>\n",
       "<table border=\"1\" class=\"dataframe\">\n",
       "  <thead>\n",
       "    <tr style=\"text-align: right;\">\n",
       "      <th></th>\n",
       "      <th>Date</th>\n",
       "      <th>AveragePrice</th>\n",
       "      <th>Total Volume</th>\n",
       "      <th>4046</th>\n",
       "      <th>4225</th>\n",
       "      <th>4770</th>\n",
       "      <th>Total Bags</th>\n",
       "      <th>Small Bags</th>\n",
       "      <th>Large Bags</th>\n",
       "      <th>XLarge Bags</th>\n",
       "      <th>type</th>\n",
       "      <th>year</th>\n",
       "      <th>region</th>\n",
       "    </tr>\n",
       "  </thead>\n",
       "  <tbody>\n",
       "    <tr>\n",
       "      <th>1518</th>\n",
       "      <td>NaN</td>\n",
       "      <td>NaN</td>\n",
       "      <td>NaN</td>\n",
       "      <td>NaN</td>\n",
       "      <td>NaN</td>\n",
       "      <td>NaN</td>\n",
       "      <td>NaN</td>\n",
       "      <td>NaN</td>\n",
       "      <td>NaN</td>\n",
       "      <td>NaN</td>\n",
       "      <td>NaN</td>\n",
       "      <td>NaN</td>\n",
       "      <td>NaN</td>\n",
       "    </tr>\n",
       "    <tr>\n",
       "      <th>1519</th>\n",
       "      <td>NaN</td>\n",
       "      <td>NaN</td>\n",
       "      <td>NaN</td>\n",
       "      <td>NaN</td>\n",
       "      <td>NaN</td>\n",
       "      <td>NaN</td>\n",
       "      <td>NaN</td>\n",
       "      <td>NaN</td>\n",
       "      <td>NaN</td>\n",
       "      <td>NaN</td>\n",
       "      <td>NaN</td>\n",
       "      <td>NaN</td>\n",
       "      <td>NaN</td>\n",
       "    </tr>\n",
       "    <tr>\n",
       "      <th>1520</th>\n",
       "      <td>NaN</td>\n",
       "      <td>NaN</td>\n",
       "      <td>NaN</td>\n",
       "      <td>NaN</td>\n",
       "      <td>NaN</td>\n",
       "      <td>NaN</td>\n",
       "      <td>NaN</td>\n",
       "      <td>NaN</td>\n",
       "      <td>NaN</td>\n",
       "      <td>NaN</td>\n",
       "      <td>NaN</td>\n",
       "      <td>NaN</td>\n",
       "      <td>NaN</td>\n",
       "    </tr>\n",
       "    <tr>\n",
       "      <th>1521</th>\n",
       "      <td>NaN</td>\n",
       "      <td>NaN</td>\n",
       "      <td>NaN</td>\n",
       "      <td>NaN</td>\n",
       "      <td>NaN</td>\n",
       "      <td>NaN</td>\n",
       "      <td>NaN</td>\n",
       "      <td>NaN</td>\n",
       "      <td>NaN</td>\n",
       "      <td>NaN</td>\n",
       "      <td>NaN</td>\n",
       "      <td>NaN</td>\n",
       "      <td>NaN</td>\n",
       "    </tr>\n",
       "    <tr>\n",
       "      <th>1522</th>\n",
       "      <td>NaN</td>\n",
       "      <td>NaN</td>\n",
       "      <td>NaN</td>\n",
       "      <td>NaN</td>\n",
       "      <td>NaN</td>\n",
       "      <td>NaN</td>\n",
       "      <td>NaN</td>\n",
       "      <td>NaN</td>\n",
       "      <td>NaN</td>\n",
       "      <td>NaN</td>\n",
       "      <td>NaN</td>\n",
       "      <td>NaN</td>\n",
       "      <td>NaN</td>\n",
       "    </tr>\n",
       "    <tr>\n",
       "      <th>...</th>\n",
       "      <td>...</td>\n",
       "      <td>...</td>\n",
       "      <td>...</td>\n",
       "      <td>...</td>\n",
       "      <td>...</td>\n",
       "      <td>...</td>\n",
       "      <td>...</td>\n",
       "      <td>...</td>\n",
       "      <td>...</td>\n",
       "      <td>...</td>\n",
       "      <td>...</td>\n",
       "      <td>...</td>\n",
       "      <td>...</td>\n",
       "    </tr>\n",
       "    <tr>\n",
       "      <th>16463</th>\n",
       "      <td>NaN</td>\n",
       "      <td>NaN</td>\n",
       "      <td>NaN</td>\n",
       "      <td>NaN</td>\n",
       "      <td>NaN</td>\n",
       "      <td>NaN</td>\n",
       "      <td>NaN</td>\n",
       "      <td>NaN</td>\n",
       "      <td>NaN</td>\n",
       "      <td>NaN</td>\n",
       "      <td>NaN</td>\n",
       "      <td>NaN</td>\n",
       "      <td>NaN</td>\n",
       "    </tr>\n",
       "    <tr>\n",
       "      <th>16464</th>\n",
       "      <td>NaN</td>\n",
       "      <td>NaN</td>\n",
       "      <td>NaN</td>\n",
       "      <td>NaN</td>\n",
       "      <td>NaN</td>\n",
       "      <td>NaN</td>\n",
       "      <td>NaN</td>\n",
       "      <td>NaN</td>\n",
       "      <td>NaN</td>\n",
       "      <td>NaN</td>\n",
       "      <td>NaN</td>\n",
       "      <td>NaN</td>\n",
       "      <td>NaN</td>\n",
       "    </tr>\n",
       "    <tr>\n",
       "      <th>16465</th>\n",
       "      <td>NaN</td>\n",
       "      <td>NaN</td>\n",
       "      <td>NaN</td>\n",
       "      <td>NaN</td>\n",
       "      <td>NaN</td>\n",
       "      <td>NaN</td>\n",
       "      <td>NaN</td>\n",
       "      <td>NaN</td>\n",
       "      <td>NaN</td>\n",
       "      <td>NaN</td>\n",
       "      <td>NaN</td>\n",
       "      <td>NaN</td>\n",
       "      <td>NaN</td>\n",
       "    </tr>\n",
       "    <tr>\n",
       "      <th>16466</th>\n",
       "      <td>NaN</td>\n",
       "      <td>NaN</td>\n",
       "      <td>NaN</td>\n",
       "      <td>NaN</td>\n",
       "      <td>NaN</td>\n",
       "      <td>NaN</td>\n",
       "      <td>NaN</td>\n",
       "      <td>NaN</td>\n",
       "      <td>NaN</td>\n",
       "      <td>NaN</td>\n",
       "      <td>NaN</td>\n",
       "      <td>NaN</td>\n",
       "      <td>NaN</td>\n",
       "    </tr>\n",
       "    <tr>\n",
       "      <th>16467</th>\n",
       "      <td>NaN</td>\n",
       "      <td>NaN</td>\n",
       "      <td>NaN</td>\n",
       "      <td>NaN</td>\n",
       "      <td>NaN</td>\n",
       "      <td>NaN</td>\n",
       "      <td>NaN</td>\n",
       "      <td>NaN</td>\n",
       "      <td>NaN</td>\n",
       "      <td>NaN</td>\n",
       "      <td>NaN</td>\n",
       "      <td>NaN</td>\n",
       "      <td>NaN</td>\n",
       "    </tr>\n",
       "  </tbody>\n",
       "</table>\n",
       "<p>14950 rows × 13 columns</p>\n",
       "</div>"
      ],
      "text/plain": [
       "      Date  AveragePrice  Total Volume  4046  4225  4770  Total Bags  \\\n",
       "1518   NaN           NaN           NaN   NaN   NaN   NaN         NaN   \n",
       "1519   NaN           NaN           NaN   NaN   NaN   NaN         NaN   \n",
       "1520   NaN           NaN           NaN   NaN   NaN   NaN         NaN   \n",
       "1521   NaN           NaN           NaN   NaN   NaN   NaN         NaN   \n",
       "1522   NaN           NaN           NaN   NaN   NaN   NaN         NaN   \n",
       "...    ...           ...           ...   ...   ...   ...         ...   \n",
       "16463  NaN           NaN           NaN   NaN   NaN   NaN         NaN   \n",
       "16464  NaN           NaN           NaN   NaN   NaN   NaN         NaN   \n",
       "16465  NaN           NaN           NaN   NaN   NaN   NaN         NaN   \n",
       "16466  NaN           NaN           NaN   NaN   NaN   NaN         NaN   \n",
       "16467  NaN           NaN           NaN   NaN   NaN   NaN         NaN   \n",
       "\n",
       "       Small Bags  Large Bags  XLarge Bags type  year region  \n",
       "1518          NaN         NaN          NaN  NaN   NaN    NaN  \n",
       "1519          NaN         NaN          NaN  NaN   NaN    NaN  \n",
       "1520          NaN         NaN          NaN  NaN   NaN    NaN  \n",
       "1521          NaN         NaN          NaN  NaN   NaN    NaN  \n",
       "1522          NaN         NaN          NaN  NaN   NaN    NaN  \n",
       "...           ...         ...          ...  ...   ...    ...  \n",
       "16463         NaN         NaN          NaN  NaN   NaN    NaN  \n",
       "16464         NaN         NaN          NaN  NaN   NaN    NaN  \n",
       "16465         NaN         NaN          NaN  NaN   NaN    NaN  \n",
       "16466         NaN         NaN          NaN  NaN   NaN    NaN  \n",
       "16467         NaN         NaN          NaN  NaN   NaN    NaN  \n",
       "\n",
       "[14950 rows x 13 columns]"
      ]
     },
     "execution_count": 7,
     "metadata": {},
     "output_type": "execute_result"
    }
   ],
   "source": [
    "data1_dup"
   ]
  },
  {
   "cell_type": "markdown",
   "metadata": {},
   "source": [
    "### Checking for Null values"
   ]
  },
  {
   "cell_type": "code",
   "execution_count": 8,
   "metadata": {},
   "outputs": [
    {
     "data": {
      "text/plain": [
       "Date            14951\n",
       "AveragePrice    14951\n",
       "Total Volume    14951\n",
       "4046            14951\n",
       "4225            14951\n",
       "4770            14951\n",
       "Total Bags      14951\n",
       "Small Bags      14951\n",
       "Large Bags      14951\n",
       "XLarge Bags     14951\n",
       "type            14951\n",
       "year            14951\n",
       "region          14951\n",
       "dtype: int64"
      ]
     },
     "execution_count": 8,
     "metadata": {},
     "output_type": "execute_result"
    }
   ],
   "source": [
    "data1.isnull().sum()"
   ]
  },
  {
   "cell_type": "code",
   "execution_count": 9,
   "metadata": {},
   "outputs": [
    {
     "name": "stdout",
     "output_type": "stream",
     "text": [
      "%ge of Null values in the dataset =  90.78819528783094\n"
     ]
    }
   ],
   "source": [
    "print(\"%ge of Null values in the dataset = \",(14951/16468)*100)"
   ]
  },
  {
   "cell_type": "markdown",
   "metadata": {},
   "source": [
    "#### These many % ge of Null values in each column means these are accidental and we can remove these null values."
   ]
  },
  {
   "cell_type": "code",
   "execution_count": 10,
   "metadata": {},
   "outputs": [],
   "source": [
    "data2=data1.dropna()\n",
    "data2=data2.reset_index(drop=True)"
   ]
  },
  {
   "cell_type": "code",
   "execution_count": 11,
   "metadata": {},
   "outputs": [
    {
     "data": {
      "text/plain": [
       "(1517, 13)"
      ]
     },
     "execution_count": 11,
     "metadata": {},
     "output_type": "execute_result"
    }
   ],
   "source": [
    "data2.shape"
   ]
  },
  {
   "cell_type": "markdown",
   "metadata": {},
   "source": [
    "### For further processes, we will use 'data2' dataframe."
   ]
  },
  {
   "cell_type": "markdown",
   "metadata": {},
   "source": [
    "### Dataset Description"
   ]
  },
  {
   "cell_type": "code",
   "execution_count": 12,
   "metadata": {},
   "outputs": [
    {
     "name": "stdout",
     "output_type": "stream",
     "text": [
      "<class 'pandas.core.frame.DataFrame'>\n",
      "RangeIndex: 1517 entries, 0 to 1516\n",
      "Data columns (total 13 columns):\n",
      " #   Column        Non-Null Count  Dtype  \n",
      "---  ------        --------------  -----  \n",
      " 0   Date          1517 non-null   object \n",
      " 1   AveragePrice  1517 non-null   float64\n",
      " 2   Total Volume  1517 non-null   float64\n",
      " 3   4046          1517 non-null   float64\n",
      " 4   4225          1517 non-null   float64\n",
      " 5   4770          1517 non-null   float64\n",
      " 6   Total Bags    1517 non-null   float64\n",
      " 7   Small Bags    1517 non-null   float64\n",
      " 8   Large Bags    1517 non-null   float64\n",
      " 9   XLarge Bags   1517 non-null   float64\n",
      " 10  type          1517 non-null   object \n",
      " 11  year          1517 non-null   float64\n",
      " 12  region        1517 non-null   object \n",
      "dtypes: float64(10), object(3)\n",
      "memory usage: 154.2+ KB\n"
     ]
    }
   ],
   "source": [
    "data2.info()"
   ]
  },
  {
   "cell_type": "code",
   "execution_count": 13,
   "metadata": {},
   "outputs": [
    {
     "data": {
      "text/html": [
       "<div>\n",
       "<style scoped>\n",
       "    .dataframe tbody tr th:only-of-type {\n",
       "        vertical-align: middle;\n",
       "    }\n",
       "\n",
       "    .dataframe tbody tr th {\n",
       "        vertical-align: top;\n",
       "    }\n",
       "\n",
       "    .dataframe thead th {\n",
       "        text-align: right;\n",
       "    }\n",
       "</style>\n",
       "<table border=\"1\" class=\"dataframe\">\n",
       "  <thead>\n",
       "    <tr style=\"text-align: right;\">\n",
       "      <th></th>\n",
       "      <th>AveragePrice</th>\n",
       "      <th>Total Volume</th>\n",
       "      <th>4046</th>\n",
       "      <th>4225</th>\n",
       "      <th>4770</th>\n",
       "      <th>Total Bags</th>\n",
       "      <th>Small Bags</th>\n",
       "      <th>Large Bags</th>\n",
       "      <th>XLarge Bags</th>\n",
       "      <th>year</th>\n",
       "    </tr>\n",
       "  </thead>\n",
       "  <tbody>\n",
       "    <tr>\n",
       "      <th>count</th>\n",
       "      <td>1517.000000</td>\n",
       "      <td>1.517000e+03</td>\n",
       "      <td>1.517000e+03</td>\n",
       "      <td>1.517000e+03</td>\n",
       "      <td>1.517000e+03</td>\n",
       "      <td>1.517000e+03</td>\n",
       "      <td>1.517000e+03</td>\n",
       "      <td>1.517000e+03</td>\n",
       "      <td>1517.000000</td>\n",
       "      <td>1517.000000</td>\n",
       "    </tr>\n",
       "    <tr>\n",
       "      <th>mean</th>\n",
       "      <td>1.074990</td>\n",
       "      <td>1.601879e+06</td>\n",
       "      <td>6.464387e+05</td>\n",
       "      <td>6.114375e+05</td>\n",
       "      <td>5.040550e+04</td>\n",
       "      <td>2.935974e+05</td>\n",
       "      <td>2.487736e+05</td>\n",
       "      <td>4.264205e+04</td>\n",
       "      <td>2181.771074</td>\n",
       "      <td>2015.162821</td>\n",
       "    </tr>\n",
       "    <tr>\n",
       "      <th>std</th>\n",
       "      <td>0.188891</td>\n",
       "      <td>4.433143e+06</td>\n",
       "      <td>1.947614e+06</td>\n",
       "      <td>1.672906e+06</td>\n",
       "      <td>1.377812e+05</td>\n",
       "      <td>7.579765e+05</td>\n",
       "      <td>6.474765e+05</td>\n",
       "      <td>1.182157e+05</td>\n",
       "      <td>7455.712144</td>\n",
       "      <td>0.369324</td>\n",
       "    </tr>\n",
       "    <tr>\n",
       "      <th>min</th>\n",
       "      <td>0.490000</td>\n",
       "      <td>3.875074e+04</td>\n",
       "      <td>4.677200e+02</td>\n",
       "      <td>1.783770e+03</td>\n",
       "      <td>0.000000e+00</td>\n",
       "      <td>3.311770e+03</td>\n",
       "      <td>3.311770e+03</td>\n",
       "      <td>0.000000e+00</td>\n",
       "      <td>0.000000</td>\n",
       "      <td>2015.000000</td>\n",
       "    </tr>\n",
       "    <tr>\n",
       "      <th>25%</th>\n",
       "      <td>0.980000</td>\n",
       "      <td>1.474700e+05</td>\n",
       "      <td>2.040034e+04</td>\n",
       "      <td>4.147606e+04</td>\n",
       "      <td>9.112500e+02</td>\n",
       "      <td>3.620689e+04</td>\n",
       "      <td>2.972722e+04</td>\n",
       "      <td>5.407400e+02</td>\n",
       "      <td>0.000000</td>\n",
       "      <td>2015.000000</td>\n",
       "    </tr>\n",
       "    <tr>\n",
       "      <th>50%</th>\n",
       "      <td>1.080000</td>\n",
       "      <td>4.027919e+05</td>\n",
       "      <td>8.175117e+04</td>\n",
       "      <td>1.186649e+05</td>\n",
       "      <td>7.688170e+03</td>\n",
       "      <td>7.397906e+04</td>\n",
       "      <td>6.237569e+04</td>\n",
       "      <td>5.044350e+03</td>\n",
       "      <td>0.000000</td>\n",
       "      <td>2015.000000</td>\n",
       "    </tr>\n",
       "    <tr>\n",
       "      <th>75%</th>\n",
       "      <td>1.190000</td>\n",
       "      <td>9.819751e+05</td>\n",
       "      <td>3.775785e+05</td>\n",
       "      <td>4.851503e+05</td>\n",
       "      <td>2.916730e+04</td>\n",
       "      <td>1.576097e+05</td>\n",
       "      <td>1.461994e+05</td>\n",
       "      <td>2.926767e+04</td>\n",
       "      <td>401.480000</td>\n",
       "      <td>2015.000000</td>\n",
       "    </tr>\n",
       "    <tr>\n",
       "      <th>max</th>\n",
       "      <td>1.680000</td>\n",
       "      <td>4.465546e+07</td>\n",
       "      <td>1.893304e+07</td>\n",
       "      <td>1.895648e+07</td>\n",
       "      <td>1.381516e+06</td>\n",
       "      <td>6.736304e+06</td>\n",
       "      <td>5.893642e+06</td>\n",
       "      <td>1.121076e+06</td>\n",
       "      <td>108072.790000</td>\n",
       "      <td>2016.000000</td>\n",
       "    </tr>\n",
       "  </tbody>\n",
       "</table>\n",
       "</div>"
      ],
      "text/plain": [
       "       AveragePrice  Total Volume          4046          4225          4770  \\\n",
       "count   1517.000000  1.517000e+03  1.517000e+03  1.517000e+03  1.517000e+03   \n",
       "mean       1.074990  1.601879e+06  6.464387e+05  6.114375e+05  5.040550e+04   \n",
       "std        0.188891  4.433143e+06  1.947614e+06  1.672906e+06  1.377812e+05   \n",
       "min        0.490000  3.875074e+04  4.677200e+02  1.783770e+03  0.000000e+00   \n",
       "25%        0.980000  1.474700e+05  2.040034e+04  4.147606e+04  9.112500e+02   \n",
       "50%        1.080000  4.027919e+05  8.175117e+04  1.186649e+05  7.688170e+03   \n",
       "75%        1.190000  9.819751e+05  3.775785e+05  4.851503e+05  2.916730e+04   \n",
       "max        1.680000  4.465546e+07  1.893304e+07  1.895648e+07  1.381516e+06   \n",
       "\n",
       "         Total Bags    Small Bags    Large Bags    XLarge Bags         year  \n",
       "count  1.517000e+03  1.517000e+03  1.517000e+03    1517.000000  1517.000000  \n",
       "mean   2.935974e+05  2.487736e+05  4.264205e+04    2181.771074  2015.162821  \n",
       "std    7.579765e+05  6.474765e+05  1.182157e+05    7455.712144     0.369324  \n",
       "min    3.311770e+03  3.311770e+03  0.000000e+00       0.000000  2015.000000  \n",
       "25%    3.620689e+04  2.972722e+04  5.407400e+02       0.000000  2015.000000  \n",
       "50%    7.397906e+04  6.237569e+04  5.044350e+03       0.000000  2015.000000  \n",
       "75%    1.576097e+05  1.461994e+05  2.926767e+04     401.480000  2015.000000  \n",
       "max    6.736304e+06  5.893642e+06  1.121076e+06  108072.790000  2016.000000  "
      ]
     },
     "execution_count": 13,
     "metadata": {},
     "output_type": "execute_result"
    }
   ],
   "source": [
    "data2.describe()"
   ]
  },
  {
   "cell_type": "markdown",
   "metadata": {},
   "source": [
    "##### Observation:\n",
    "\n",
    "    The total number of rows of data are same for all features.\n",
    "    \n",
    "    Our dataset has 10 features with float64 datatype and 3 features with object datatype.\n",
    "    \n",
    "    The values of standard deviation for 'Total Volume','Total Bags','Small Bags','XLarge Bags' features is greater than 3, which means the data in these feature columns is spread away from the mean."
   ]
  },
  {
   "cell_type": "code",
   "execution_count": 20,
   "metadata": {},
   "outputs": [
    {
     "data": {
      "text/plain": [
       "Index(['Date', 'AveragePrice', 'Total Volume', '4046', '4225', '4770',\n",
       "       'Total Bags', 'Small Bags', 'Large Bags', 'XLarge Bags', 'type', 'year',\n",
       "       'region'],\n",
       "      dtype='object')"
      ]
     },
     "execution_count": 20,
     "metadata": {},
     "output_type": "execute_result"
    }
   ],
   "source": [
    "data2.columns"
   ]
  },
  {
   "cell_type": "markdown",
   "metadata": {},
   "source": [
    "### Univariate analysis of each feature"
   ]
  },
  {
   "cell_type": "code",
   "execution_count": 21,
   "metadata": {},
   "outputs": [],
   "source": [
    "list_cols=data2.columns"
   ]
  },
  {
   "cell_type": "code",
   "execution_count": 22,
   "metadata": {},
   "outputs": [
    {
     "data": {
      "text/plain": [
       "'Date'"
      ]
     },
     "execution_count": 22,
     "metadata": {},
     "output_type": "execute_result"
    }
   ],
   "source": [
    "list_cols[0]"
   ]
  },
  {
   "cell_type": "markdown",
   "metadata": {},
   "source": [
    "#### 1. 'Date' - The date of the observation"
   ]
  },
  {
   "cell_type": "code",
   "execution_count": 23,
   "metadata": {},
   "outputs": [
    {
     "data": {
      "text/plain": [
       "05-04-2015    34\n",
       "12-04-2015    34\n",
       "19-04-2015    33\n",
       "26-04-2015    32\n",
       "29-03-2015    32\n",
       "              ..\n",
       "03-07-2016     3\n",
       "26-06-2016     3\n",
       "04-09-2016     3\n",
       "31-07-2016     3\n",
       "11-09-2016     2\n",
       "Name: Date, Length: 104, dtype: int64"
      ]
     },
     "execution_count": 23,
     "metadata": {},
     "output_type": "execute_result"
    }
   ],
   "source": [
    "data2['Date'].value_counts()"
   ]
  },
  {
   "cell_type": "markdown",
   "metadata": {},
   "source": [
    "##### Observation:\n",
    "    \n",
    "    We see that many of the observations of avacado prices are recorded multiple times for a single day, which may be related to different regions.\n",
    "    \n",
    "    In data preprocessing steps, we will extract seperate features like year and month."
   ]
  },
  {
   "cell_type": "code",
   "execution_count": 24,
   "metadata": {},
   "outputs": [
    {
     "data": {
      "text/plain": [
       "'AveragePrice'"
      ]
     },
     "execution_count": 24,
     "metadata": {},
     "output_type": "execute_result"
    }
   ],
   "source": [
    "list_cols[1]"
   ]
  },
  {
   "cell_type": "markdown",
   "metadata": {},
   "source": [
    "#### 2. 'AveragePrice' - The average price of a single avocado"
   ]
  },
  {
   "cell_type": "markdown",
   "metadata": {},
   "source": [
    "This is our target feature."
   ]
  },
  {
   "cell_type": "code",
   "execution_count": 25,
   "metadata": {},
   "outputs": [
    {
     "data": {
      "text/plain": [
       "1.08    46\n",
       "0.99    44\n",
       "1.03    44\n",
       "1.09    43\n",
       "1.10    43\n",
       "        ..\n",
       "1.61     1\n",
       "1.66     1\n",
       "1.60     1\n",
       "0.64     1\n",
       "1.64     1\n",
       "Name: AveragePrice, Length: 113, dtype: int64"
      ]
     },
     "execution_count": 25,
     "metadata": {},
     "output_type": "execute_result"
    }
   ],
   "source": [
    "data2['AveragePrice'].value_counts()"
   ]
  },
  {
   "cell_type": "code",
   "execution_count": 34,
   "metadata": {},
   "outputs": [
    {
     "data": {
      "text/plain": [
       "count    1517.000000\n",
       "mean        1.074990\n",
       "std         0.188891\n",
       "min         0.490000\n",
       "25%         0.980000\n",
       "50%         1.080000\n",
       "75%         1.190000\n",
       "max         1.680000\n",
       "Name: AveragePrice, dtype: float64"
      ]
     },
     "execution_count": 34,
     "metadata": {},
     "output_type": "execute_result"
    }
   ],
   "source": [
    "data2['AveragePrice'].describe()"
   ]
  },
  {
   "cell_type": "code",
   "execution_count": 29,
   "metadata": {},
   "outputs": [
    {
     "data": {
      "image/png": "[encoded data removed]",
      "text/plain": [
       "<Figure size 432x288 with 1 Axes>"
      ]
     },
     "metadata": {
      "needs_background": "light"
     },
     "output_type": "display_data"
    }
   ],
   "source": [
    "sn.distplot(data2['AveragePrice'])\n",
    "plt.show()"
   ]
  },
  {
   "cell_type": "markdown",
   "metadata": {},
   "source": [
    "##### Observation:\n",
    "\n",
    "    The distribution of data in 'Average Price' is bell shaped normal curve."
   ]
  },
  {
   "cell_type": "code",
   "execution_count": 32,
   "metadata": {},
   "outputs": [
    {
     "data": {
      "text/plain": [
       "'Total Volume'"
      ]
     },
     "execution_count": 32,
     "metadata": {},
     "output_type": "execute_result"
    }
   ],
   "source": [
    "list_cols[2]"
   ]
  },
  {
   "cell_type": "markdown",
   "metadata": {},
   "source": [
    "#### 3. 'Total Volume' - total number of avacado sold for that particular day"
   ]
  },
  {
   "cell_type": "code",
   "execution_count": 33,
   "metadata": {},
   "outputs": [
    {
     "data": {
      "text/plain": [
       "453631.25     1\n",
       "198395.76     1\n",
       "63902.90      1\n",
       "592588.01     1\n",
       "63608.01      1\n",
       "             ..\n",
       "83453.76      1\n",
       "202831.97     1\n",
       "1352027.64    1\n",
       "435210.71     1\n",
       "212091.14     1\n",
       "Name: Total Volume, Length: 1517, dtype: int64"
      ]
     },
     "execution_count": 33,
     "metadata": {},
     "output_type": "execute_result"
    }
   ],
   "source": [
    "data2['Total Volume'].value_counts()"
   ]
  },
  {
   "cell_type": "code",
   "execution_count": 36,
   "metadata": {},
   "outputs": [
    {
     "data": {
      "text/plain": [
       "count    1.517000e+03\n",
       "mean     1.601879e+06\n",
       "std      4.433143e+06\n",
       "min      3.875074e+04\n",
       "25%      1.474700e+05\n",
       "50%      4.027919e+05\n",
       "75%      9.819751e+05\n",
       "max      4.465546e+07\n",
       "Name: Total Volume, dtype: float64"
      ]
     },
     "execution_count": 36,
     "metadata": {},
     "output_type": "execute_result"
    }
   ],
   "source": [
    "data2['Total Volume'].describe()"
   ]
  },
  {
   "cell_type": "code",
   "execution_count": 35,
   "metadata": {},
   "outputs": [
    {
     "data": {
      "image/png": "[encoded data removed]",
      "text/plain": [
       "<Figure size 432x288 with 1 Axes>"
      ]
     },
     "metadata": {
      "needs_background": "light"
     },
     "output_type": "display_data"
    }
   ],
   "source": [
    "sn.distplot(data2['Total Volume'])\n",
    "plt.show()"
   ]
  },
  {
   "cell_type": "markdown",
   "metadata": {},
   "source": [
    "##### Observation:\n",
    "\n",
    "    The data distribution of 'Total Volume' feature is not normal bell shaped curve. The mean value is greater than median value, confirming the right skewness."
   ]
  },
  {
   "cell_type": "code",
   "execution_count": 37,
   "metadata": {},
   "outputs": [
    {
     "data": {
      "text/plain": [
       "'4046'"
      ]
     },
     "execution_count": 37,
     "metadata": {},
     "output_type": "execute_result"
    }
   ],
   "source": [
    "list_cols[3]"
   ]
  },
  {
   "cell_type": "markdown",
   "metadata": {},
   "source": [
    "#### 4. '4046' - Total number of avocados with PLU 4046 sold"
   ]
  },
  {
   "cell_type": "code",
   "execution_count": 38,
   "metadata": {
    "scrolled": true
   },
   "outputs": [
    {
     "data": {
      "text/plain": [
       "2105670.46    1\n",
       "13652.41      1\n",
       "325884.06     1\n",
       "842.40        1\n",
       "1355.20       1\n",
       "             ..\n",
       "57557.75      1\n",
       "3108.09       1\n",
       "41244.44      1\n",
       "1575318.71    1\n",
       "1132.00       1\n",
       "Name: 4046, Length: 1517, dtype: int64"
      ]
     },
     "execution_count": 38,
     "metadata": {},
     "output_type": "execute_result"
    }
   ],
   "source": [
    "data2['4046'].value_counts()"
   ]
  },
  {
   "cell_type": "code",
   "execution_count": 39,
   "metadata": {},
   "outputs": [
    {
     "data": {
      "text/plain": [
       "count    1.517000e+03\n",
       "mean     6.464387e+05\n",
       "std      1.947614e+06\n",
       "min      4.677200e+02\n",
       "25%      2.040034e+04\n",
       "50%      8.175117e+04\n",
       "75%      3.775785e+05\n",
       "max      1.893304e+07\n",
       "Name: 4046, dtype: float64"
      ]
     },
     "execution_count": 39,
     "metadata": {},
     "output_type": "execute_result"
    }
   ],
   "source": [
    "data2['4046'].describe()"
   ]
  },
  {
   "cell_type": "code",
   "execution_count": 40,
   "metadata": {},
   "outputs": [
    {
     "data": {
      "image/png": "[encoded data removed]",
      "text/plain": [
       "<Figure size 432x288 with 1 Axes>"
      ]
     },
     "metadata": {
      "needs_background": "light"
     },
     "output_type": "display_data"
    }
   ],
   "source": [
    "sn.distplot(data2['4046'])\n",
    "plt.show()"
   ]
  },
  {
   "cell_type": "markdown",
   "metadata": {},
   "source": [
    "##### Observation:\n",
    "\n",
    "    The 'PLU 4046' volumes sold data is not normally distributed, the mean is greater than median thus confirming the right skewness present."
   ]
  },
  {
   "cell_type": "code",
   "execution_count": 41,
   "metadata": {},
   "outputs": [
    {
     "data": {
      "text/plain": [
       "'4225'"
      ]
     },
     "execution_count": 41,
     "metadata": {},
     "output_type": "execute_result"
    }
   ],
   "source": [
    "list_cols[4]"
   ]
  },
  {
   "cell_type": "markdown",
   "metadata": {},
   "source": [
    "#### 5. '4225' - Total number of avocados with PLU 4225 sold"
   ]
  },
  {
   "cell_type": "code",
   "execution_count": 42,
   "metadata": {
    "scrolled": true
   },
   "outputs": [
    {
     "data": {
      "text/plain": [
       "20278.37      1\n",
       "69081.33      1\n",
       "78055.21      1\n",
       "8599.82       1\n",
       "33868.95      1\n",
       "             ..\n",
       "1723310.79    1\n",
       "317090.39     1\n",
       "54378.07      1\n",
       "1982.25       1\n",
       "376914.26     1\n",
       "Name: 4225, Length: 1517, dtype: int64"
      ]
     },
     "execution_count": 42,
     "metadata": {},
     "output_type": "execute_result"
    }
   ],
   "source": [
    "data2['4225'].value_counts()"
   ]
  },
  {
   "cell_type": "code",
   "execution_count": 43,
   "metadata": {},
   "outputs": [
    {
     "data": {
      "text/plain": [
       "count    1.517000e+03\n",
       "mean     6.114375e+05\n",
       "std      1.672906e+06\n",
       "min      1.783770e+03\n",
       "25%      4.147606e+04\n",
       "50%      1.186649e+05\n",
       "75%      4.851503e+05\n",
       "max      1.895648e+07\n",
       "Name: 4225, dtype: float64"
      ]
     },
     "execution_count": 43,
     "metadata": {},
     "output_type": "execute_result"
    }
   ],
   "source": [
    "data2['4225'].describe()"
   ]
  },
  {
   "cell_type": "code",
   "execution_count": 44,
   "metadata": {},
   "outputs": [
    {
     "data": {
      "image/png": "[encoded data removed]",
      "text/plain": [
       "<Figure size 432x288 with 1 Axes>"
      ]
     },
     "metadata": {
      "needs_background": "light"
     },
     "output_type": "display_data"
    }
   ],
   "source": [
    "sn.distplot(data2['4225'])\n",
    "plt.show()"
   ]
  },
  {
   "cell_type": "markdown",
   "metadata": {},
   "source": [
    "##### Observation:\n",
    "\n",
    "    The 'PLU 4225' volumes sold data is not normally distributed, the mean is greater than median thus confirming the right skewness present."
   ]
  },
  {
   "cell_type": "code",
   "execution_count": 45,
   "metadata": {},
   "outputs": [
    {
     "data": {
      "text/plain": [
       "'4770'"
      ]
     },
     "execution_count": 45,
     "metadata": {},
     "output_type": "execute_result"
    }
   ],
   "source": [
    "list_cols[5]"
   ]
  },
  {
   "cell_type": "markdown",
   "metadata": {},
   "source": [
    "#### 6. '4770' - Total number of avocados with PLU 4770 sold"
   ]
  },
  {
   "cell_type": "code",
   "execution_count": 46,
   "metadata": {
    "scrolled": true
   },
   "outputs": [
    {
     "data": {
      "text/plain": [
       "57.68        2\n",
       "106106.86    1\n",
       "47.15        1\n",
       "27944.07     1\n",
       "1613.63      1\n",
       "            ..\n",
       "1003.63      1\n",
       "50.55        1\n",
       "58.70        1\n",
       "4107.26      1\n",
       "130.50       1\n",
       "Name: 4770, Length: 1516, dtype: int64"
      ]
     },
     "execution_count": 46,
     "metadata": {},
     "output_type": "execute_result"
    }
   ],
   "source": [
    "data2['4770'].value_counts()"
   ]
  },
  {
   "cell_type": "code",
   "execution_count": 47,
   "metadata": {},
   "outputs": [
    {
     "data": {
      "text/plain": [
       "count    1.517000e+03\n",
       "mean     5.040550e+04\n",
       "std      1.377812e+05\n",
       "min      0.000000e+00\n",
       "25%      9.112500e+02\n",
       "50%      7.688170e+03\n",
       "75%      2.916730e+04\n",
       "max      1.381516e+06\n",
       "Name: 4770, dtype: float64"
      ]
     },
     "execution_count": 47,
     "metadata": {},
     "output_type": "execute_result"
    }
   ],
   "source": [
    "data2['4770'].describe()"
   ]
  },
  {
   "cell_type": "code",
   "execution_count": 48,
   "metadata": {},
   "outputs": [
    {
     "data": {
      "image/png": "[encoded data removed]",
      "text/plain": [
       "<Figure size 432x288 with 1 Axes>"
      ]
     },
     "metadata": {
      "needs_background": "light"
     },
     "output_type": "display_data"
    }
   ],
   "source": [
    "sn.distplot(data2['4770'])\n",
    "plt.show()"
   ]
  },
  {
   "cell_type": "markdown",
   "metadata": {},
   "source": [
    "##### Observation:\n",
    "\n",
    "    The 'PLU 4770' volumes sold data is not normally distributed, the mean is greater than median thus confirming the right skewness present."
   ]
  },
  {
   "cell_type": "code",
   "execution_count": 49,
   "metadata": {},
   "outputs": [
    {
     "data": {
      "text/plain": [
       "'Total Bags'"
      ]
     },
     "execution_count": 49,
     "metadata": {},
     "output_type": "execute_result"
    }
   ],
   "source": [
    "list_cols[6]"
   ]
  },
  {
   "cell_type": "markdown",
   "metadata": {},
   "source": [
    "#### 7.'Total Bags' - total bags of avacado sold"
   ]
  },
  {
   "cell_type": "code",
   "execution_count": 50,
   "metadata": {
    "scrolled": true
   },
   "outputs": [
    {
     "data": {
      "text/plain": [
       "929791.25     1\n",
       "65342.19      1\n",
       "80673.23      1\n",
       "1226467.77    1\n",
       "189301.37     1\n",
       "             ..\n",
       "59472.47      1\n",
       "14362.08      1\n",
       "16321.19      1\n",
       "51669.25      1\n",
       "21611.56      1\n",
       "Name: Total Bags, Length: 1517, dtype: int64"
      ]
     },
     "execution_count": 50,
     "metadata": {},
     "output_type": "execute_result"
    }
   ],
   "source": [
    "data2['Total Bags'].value_counts()"
   ]
  },
  {
   "cell_type": "code",
   "execution_count": 52,
   "metadata": {
    "scrolled": true
   },
   "outputs": [
    {
     "data": {
      "text/plain": [
       "count    1.517000e+03\n",
       "mean     2.935974e+05\n",
       "std      7.579765e+05\n",
       "min      3.311770e+03\n",
       "25%      3.620689e+04\n",
       "50%      7.397906e+04\n",
       "75%      1.576097e+05\n",
       "max      6.736304e+06\n",
       "Name: Total Bags, dtype: float64"
      ]
     },
     "execution_count": 52,
     "metadata": {},
     "output_type": "execute_result"
    }
   ],
   "source": [
    "data2['Total Bags'].describe()"
   ]
  },
  {
   "cell_type": "code",
   "execution_count": 51,
   "metadata": {
    "scrolled": true
   },
   "outputs": [
    {
     "data": {
      "image/png": "[encoded data removed]",
      "text/plain": [
       "<Figure size 432x288 with 1 Axes>"
      ]
     },
     "metadata": {
      "needs_background": "light"
     },
     "output_type": "display_data"
    }
   ],
   "source": [
    "sn.distplot(data2['Total Bags'])\n",
    "plt.show()"
   ]
  },
  {
   "cell_type": "markdown",
   "metadata": {},
   "source": [
    "##### Observation:\n",
    "\n",
    "    The 'Total Bags' sold data is not normally distributed, the mean is greater than median thus confirming the right skewness present."
   ]
  },
  {
   "cell_type": "code",
   "execution_count": 53,
   "metadata": {},
   "outputs": [
    {
     "data": {
      "text/plain": [
       "'Small Bags'"
      ]
     },
     "execution_count": 53,
     "metadata": {},
     "output_type": "execute_result"
    }
   ],
   "source": [
    "list_cols[7]"
   ]
  },
  {
   "cell_type": "markdown",
   "metadata": {},
   "source": [
    "#### 8.'Small Bags' - small bags of avacado sold"
   ]
  },
  {
   "cell_type": "code",
   "execution_count": 54,
   "metadata": {
    "scrolled": true
   },
   "outputs": [
    {
     "data": {
      "text/plain": [
       "15997.43     1\n",
       "48304.30     1\n",
       "8876.65      1\n",
       "9586.80      1\n",
       "27736.40     1\n",
       "            ..\n",
       "7946.78      1\n",
       "9533.88      1\n",
       "181854.71    1\n",
       "34448.65     1\n",
       "235274.47    1\n",
       "Name: Small Bags, Length: 1517, dtype: int64"
      ]
     },
     "execution_count": 54,
     "metadata": {},
     "output_type": "execute_result"
    }
   ],
   "source": [
    "data2['Small Bags'].value_counts()"
   ]
  },
  {
   "cell_type": "code",
   "execution_count": 55,
   "metadata": {},
   "outputs": [
    {
     "data": {
      "text/plain": [
       "count    1.517000e+03\n",
       "mean     2.487736e+05\n",
       "std      6.474765e+05\n",
       "min      3.311770e+03\n",
       "25%      2.972722e+04\n",
       "50%      6.237569e+04\n",
       "75%      1.461994e+05\n",
       "max      5.893642e+06\n",
       "Name: Small Bags, dtype: float64"
      ]
     },
     "execution_count": 55,
     "metadata": {},
     "output_type": "execute_result"
    }
   ],
   "source": [
    "data2['Small Bags'].describe()"
   ]
  },
  {
   "cell_type": "code",
   "execution_count": 56,
   "metadata": {},
   "outputs": [
    {
     "data": {
      "image/png": "[encoded data removed]",
      "text/plain": [
       "<Figure size 432x288 with 1 Axes>"
      ]
     },
     "metadata": {
      "needs_background": "light"
     },
     "output_type": "display_data"
    }
   ],
   "source": [
    "sn.distplot(data2['Small Bags'])\n",
    "plt.show()"
   ]
  },
  {
   "cell_type": "markdown",
   "metadata": {},
   "source": [
    "##### Observation:\n",
    "\n",
    "    The 'Small Bags' sold data is not normally distributed, the mean is greater than median thus confirming the right skewness present."
   ]
  },
  {
   "cell_type": "code",
   "execution_count": null,
   "metadata": {},
   "outputs": [],
   "source": []
  },
  {
   "cell_type": "code",
   "execution_count": 57,
   "metadata": {},
   "outputs": [
    {
     "data": {
      "text/plain": [
       "'Large Bags'"
      ]
     },
     "execution_count": 57,
     "metadata": {},
     "output_type": "execute_result"
    }
   ],
   "source": [
    "list_cols[8]"
   ]
  },
  {
   "cell_type": "markdown",
   "metadata": {},
   "source": [
    "#### 9.'Large Bags' -Large bags of avacado sold"
   ]
  },
  {
   "cell_type": "code",
   "execution_count": 58,
   "metadata": {
    "scrolled": true
   },
   "outputs": [
    {
     "data": {
      "text/plain": [
       "0.00       134\n",
       "48.89        3\n",
       "8.89         3\n",
       "31.11        2\n",
       "51.11        2\n",
       "          ... \n",
       "562.37       1\n",
       "1837.60      1\n",
       "1994.62      1\n",
       "319.56       1\n",
       "93.25        1\n",
       "Name: Large Bags, Length: 1377, dtype: int64"
      ]
     },
     "execution_count": 58,
     "metadata": {},
     "output_type": "execute_result"
    }
   ],
   "source": [
    "data2['Large Bags'].value_counts()"
   ]
  },
  {
   "cell_type": "code",
   "execution_count": 59,
   "metadata": {},
   "outputs": [
    {
     "data": {
      "text/plain": [
       "count    1.517000e+03\n",
       "mean     4.264205e+04\n",
       "std      1.182157e+05\n",
       "min      0.000000e+00\n",
       "25%      5.407400e+02\n",
       "50%      5.044350e+03\n",
       "75%      2.926767e+04\n",
       "max      1.121076e+06\n",
       "Name: Large Bags, dtype: float64"
      ]
     },
     "execution_count": 59,
     "metadata": {},
     "output_type": "execute_result"
    }
   ],
   "source": [
    "data2['Large Bags'].describe()"
   ]
  },
  {
   "cell_type": "code",
   "execution_count": 60,
   "metadata": {},
   "outputs": [
    {
     "data": {
      "image/png": "[encoded data removed]",
      "text/plain": [
       "<Figure size 432x288 with 1 Axes>"
      ]
     },
     "metadata": {
      "needs_background": "light"
     },
     "output_type": "display_data"
    }
   ],
   "source": [
    "sn.distplot(data2['Large Bags'])\n",
    "plt.show()"
   ]
  },
  {
   "cell_type": "markdown",
   "metadata": {},
   "source": [
    "##### Observation:\n",
    "\n",
    "    The 'Large Bags' sold data is not normally distributed, the mean is greater than median thus confirming the right skewness present."
   ]
  },
  {
   "cell_type": "code",
   "execution_count": null,
   "metadata": {},
   "outputs": [],
   "source": []
  },
  {
   "cell_type": "code",
   "execution_count": 61,
   "metadata": {},
   "outputs": [
    {
     "data": {
      "text/plain": [
       "'XLarge Bags'"
      ]
     },
     "execution_count": 61,
     "metadata": {},
     "output_type": "execute_result"
    }
   ],
   "source": [
    "list_cols[9]"
   ]
  },
  {
   "cell_type": "markdown",
   "metadata": {},
   "source": [
    "#### 10.'XLarge Bags' - extra large bags of avacado sold"
   ]
  },
  {
   "cell_type": "code",
   "execution_count": 62,
   "metadata": {
    "scrolled": true
   },
   "outputs": [
    {
     "data": {
      "text/plain": [
       "0.00       798\n",
       "15.88        2\n",
       "37.50        2\n",
       "240.28       2\n",
       "11.27        2\n",
       "          ... \n",
       "4464.22      1\n",
       "778.00       1\n",
       "3397.00      1\n",
       "52.33        1\n",
       "35.92        1\n",
       "Name: XLarge Bags, Length: 711, dtype: int64"
      ]
     },
     "execution_count": 62,
     "metadata": {},
     "output_type": "execute_result"
    }
   ],
   "source": [
    "data2['XLarge Bags'].value_counts()"
   ]
  },
  {
   "cell_type": "code",
   "execution_count": 63,
   "metadata": {},
   "outputs": [
    {
     "data": {
      "text/plain": [
       "count      1517.000000\n",
       "mean       2181.771074\n",
       "std        7455.712144\n",
       "min           0.000000\n",
       "25%           0.000000\n",
       "50%           0.000000\n",
       "75%         401.480000\n",
       "max      108072.790000\n",
       "Name: XLarge Bags, dtype: float64"
      ]
     },
     "execution_count": 63,
     "metadata": {},
     "output_type": "execute_result"
    }
   ],
   "source": [
    "data2['XLarge Bags'].describe()"
   ]
  },
  {
   "cell_type": "code",
   "execution_count": 64,
   "metadata": {},
   "outputs": [
    {
     "data": {
      "image/png": "[encoded data removed]",
      "text/plain": [
       "<Figure size 432x288 with 1 Axes>"
      ]
     },
     "metadata": {
      "needs_background": "light"
     },
     "output_type": "display_data"
    }
   ],
   "source": [
    "sn.distplot(data2['XLarge Bags'])\n",
    "plt.show()"
   ]
  },
  {
   "cell_type": "markdown",
   "metadata": {},
   "source": [
    "##### Observation:\n",
    "\n",
    "    The 'XLarge Bags' sold data is not normally distributed, the mean is greater than median thus confirming the right skewness present."
   ]
  },
  {
   "cell_type": "code",
   "execution_count": 65,
   "metadata": {},
   "outputs": [
    {
     "data": {
      "text/plain": [
       "'type'"
      ]
     },
     "execution_count": 65,
     "metadata": {},
     "output_type": "execute_result"
    }
   ],
   "source": [
    "list_cols[10]"
   ]
  },
  {
   "cell_type": "markdown",
   "metadata": {},
   "source": [
    "#### 11. 'type' - conventional or organic"
   ]
  },
  {
   "cell_type": "code",
   "execution_count": 66,
   "metadata": {},
   "outputs": [
    {
     "data": {
      "text/plain": [
       "conventional    1517\n",
       "Name: type, dtype: int64"
      ]
     },
     "execution_count": 66,
     "metadata": {},
     "output_type": "execute_result"
    }
   ],
   "source": [
    "data2['type'].value_counts()"
   ]
  },
  {
   "cell_type": "markdown",
   "metadata": {},
   "source": [
    "##### Observation:\n",
    "\n",
    "    Our dataset has info of only conventional type of fruit."
   ]
  },
  {
   "cell_type": "code",
   "execution_count": 67,
   "metadata": {},
   "outputs": [
    {
     "data": {
      "text/plain": [
       "'year'"
      ]
     },
     "execution_count": 67,
     "metadata": {},
     "output_type": "execute_result"
    }
   ],
   "source": [
    "list_cols[11]"
   ]
  },
  {
   "cell_type": "markdown",
   "metadata": {},
   "source": [
    "#### 12.'year' - the year"
   ]
  },
  {
   "cell_type": "code",
   "execution_count": 68,
   "metadata": {},
   "outputs": [
    {
     "data": {
      "text/plain": [
       "2015.0    1270\n",
       "2016.0     247\n",
       "Name: year, dtype: int64"
      ]
     },
     "execution_count": 68,
     "metadata": {},
     "output_type": "execute_result"
    }
   ],
   "source": [
    "data2['year'].value_counts()"
   ]
  },
  {
   "cell_type": "markdown",
   "metadata": {},
   "source": [
    "##### Observation:\n",
    "\n",
    "    The dataset has recorded the avacado prices for the years 2015 and 2016."
   ]
  },
  {
   "cell_type": "code",
   "execution_count": 69,
   "metadata": {},
   "outputs": [
    {
     "data": {
      "text/plain": [
       "'region'"
      ]
     },
     "execution_count": 69,
     "metadata": {},
     "output_type": "execute_result"
    }
   ],
   "source": [
    "list_cols[12]"
   ]
  },
  {
   "cell_type": "markdown",
   "metadata": {},
   "source": [
    "#### 13. 'region' - the city or region of the observation"
   ]
  },
  {
   "cell_type": "code",
   "execution_count": 70,
   "metadata": {},
   "outputs": [
    {
     "data": {
      "text/plain": [
       "California             76\n",
       "Albany                 67\n",
       "Boise                  65\n",
       "BaltimoreWashington    65\n",
       "Boston                 62\n",
       "Atlanta                54\n",
       "PhoenixTucson          52\n",
       "BuffaloRochester       51\n",
       "Spokane                49\n",
       "Columbus               47\n",
       "NewYork                44\n",
       "Jacksonville           41\n",
       "Detroit                40\n",
       "SouthCentral           39\n",
       "SanDiego               38\n",
       "West                   36\n",
       "Louisville             34\n",
       "Tampa                  34\n",
       "Charlotte              31\n",
       "Portland               30\n",
       "NorthernNewEngland     29\n",
       "Houston                29\n",
       "WestTexNewMexico       27\n",
       "Nashville              25\n",
       "TotalUS                25\n",
       "Denver                 24\n",
       "SouthCarolina          24\n",
       "Chicago                23\n",
       "GrandRapids            23\n",
       "Pittsburgh             22\n",
       "RichmondNorfolk        21\n",
       "Orlando                21\n",
       "Syracuse               19\n",
       "HarrisburgScranton     19\n",
       "Midsouth               18\n",
       "GreatLakes             18\n",
       "MiamiFtLauderdale      17\n",
       "Roanoke                17\n",
       "DallasFtWorth          17\n",
       "RaleighGreensboro      16\n",
       "Indianapolis           16\n",
       "StLouis                16\n",
       "SanFrancisco           15\n",
       "HartfordSpringfield    13\n",
       "Philadelphia           13\n",
       "Plains                 12\n",
       "Northeast              12\n",
       "LasVegas               10\n",
       "Seattle                 9\n",
       "Southeast               9\n",
       "LosAngeles              3\n",
       "Name: region, dtype: int64"
      ]
     },
     "execution_count": 70,
     "metadata": {},
     "output_type": "execute_result"
    }
   ],
   "source": [
    "data2['region'].value_counts()"
   ]
  },
  {
   "cell_type": "markdown",
   "metadata": {},
   "source": [
    "### Observations after univariate analysis:\n",
    "\n",
    "    Continuous features - AveragePrice, TotalVolume, 4046 , 4225 , 4770, TotalBags , SmallBags , LargeBags , XLargeBags.\n",
    "\n",
    "    Discrete features - year\n",
    "\n",
    "    Categorical features - type, region.\n",
    "    \n",
    "#### Right skewness presence in below features-\n",
    "        \n",
    "        TotalVolume,4046,4225,4770,TotalBags,SmallBags,LargeBags,XLargeBags"
   ]
  },
  {
   "cell_type": "markdown",
   "metadata": {},
   "source": [
    "### Multi-variate analysis"
   ]
  },
  {
   "cell_type": "markdown",
   "metadata": {},
   "source": [
    "#### check correlation with target feature"
   ]
  },
  {
   "cell_type": "code",
   "execution_count": 77,
   "metadata": {},
   "outputs": [
    {
     "data": {
      "text/html": [
       "<div>\n",
       "<style scoped>\n",
       "    .dataframe tbody tr th:only-of-type {\n",
       "        vertical-align: middle;\n",
       "    }\n",
       "\n",
       "    .dataframe tbody tr th {\n",
       "        vertical-align: top;\n",
       "    }\n",
       "\n",
       "    .dataframe thead th {\n",
       "        text-align: right;\n",
       "    }\n",
       "</style>\n",
       "<table border=\"1\" class=\"dataframe\">\n",
       "  <thead>\n",
       "    <tr style=\"text-align: right;\">\n",
       "      <th></th>\n",
       "      <th>AveragePrice</th>\n",
       "      <th>Total Volume</th>\n",
       "      <th>4046</th>\n",
       "      <th>4225</th>\n",
       "      <th>4770</th>\n",
       "      <th>Total Bags</th>\n",
       "      <th>Small Bags</th>\n",
       "      <th>Large Bags</th>\n",
       "      <th>XLarge Bags</th>\n",
       "      <th>year</th>\n",
       "    </tr>\n",
       "  </thead>\n",
       "  <tbody>\n",
       "    <tr>\n",
       "      <th>AveragePrice</th>\n",
       "      <td>1.000000</td>\n",
       "      <td>-0.140470</td>\n",
       "      <td>-0.190096</td>\n",
       "      <td>-0.092084</td>\n",
       "      <td>-0.100567</td>\n",
       "      <td>-0.111597</td>\n",
       "      <td>-0.097682</td>\n",
       "      <td>-0.177480</td>\n",
       "      <td>-0.048284</td>\n",
       "      <td>0.178683</td>\n",
       "    </tr>\n",
       "    <tr>\n",
       "      <th>Total Volume</th>\n",
       "      <td>-0.140470</td>\n",
       "      <td>1.000000</td>\n",
       "      <td>0.985568</td>\n",
       "      <td>0.987154</td>\n",
       "      <td>0.934347</td>\n",
       "      <td>0.967689</td>\n",
       "      <td>0.960642</td>\n",
       "      <td>0.910226</td>\n",
       "      <td>0.521717</td>\n",
       "      <td>-0.004189</td>\n",
       "    </tr>\n",
       "    <tr>\n",
       "      <th>4046</th>\n",
       "      <td>-0.190096</td>\n",
       "      <td>0.985568</td>\n",
       "      <td>1.000000</td>\n",
       "      <td>0.951952</td>\n",
       "      <td>0.898570</td>\n",
       "      <td>0.930395</td>\n",
       "      <td>0.922278</td>\n",
       "      <td>0.884229</td>\n",
       "      <td>0.474063</td>\n",
       "      <td>-0.040439</td>\n",
       "    </tr>\n",
       "    <tr>\n",
       "      <th>4225</th>\n",
       "      <td>-0.092084</td>\n",
       "      <td>0.987154</td>\n",
       "      <td>0.951952</td>\n",
       "      <td>1.000000</td>\n",
       "      <td>0.927757</td>\n",
       "      <td>0.951779</td>\n",
       "      <td>0.943988</td>\n",
       "      <td>0.900496</td>\n",
       "      <td>0.504718</td>\n",
       "      <td>-0.007254</td>\n",
       "    </tr>\n",
       "    <tr>\n",
       "      <th>4770</th>\n",
       "      <td>-0.100567</td>\n",
       "      <td>0.934347</td>\n",
       "      <td>0.898570</td>\n",
       "      <td>0.927757</td>\n",
       "      <td>1.000000</td>\n",
       "      <td>0.926405</td>\n",
       "      <td>0.923607</td>\n",
       "      <td>0.840523</td>\n",
       "      <td>0.646053</td>\n",
       "      <td>0.029222</td>\n",
       "    </tr>\n",
       "    <tr>\n",
       "      <th>Total Bags</th>\n",
       "      <td>-0.111597</td>\n",
       "      <td>0.967689</td>\n",
       "      <td>0.930395</td>\n",
       "      <td>0.951779</td>\n",
       "      <td>0.926405</td>\n",
       "      <td>1.000000</td>\n",
       "      <td>0.997341</td>\n",
       "      <td>0.911336</td>\n",
       "      <td>0.601856</td>\n",
       "      <td>0.090108</td>\n",
       "    </tr>\n",
       "    <tr>\n",
       "      <th>Small Bags</th>\n",
       "      <td>-0.097682</td>\n",
       "      <td>0.960642</td>\n",
       "      <td>0.922278</td>\n",
       "      <td>0.943988</td>\n",
       "      <td>0.923607</td>\n",
       "      <td>0.997341</td>\n",
       "      <td>1.000000</td>\n",
       "      <td>0.879131</td>\n",
       "      <td>0.611300</td>\n",
       "      <td>0.106382</td>\n",
       "    </tr>\n",
       "    <tr>\n",
       "      <th>Large Bags</th>\n",
       "      <td>-0.177480</td>\n",
       "      <td>0.910226</td>\n",
       "      <td>0.884229</td>\n",
       "      <td>0.900496</td>\n",
       "      <td>0.840523</td>\n",
       "      <td>0.911336</td>\n",
       "      <td>0.879131</td>\n",
       "      <td>1.000000</td>\n",
       "      <td>0.447779</td>\n",
       "      <td>-0.018678</td>\n",
       "    </tr>\n",
       "    <tr>\n",
       "      <th>XLarge Bags</th>\n",
       "      <td>-0.048284</td>\n",
       "      <td>0.521717</td>\n",
       "      <td>0.474063</td>\n",
       "      <td>0.504718</td>\n",
       "      <td>0.646053</td>\n",
       "      <td>0.601856</td>\n",
       "      <td>0.611300</td>\n",
       "      <td>0.447779</td>\n",
       "      <td>1.000000</td>\n",
       "      <td>0.218342</td>\n",
       "    </tr>\n",
       "    <tr>\n",
       "      <th>year</th>\n",
       "      <td>0.178683</td>\n",
       "      <td>-0.004189</td>\n",
       "      <td>-0.040439</td>\n",
       "      <td>-0.007254</td>\n",
       "      <td>0.029222</td>\n",
       "      <td>0.090108</td>\n",
       "      <td>0.106382</td>\n",
       "      <td>-0.018678</td>\n",
       "      <td>0.218342</td>\n",
       "      <td>1.000000</td>\n",
       "    </tr>\n",
       "  </tbody>\n",
       "</table>\n",
       "</div>"
      ],
      "text/plain": [
       "              AveragePrice  Total Volume      4046      4225      4770  \\\n",
       "AveragePrice      1.000000     -0.140470 -0.190096 -0.092084 -0.100567   \n",
       "Total Volume     -0.140470      1.000000  0.985568  0.987154  0.934347   \n",
       "4046             -0.190096      0.985568  1.000000  0.951952  0.898570   \n",
       "4225             -0.092084      0.987154  0.951952  1.000000  0.927757   \n",
       "4770             -0.100567      0.934347  0.898570  0.927757  1.000000   \n",
       "Total Bags       -0.111597      0.967689  0.930395  0.951779  0.926405   \n",
       "Small Bags       -0.097682      0.960642  0.922278  0.943988  0.923607   \n",
       "Large Bags       -0.177480      0.910226  0.884229  0.900496  0.840523   \n",
       "XLarge Bags      -0.048284      0.521717  0.474063  0.504718  0.646053   \n",
       "year              0.178683     -0.004189 -0.040439 -0.007254  0.029222   \n",
       "\n",
       "              Total Bags  Small Bags  Large Bags  XLarge Bags      year  \n",
       "AveragePrice   -0.111597   -0.097682   -0.177480    -0.048284  0.178683  \n",
       "Total Volume    0.967689    0.960642    0.910226     0.521717 -0.004189  \n",
       "4046            0.930395    0.922278    0.884229     0.474063 -0.040439  \n",
       "4225            0.951779    0.943988    0.900496     0.504718 -0.007254  \n",
       "4770            0.926405    0.923607    0.840523     0.646053  0.029222  \n",
       "Total Bags      1.000000    0.997341    0.911336     0.601856  0.090108  \n",
       "Small Bags      0.997341    1.000000    0.879131     0.611300  0.106382  \n",
       "Large Bags      0.911336    0.879131    1.000000     0.447779 -0.018678  \n",
       "XLarge Bags     0.601856    0.611300    0.447779     1.000000  0.218342  \n",
       "year            0.090108    0.106382   -0.018678     0.218342  1.000000  "
      ]
     },
     "execution_count": 77,
     "metadata": {},
     "output_type": "execute_result"
    }
   ],
   "source": [
    "dt_corr=data2.corr()\n",
    "dt_corr"
   ]
  },
  {
   "cell_type": "code",
   "execution_count": 78,
   "metadata": {},
   "outputs": [
    {
     "data": {
      "text/plain": [
       "AveragePrice    1.000000\n",
       "Total Volume   -0.140470\n",
       "4046           -0.190096\n",
       "4225           -0.092084\n",
       "4770           -0.100567\n",
       "Total Bags     -0.111597\n",
       "Small Bags     -0.097682\n",
       "Large Bags     -0.177480\n",
       "XLarge Bags    -0.048284\n",
       "year            0.178683\n",
       "Name: AveragePrice, dtype: float64"
      ]
     },
     "execution_count": 78,
     "metadata": {},
     "output_type": "execute_result"
    }
   ],
   "source": [
    "dt_corr['AveragePrice']"
   ]
  },
  {
   "cell_type": "markdown",
   "metadata": {},
   "source": [
    "##### Observation:\n",
    "\n",
    "    All numerical features are having negative correlation with 'Average Prices of avacado'. \n",
    "    \n",
    "    This is in accordance with the rule that as demand increases, prices drop."
   ]
  },
  {
   "cell_type": "code",
   "execution_count": 79,
   "metadata": {},
   "outputs": [
    {
     "data": {
      "image/png": "[encoded data removed]",
      "text/plain": [
       "<Figure size 432x288 with 1 Axes>"
      ]
     },
     "metadata": {
      "needs_background": "light"
     },
     "output_type": "display_data"
    }
   ],
   "source": [
    "sn.scatterplot(data2['4046'],data2['AveragePrice'])\n",
    "plt.show()"
   ]
  },
  {
   "cell_type": "markdown",
   "metadata": {},
   "source": [
    "##### Observation:\n",
    "\n",
    "    The average prices of avacado are high at first as the 4046 variant are selling in small quantity. \n",
    "    \n",
    "    As the sell of 4046 variant increases, the average prices come down rapidly and as the sell of 4046 increases further, the average prices become saturated."
   ]
  },
  {
   "cell_type": "code",
   "execution_count": 80,
   "metadata": {},
   "outputs": [
    {
     "data": {
      "image/png": "[encoded data removed]",
      "text/plain": [
       "<Figure size 432x288 with 1 Axes>"
      ]
     },
     "metadata": {
      "needs_background": "light"
     },
     "output_type": "display_data"
    }
   ],
   "source": [
    "sn.scatterplot(data2['4225'],data2['AveragePrice'])\n",
    "plt.show()"
   ]
  },
  {
   "cell_type": "markdown",
   "metadata": {},
   "source": [
    "##### Observation:\n",
    "\n",
    "    The average price of avacado was high at the start of distribution of PLU 4225, but as the sale started increasing slowly slowly the average price started coming down and at later stages of sale increase the price became saturated.\n",
    "    \n",
    "    The price decrease happens in a more slow and steady fashion as compared to PLU 4046."
   ]
  },
  {
   "cell_type": "code",
   "execution_count": 81,
   "metadata": {},
   "outputs": [
    {
     "data": {
      "image/png": "[encoded data removed]",
      "text/plain": [
       "<Figure size 432x288 with 1 Axes>"
      ]
     },
     "metadata": {
      "needs_background": "light"
     },
     "output_type": "display_data"
    }
   ],
   "source": [
    "sn.scatterplot(data2['4770'],data2['AveragePrice'])\n",
    "plt.show()"
   ]
  },
  {
   "cell_type": "markdown",
   "metadata": {},
   "source": [
    "##### Observation:\n",
    "\n",
    "    The average price of avacado was high at the start of distribution of PLU 4225, but as the sale started increasing slowly slowly the average price started coming down and at later stages of sale increase the price became saturated.\n",
    "    \n",
    "    The price decrease is most steady for PLU 4770 as compared to other two product units."
   ]
  },
  {
   "cell_type": "code",
   "execution_count": 108,
   "metadata": {},
   "outputs": [
    {
     "data": {
      "image/png": "[encoded data removed]",
      "text/plain": [
       "<Figure size 432x288 with 3 Axes>"
      ]
     },
     "metadata": {
      "needs_background": "light"
     },
     "output_type": "display_data"
    }
   ],
   "source": [
    "\n",
    "fig,(ax1,ax2,ax3)=plt.subplots(1,3)\n",
    "\n",
    "ax1.scatter(data2['4046'],data2['Small Bags'],c='red')\n",
    "ax1.set(ylabel='small bags',xlabel='4046')\n",
    "ax2.scatter(data2['4046'],data2['Large Bags'],c='blue')\n",
    "ax2.set(ylabel='Large Bags',xlabel='4046')\n",
    "ax3.scatter(data2['4046'],data2['XLarge Bags'],c='green')\n",
    "ax3.set(ylabel='XLarge Bags',xlabel='4046')\n",
    "\n",
    "plt.show()"
   ]
  },
  {
   "cell_type": "markdown",
   "metadata": {},
   "source": [
    "##### Observation:\n",
    "\n",
    "    As the sale of PLU 4046 increased,we see the sale of XLarge Bags gradually saturated while sale of small bags and large bags show linear relation with 4046 ."
   ]
  },
  {
   "cell_type": "code",
   "execution_count": 109,
   "metadata": {},
   "outputs": [
    {
     "data": {
      "image/png": "[encoded data removed]",
      "text/plain": [
       "<Figure size 432x288 with 3 Axes>"
      ]
     },
     "metadata": {
      "needs_background": "light"
     },
     "output_type": "display_data"
    }
   ],
   "source": [
    "fig,(ax1,ax2,ax3)=plt.subplots(1,3)\n",
    "\n",
    "ax1.scatter(data2['4225'],data2['Small Bags'],c='red')\n",
    "ax1.set(ylabel='small bags',xlabel='4225')\n",
    "ax2.scatter(data2['4225'],data2['Large Bags'],c='blue')\n",
    "ax2.set(ylabel='Large Bags',xlabel='4225')\n",
    "ax3.scatter(data2['4225'],data2['XLarge Bags'],c='green')\n",
    "ax3.set(ylabel='XLarge Bags',xlabel='4225')\n",
    "\n",
    "plt.show()"
   ]
  },
  {
   "cell_type": "markdown",
   "metadata": {},
   "source": [
    "##### Observation:\n",
    "\n",
    "    As the sale of PLU 4225 increased,we see the sale of XLarge Bags gradually saturated while sale of small bags and large bags show linear relation with 4225 ."
   ]
  },
  {
   "cell_type": "code",
   "execution_count": 110,
   "metadata": {},
   "outputs": [
    {
     "data": {
      "image/png": "[encoded data removed]",
      "text/plain": [
       "<Figure size 432x288 with 3 Axes>"
      ]
     },
     "metadata": {
      "needs_background": "light"
     },
     "output_type": "display_data"
    }
   ],
   "source": [
    "fig,(ax1,ax2,ax3)=plt.subplots(1,3)\n",
    "\n",
    "ax1.scatter(data2['4770'],data2['Small Bags'],c='red')\n",
    "ax1.set(ylabel='small bags',xlabel='4770')\n",
    "ax2.scatter(data2['4770'],data2['Large Bags'],c='blue')\n",
    "ax2.set(ylabel='Large Bags',xlabel='4770')\n",
    "ax3.scatter(data2['4770'],data2['XLarge Bags'],c='green')\n",
    "ax3.set(ylabel='XLarge Bags',xlabel='4770')\n",
    "\n",
    "plt.show()"
   ]
  },
  {
   "cell_type": "markdown",
   "metadata": {},
   "source": [
    "##### Observation:\n",
    "\n",
    "    As the sale of PLU 4770 increased,we see the sale of XLarge Bags gradually saturated while sale of small bags and large bags show linear relation with 4770 ."
   ]
  },
  {
   "cell_type": "markdown",
   "metadata": {},
   "source": [
    "### Data Preprocessing"
   ]
  },
  {
   "cell_type": "markdown",
   "metadata": {},
   "source": [
    "#### Label Encoding of categorical columns"
   ]
  },
  {
   "cell_type": "code",
   "execution_count": 132,
   "metadata": {},
   "outputs": [
    {
     "data": {
      "text/plain": [
       "Date             object\n",
       "AveragePrice    float64\n",
       "Total Volume    float64\n",
       "4046            float64\n",
       "4225            float64\n",
       "4770            float64\n",
       "Total Bags      float64\n",
       "Small Bags      float64\n",
       "Large Bags      float64\n",
       "XLarge Bags     float64\n",
       "type             object\n",
       "year            float64\n",
       "region           object\n",
       "dtype: object"
      ]
     },
     "execution_count": 132,
     "metadata": {},
     "output_type": "execute_result"
    }
   ],
   "source": [
    "data2.dtypes"
   ]
  },
  {
   "cell_type": "code",
   "execution_count": 134,
   "metadata": {},
   "outputs": [],
   "source": [
    "le=LabelEncoder()"
   ]
  },
  {
   "cell_type": "code",
   "execution_count": 136,
   "metadata": {},
   "outputs": [
    {
     "data": {
      "text/plain": [
       "0    Albany\n",
       "1    Albany\n",
       "2    Albany\n",
       "3    Albany\n",
       "4    Albany\n",
       "Name: region, dtype: object"
      ]
     },
     "execution_count": 136,
     "metadata": {},
     "output_type": "execute_result"
    }
   ],
   "source": [
    "data2['region'].head()"
   ]
  },
  {
   "cell_type": "code",
   "execution_count": 137,
   "metadata": {},
   "outputs": [],
   "source": [
    "data2['region']=le.fit_transform(data2['region'])"
   ]
  },
  {
   "cell_type": "code",
   "execution_count": 138,
   "metadata": {},
   "outputs": [
    {
     "data": {
      "text/plain": [
       "0    0\n",
       "1    0\n",
       "2    0\n",
       "3    0\n",
       "4    0\n",
       "Name: region, dtype: int32"
      ]
     },
     "execution_count": 138,
     "metadata": {},
     "output_type": "execute_result"
    }
   ],
   "source": [
    "data2['region'].head()"
   ]
  },
  {
   "cell_type": "markdown",
   "metadata": {},
   "source": [
    "##### Observations:\n",
    "\n",
    "    As the features from 'Date' column are already extracted in the 'year' column, we can safely drop 'Date' column.\n",
    "    \n",
    "    Also, we have only 1 type of avacado data, so we can drop 'type' feature."
   ]
  },
  {
   "cell_type": "code",
   "execution_count": 140,
   "metadata": {},
   "outputs": [
    {
     "data": {
      "text/plain": [
       "(1517, 13)"
      ]
     },
     "execution_count": 140,
     "metadata": {},
     "output_type": "execute_result"
    }
   ],
   "source": [
    "data2.shape"
   ]
  },
  {
   "cell_type": "code",
   "execution_count": 141,
   "metadata": {},
   "outputs": [],
   "source": [
    "data2.drop('Date',axis=1,inplace=True)\n",
    "data2.drop('type',axis=1,inplace=True)"
   ]
  },
  {
   "cell_type": "code",
   "execution_count": 142,
   "metadata": {},
   "outputs": [
    {
     "data": {
      "text/plain": [
       "(1517, 11)"
      ]
     },
     "execution_count": 142,
     "metadata": {},
     "output_type": "execute_result"
    }
   ],
   "source": [
    "data2.shape"
   ]
  },
  {
   "cell_type": "markdown",
   "metadata": {},
   "source": [
    "#### checking for outliers"
   ]
  },
  {
   "cell_type": "markdown",
   "metadata": {},
   "source": [
    "We will check for outliers in our continuous features data."
   ]
  },
  {
   "cell_type": "code",
   "execution_count": 114,
   "metadata": {},
   "outputs": [
    {
     "data": {
      "image/png": "[encoded data removed]",
      "text/plain": [
       "<Figure size 432x288 with 1 Axes>"
      ]
     },
     "metadata": {
      "needs_background": "light"
     },
     "output_type": "display_data"
    }
   ],
   "source": [
    "plt.boxplot(data2['AveragePrice'])\n",
    "plt.show()"
   ]
  },
  {
   "cell_type": "code",
   "execution_count": 115,
   "metadata": {},
   "outputs": [
    {
     "data": {
      "text/plain": [
       "0.1    0.82\n",
       "0.2    0.94\n",
       "0.3    0.99\n",
       "0.4    1.04\n",
       "0.5    1.08\n",
       "0.6    1.12\n",
       "0.7    1.17\n",
       "0.8    1.22\n",
       "0.9    1.30\n",
       "1.0    1.68\n",
       "Name: AveragePrice, dtype: float64"
      ]
     },
     "execution_count": 115,
     "metadata": {},
     "output_type": "execute_result"
    }
   ],
   "source": [
    "data2['AveragePrice'].quantile([0.1,0.2,0.3,0.4,0.5,0.6,0.7,0.8,0.9,1.0])"
   ]
  },
  {
   "cell_type": "markdown",
   "metadata": {},
   "source": [
    "##### Observation: No outliers for 'AveragePrice' feature"
   ]
  },
  {
   "cell_type": "code",
   "execution_count": 117,
   "metadata": {},
   "outputs": [
    {
     "data": {
      "image/png": "[encoded data removed]",
      "text/plain": [
       "<Figure size 432x288 with 1 Axes>"
      ]
     },
     "metadata": {
      "needs_background": "light"
     },
     "output_type": "display_data"
    }
   ],
   "source": [
    "plt.boxplot(data2['Total Volume'])\n",
    "plt.show()"
   ]
  },
  {
   "cell_type": "markdown",
   "metadata": {},
   "source": [
    "##### Observation: Outliers are present in 'Total Volume' dataset."
   ]
  },
  {
   "cell_type": "code",
   "execution_count": 121,
   "metadata": {},
   "outputs": [
    {
     "data": {
      "image/png": "[encoded data removed]",
      "text/plain": [
       "<Figure size 432x288 with 1 Axes>"
      ]
     },
     "metadata": {
      "needs_background": "light"
     },
     "output_type": "display_data"
    }
   ],
   "source": [
    "plt.boxplot(data2['4046'])\n",
    "plt.show()"
   ]
  },
  {
   "cell_type": "markdown",
   "metadata": {},
   "source": [
    "##### Observation: Outliers are present in '4046' feature."
   ]
  },
  {
   "cell_type": "code",
   "execution_count": 122,
   "metadata": {},
   "outputs": [
    {
     "data": {
      "image/png": "[encoded data removed]",
      "text/plain": [
       "<Figure size 432x288 with 1 Axes>"
      ]
     },
     "metadata": {
      "needs_background": "light"
     },
     "output_type": "display_data"
    }
   ],
   "source": [
    "plt.boxplot(data2['4225'])\n",
    "plt.show()"
   ]
  },
  {
   "cell_type": "markdown",
   "metadata": {},
   "source": [
    "##### Observation: Outliers are present in '4225' features."
   ]
  },
  {
   "cell_type": "code",
   "execution_count": 123,
   "metadata": {},
   "outputs": [
    {
     "data": {
      "image/png": "[encoded data removed]",
      "text/plain": [
       "<Figure size 432x288 with 1 Axes>"
      ]
     },
     "metadata": {
      "needs_background": "light"
     },
     "output_type": "display_data"
    }
   ],
   "source": [
    "plt.boxplot(data2['4770'])\n",
    "plt.show()"
   ]
  },
  {
   "cell_type": "markdown",
   "metadata": {},
   "source": [
    "##### Observation: Outliers are present in '4770' feature."
   ]
  },
  {
   "cell_type": "code",
   "execution_count": 124,
   "metadata": {},
   "outputs": [
    {
     "data": {
      "image/png": "[encoded data removed]",
      "text/plain": [
       "<Figure size 432x288 with 1 Axes>"
      ]
     },
     "metadata": {
      "needs_background": "light"
     },
     "output_type": "display_data"
    }
   ],
   "source": [
    "plt.boxplot(data2['Total Bags'])\n",
    "plt.show()"
   ]
  },
  {
   "cell_type": "markdown",
   "metadata": {},
   "source": [
    "##### Observation: Outliers are present in 'Total bags' feature."
   ]
  },
  {
   "cell_type": "code",
   "execution_count": 125,
   "metadata": {},
   "outputs": [
    {
     "data": {
      "image/png": "[encoded data removed]",
      "text/plain": [
       "<Figure size 432x288 with 1 Axes>"
      ]
     },
     "metadata": {
      "needs_background": "light"
     },
     "output_type": "display_data"
    }
   ],
   "source": [
    "plt.boxplot(data2['Small Bags'])\n",
    "plt.show()"
   ]
  },
  {
   "cell_type": "markdown",
   "metadata": {},
   "source": [
    "##### Observation: Outliers are present in 'Small bags' feature."
   ]
  },
  {
   "cell_type": "code",
   "execution_count": 126,
   "metadata": {},
   "outputs": [
    {
     "data": {
      "image/png": "[encoded data removed]",
      "text/plain": [
       "<Figure size 432x288 with 1 Axes>"
      ]
     },
     "metadata": {
      "needs_background": "light"
     },
     "output_type": "display_data"
    }
   ],
   "source": [
    "plt.boxplot(data2['Large Bags'])\n",
    "plt.show()"
   ]
  },
  {
   "cell_type": "markdown",
   "metadata": {},
   "source": [
    "##### Observation: Outliers are present in 'Large bags' feature."
   ]
  },
  {
   "cell_type": "code",
   "execution_count": 127,
   "metadata": {},
   "outputs": [
    {
     "data": {
      "image/png": "[encoded data removed]",
      "text/plain": [
       "<Figure size 432x288 with 1 Axes>"
      ]
     },
     "metadata": {
      "needs_background": "light"
     },
     "output_type": "display_data"
    }
   ],
   "source": [
    "plt.boxplot(data2['XLarge Bags'])\n",
    "plt.show()"
   ]
  },
  {
   "cell_type": "markdown",
   "metadata": {},
   "source": [
    "##### Observation: Outliers are present in 'XLarge bags' feature."
   ]
  },
  {
   "cell_type": "markdown",
   "metadata": {},
   "source": [
    "### Outlier Removal"
   ]
  },
  {
   "cell_type": "code",
   "execution_count": 144,
   "metadata": {},
   "outputs": [
    {
     "data": {
      "text/html": [
       "<div>\n",
       "<style scoped>\n",
       "    .dataframe tbody tr th:only-of-type {\n",
       "        vertical-align: middle;\n",
       "    }\n",
       "\n",
       "    .dataframe tbody tr th {\n",
       "        vertical-align: top;\n",
       "    }\n",
       "\n",
       "    .dataframe thead th {\n",
       "        text-align: right;\n",
       "    }\n",
       "</style>\n",
       "<table border=\"1\" class=\"dataframe\">\n",
       "  <thead>\n",
       "    <tr style=\"text-align: right;\">\n",
       "      <th></th>\n",
       "      <th>AveragePrice</th>\n",
       "      <th>Total Volume</th>\n",
       "      <th>4046</th>\n",
       "      <th>4225</th>\n",
       "      <th>4770</th>\n",
       "      <th>Total Bags</th>\n",
       "      <th>Small Bags</th>\n",
       "      <th>Large Bags</th>\n",
       "      <th>XLarge Bags</th>\n",
       "      <th>year</th>\n",
       "      <th>region</th>\n",
       "    </tr>\n",
       "  </thead>\n",
       "  <tbody>\n",
       "    <tr>\n",
       "      <th>0</th>\n",
       "      <td>1.33</td>\n",
       "      <td>64236.62</td>\n",
       "      <td>1036.74</td>\n",
       "      <td>54454.85</td>\n",
       "      <td>48.16</td>\n",
       "      <td>8696.87</td>\n",
       "      <td>8603.62</td>\n",
       "      <td>93.25</td>\n",
       "      <td>0.0</td>\n",
       "      <td>2015.0</td>\n",
       "      <td>0</td>\n",
       "    </tr>\n",
       "    <tr>\n",
       "      <th>1</th>\n",
       "      <td>1.35</td>\n",
       "      <td>54876.98</td>\n",
       "      <td>674.28</td>\n",
       "      <td>44638.81</td>\n",
       "      <td>58.33</td>\n",
       "      <td>9505.56</td>\n",
       "      <td>9408.07</td>\n",
       "      <td>97.49</td>\n",
       "      <td>0.0</td>\n",
       "      <td>2015.0</td>\n",
       "      <td>0</td>\n",
       "    </tr>\n",
       "    <tr>\n",
       "      <th>2</th>\n",
       "      <td>0.93</td>\n",
       "      <td>118220.22</td>\n",
       "      <td>794.70</td>\n",
       "      <td>109149.67</td>\n",
       "      <td>130.50</td>\n",
       "      <td>8145.35</td>\n",
       "      <td>8042.21</td>\n",
       "      <td>103.14</td>\n",
       "      <td>0.0</td>\n",
       "      <td>2015.0</td>\n",
       "      <td>0</td>\n",
       "    </tr>\n",
       "    <tr>\n",
       "      <th>3</th>\n",
       "      <td>1.08</td>\n",
       "      <td>78992.15</td>\n",
       "      <td>1132.00</td>\n",
       "      <td>71976.41</td>\n",
       "      <td>72.58</td>\n",
       "      <td>5811.16</td>\n",
       "      <td>5677.40</td>\n",
       "      <td>133.76</td>\n",
       "      <td>0.0</td>\n",
       "      <td>2015.0</td>\n",
       "      <td>0</td>\n",
       "    </tr>\n",
       "    <tr>\n",
       "      <th>4</th>\n",
       "      <td>1.28</td>\n",
       "      <td>51039.60</td>\n",
       "      <td>941.48</td>\n",
       "      <td>43838.39</td>\n",
       "      <td>75.78</td>\n",
       "      <td>6183.95</td>\n",
       "      <td>5986.26</td>\n",
       "      <td>197.69</td>\n",
       "      <td>0.0</td>\n",
       "      <td>2015.0</td>\n",
       "      <td>0</td>\n",
       "    </tr>\n",
       "  </tbody>\n",
       "</table>\n",
       "</div>"
      ],
      "text/plain": [
       "   AveragePrice  Total Volume     4046       4225    4770  Total Bags  \\\n",
       "0          1.33      64236.62  1036.74   54454.85   48.16     8696.87   \n",
       "1          1.35      54876.98   674.28   44638.81   58.33     9505.56   \n",
       "2          0.93     118220.22   794.70  109149.67  130.50     8145.35   \n",
       "3          1.08      78992.15  1132.00   71976.41   72.58     5811.16   \n",
       "4          1.28      51039.60   941.48   43838.39   75.78     6183.95   \n",
       "\n",
       "   Small Bags  Large Bags  XLarge Bags    year  region  \n",
       "0     8603.62       93.25          0.0  2015.0       0  \n",
       "1     9408.07       97.49          0.0  2015.0       0  \n",
       "2     8042.21      103.14          0.0  2015.0       0  \n",
       "3     5677.40      133.76          0.0  2015.0       0  \n",
       "4     5986.26      197.69          0.0  2015.0       0  "
      ]
     },
     "execution_count": 144,
     "metadata": {},
     "output_type": "execute_result"
    }
   ],
   "source": [
    "#temporary store dataset into a temp dataframe\n",
    "data3=pd.DataFrame(data=data2)\n",
    "data3.head()"
   ]
  },
  {
   "cell_type": "markdown",
   "metadata": {},
   "source": [
    "#### We will use 'data3' dataframe for outlier removal and if the %ge of data loss is small , then only we will go ahead with outlier removal."
   ]
  },
  {
   "cell_type": "code",
   "execution_count": 146,
   "metadata": {},
   "outputs": [
    {
     "data": {
      "text/plain": [
       "(1517, 11)"
      ]
     },
     "execution_count": 146,
     "metadata": {},
     "output_type": "execute_result"
    }
   ],
   "source": [
    "data3.shape"
   ]
  },
  {
   "cell_type": "code",
   "execution_count": 147,
   "metadata": {},
   "outputs": [],
   "source": [
    "z=np.abs(zscore(data3))\n",
    "data3_new=data3[(z<3).all(axis=1)]"
   ]
  },
  {
   "cell_type": "code",
   "execution_count": 148,
   "metadata": {},
   "outputs": [
    {
     "data": {
      "text/plain": [
       "(1436, 11)"
      ]
     },
     "execution_count": 148,
     "metadata": {},
     "output_type": "execute_result"
    }
   ],
   "source": [
    "data3_new.shape"
   ]
  },
  {
   "cell_type": "code",
   "execution_count": 149,
   "metadata": {},
   "outputs": [
    {
     "name": "stdout",
     "output_type": "stream",
     "text": [
      "%ge loss of data =  5.339485827290705\n"
     ]
    }
   ],
   "source": [
    "print(\"%ge loss of data = \",((1517-1436)/1517)*100)"
   ]
  },
  {
   "cell_type": "markdown",
   "metadata": {},
   "source": [
    "### After outlier removal, the data loss is 5% approx. So we will proceed with 'data3_new' dataset."
   ]
  },
  {
   "cell_type": "markdown",
   "metadata": {},
   "source": [
    "#### Splitting the dataset into independent features and target feature."
   ]
  },
  {
   "cell_type": "code",
   "execution_count": 150,
   "metadata": {},
   "outputs": [],
   "source": [
    "x=data3_new.drop('AveragePrice',axis=1)\n",
    "y=data3_new['AveragePrice']"
   ]
  },
  {
   "cell_type": "code",
   "execution_count": 151,
   "metadata": {},
   "outputs": [
    {
     "data": {
      "text/plain": [
       "(1436, 10)"
      ]
     },
     "execution_count": 151,
     "metadata": {},
     "output_type": "execute_result"
    }
   ],
   "source": [
    "x.shape"
   ]
  },
  {
   "cell_type": "markdown",
   "metadata": {},
   "source": [
    "#### finding the best random state for train_test_split"
   ]
  },
  {
   "cell_type": "code",
   "execution_count": 154,
   "metadata": {},
   "outputs": [
    {
     "name": "stdout",
     "output_type": "stream",
     "text": [
      "Our model is learning best at accuracy of  0.2560994227064267  at random state  116\n"
     ]
    }
   ],
   "source": [
    "from sklearn.linear_model import LinearRegression\n",
    "from sklearn.model_selection import train_test_split\n",
    "from sklearn.preprocessing import StandardScaler\n",
    "s=StandardScaler()\n",
    "\n",
    "maxAccu=0\n",
    "maxRS=0\n",
    "\n",
    "x1=x\n",
    "y1=y\n",
    "\n",
    "for i in range(1,500):\n",
    "    x_train1,x_test1,y_train1,y_test1=train_test_split(x1,y1,test_size=.33,random_state=i)\n",
    "    x_train1=s.fit_transform(x_train1)\n",
    "    x_test1=s.transform(x_test1)\n",
    "    LR = LinearRegression()\n",
    "    LR.fit(x_train1,y_train1)\n",
    "    predrf=LR.predict(x_test1)\n",
    "    acc=LR.score(x_train1,y_train1)\n",
    "    if acc>maxAccu:\n",
    "        maxAccu=acc\n",
    "        maxRs=i\n",
    "print(\"Our model is learning best at accuracy of \",maxAccu,\" at random state \",maxRs)"
   ]
  },
  {
   "cell_type": "markdown",
   "metadata": {},
   "source": [
    "#### split the dataset into training and testing "
   ]
  },
  {
   "cell_type": "code",
   "execution_count": 156,
   "metadata": {},
   "outputs": [],
   "source": [
    "x_train,x_test,y_train,y_test=train_test_split(x,y,test_size=.33,random_state=116)"
   ]
  },
  {
   "cell_type": "markdown",
   "metadata": {},
   "source": [
    "#### Standardizing"
   ]
  },
  {
   "cell_type": "code",
   "execution_count": 158,
   "metadata": {},
   "outputs": [],
   "source": [
    "s=StandardScaler()\n",
    "\n",
    "x_train=s.fit_transform(x_train)\n",
    "\n",
    "x_test=s.transform(x_test)"
   ]
  },
  {
   "cell_type": "markdown",
   "metadata": {},
   "source": [
    "### Modelling"
   ]
  },
  {
   "cell_type": "markdown",
   "metadata": {},
   "source": [
    "### Linear Regression"
   ]
  },
  {
   "cell_type": "code",
   "execution_count": 160,
   "metadata": {},
   "outputs": [
    {
     "data": {
      "text/plain": [
       "0.2560994227064267"
      ]
     },
     "execution_count": 160,
     "metadata": {},
     "output_type": "execute_result"
    }
   ],
   "source": [
    "lr=LinearRegression()\n",
    "lr.fit(x_train,y_train)\n",
    "\n",
    "lr.score(x_train,y_train)"
   ]
  },
  {
   "cell_type": "markdown",
   "metadata": {},
   "source": [
    "##### Observation: Our model is learning with 25 % accuracy."
   ]
  },
  {
   "cell_type": "code",
   "execution_count": 161,
   "metadata": {},
   "outputs": [
    {
     "data": {
      "text/plain": [
       "1.0806483687778672"
      ]
     },
     "execution_count": 161,
     "metadata": {},
     "output_type": "execute_result"
    }
   ],
   "source": [
    "lr.intercept_"
   ]
  },
  {
   "cell_type": "code",
   "execution_count": 162,
   "metadata": {},
   "outputs": [
    {
     "data": {
      "text/plain": [
       "array([-1.52624581e+12,  7.62437600e+11,  5.87300162e+11,  6.11703689e+10,\n",
       "        4.75592188e+12, -3.85100556e+12, -7.79474497e+11, -4.73885348e+10,\n",
       "        3.15399170e-02, -1.28173828e-02])"
      ]
     },
     "execution_count": 162,
     "metadata": {},
     "output_type": "execute_result"
    }
   ],
   "source": [
    "lr.coef_"
   ]
  },
  {
   "cell_type": "code",
   "execution_count": 163,
   "metadata": {},
   "outputs": [],
   "source": [
    "pred_lr=lr.predict(x_test)"
   ]
  },
  {
   "cell_type": "code",
   "execution_count": 164,
   "metadata": {},
   "outputs": [
    {
     "name": "stdout",
     "output_type": "stream",
     "text": [
      "Errors:\n",
      "\n",
      "Mean Squared Error: \t 0.029873664566041493\n",
      "\n",
      "Mean Absolute Error: \t 0.131255027049549\n",
      "\n",
      "Root Mean Squared Error: \t 0.17283999700891425\n"
     ]
    }
   ],
   "source": [
    "print(\"Errors:\\n\")\n",
    "print(\"Mean Squared Error: \\t\",mean_squared_error(y_test,pred_lr))\n",
    "print(\"\\nMean Absolute Error: \\t\",mean_absolute_error(y_test,pred_lr))\n",
    "print(\"\\nRoot Mean Squared Error: \\t\",np.sqrt(mean_squared_error(y_test,pred_lr)))"
   ]
  },
  {
   "cell_type": "code",
   "execution_count": 165,
   "metadata": {},
   "outputs": [
    {
     "name": "stdout",
     "output_type": "stream",
     "text": [
      "The R2 score is  0.11117421713020692\n"
     ]
    }
   ],
   "source": [
    "print(\"The R2 score is \",r2_score(y_test,pred_lr))"
   ]
  },
  {
   "cell_type": "markdown",
   "metadata": {},
   "source": [
    "##### cross validation score "
   ]
  },
  {
   "cell_type": "code",
   "execution_count": 166,
   "metadata": {},
   "outputs": [
    {
     "name": "stdout",
     "output_type": "stream",
     "text": [
      "[0.21641217 0.24678257 0.31610541 0.20303564 0.1872362  0.16856841\n",
      " 0.29844624 0.216489   0.09716933 0.37828044]\n",
      "\n",
      " The absolute mean score we got from 10-Fold CV: 0.23285254256428725\n"
     ]
    }
   ],
   "source": [
    "# cross validation\n",
    "from sklearn.model_selection import cross_val_score\n",
    "\n",
    "score_cv = cross_val_score(lr, x_train, y_train, cv=10)\n",
    "print(score_cv)\n",
    "\n",
    "print('\\n The absolute mean score we got from 10-Fold CV:',np.mean(score_cv))"
   ]
  },
  {
   "cell_type": "markdown",
   "metadata": {},
   "source": [
    "### Decision Tree Regressor"
   ]
  },
  {
   "cell_type": "code",
   "execution_count": 169,
   "metadata": {},
   "outputs": [
    {
     "name": "stdout",
     "output_type": "stream",
     "text": [
      "\n",
      " For Decision Tree Regressor,the absolute mean score we got from 10-Fold CV: 0.6279156132169427\n"
     ]
    }
   ],
   "source": [
    "dtr=DecisionTreeRegressor()\n",
    "\n",
    "dtr_cv=cross_val_score(dtr,x_train,y_train,cv=10)\n",
    "\n",
    "print('\\n For Decision Tree Regressor,the absolute mean score we got from 10-Fold CV:',np.mean(dtr_cv))"
   ]
  },
  {
   "cell_type": "markdown",
   "metadata": {},
   "source": [
    "### Random Forest Regressor"
   ]
  },
  {
   "cell_type": "code",
   "execution_count": 176,
   "metadata": {},
   "outputs": [
    {
     "data": {
      "text/plain": [
       "RF CV Score     0.797141\n",
       "n estimator    49.000000\n",
       "dtype: float64"
      ]
     },
     "execution_count": 176,
     "metadata": {},
     "output_type": "execute_result"
    }
   ],
   "source": [
    "rfr_cross_val=[]\n",
    "rfr_n_estimators=[]\n",
    "\n",
    "for i in range(10,50):\n",
    "    rfr=RandomForestRegressor(n_estimators=i)\n",
    "    rfr_n_estimators.append(i)\n",
    "    rfr_cross_val.append(cross_val_score(rfr,x_train,y_train,cv=10).mean())\n",
    "    \n",
    "rf_cv=pd.DataFrame({})\n",
    "rf_cv[\"RF CV Score\"]=rfr_cross_val\n",
    "rf_cv['n estimator']=rfr_n_estimators\n",
    "\n",
    "rf_cv.max()"
   ]
  },
  {
   "cell_type": "code",
   "execution_count": 172,
   "metadata": {},
   "outputs": [],
   "source": [
    "results1=[]\n",
    "results1.append(score_cv)\n",
    "results1.append(dtr_cv)\n",
    "results1.append(rf_cv['RF CV Score'])\n",
    "\n",
    "names1=[]\n",
    "names1.append(\"Linear Regression\")\n",
    "names1.append(\"Decision Tree Regressor\")\n",
    "names1.append(\"Random Forest Regressor\")"
   ]
  },
  {
   "cell_type": "code",
   "execution_count": 173,
   "metadata": {},
   "outputs": [
    {
     "data": {
      "image/png": "[encoded data removed]",
      "text/plain": [
       "<Figure size 1008x576 with 1 Axes>"
      ]
     },
     "metadata": {
      "needs_background": "light"
     },
     "output_type": "display_data"
    }
   ],
   "source": [
    "fig = plt.figure(figsize=(14,8))\n",
    "ax = fig.add_subplot(111)\n",
    "fig.suptitle('Algorithm Comparison')\n",
    "plt.boxplot(results1)\n",
    "ax.set_xticklabels(names1)\n",
    "plt.show()"
   ]
  },
  {
   "cell_type": "markdown",
   "metadata": {},
   "source": [
    "### So, the best model would be Random Forest Regressor"
   ]
  },
  {
   "cell_type": "markdown",
   "metadata": {},
   "source": [
    "### Hyper parameter Tuning"
   ]
  },
  {
   "cell_type": "markdown",
   "metadata": {},
   "source": [
    "We have already looped random forest regressor for best n_estimator = 49."
   ]
  },
  {
   "cell_type": "markdown",
   "metadata": {},
   "source": [
    "### Saving the model"
   ]
  },
  {
   "cell_type": "code",
   "execution_count": 177,
   "metadata": {},
   "outputs": [],
   "source": [
    "fin_mod=RandomForestRegressor(n_estimators=49)"
   ]
  },
  {
   "cell_type": "code",
   "execution_count": 178,
   "metadata": {},
   "outputs": [
    {
     "data": {
      "text/plain": [
       "['avacado_price.pkl']"
      ]
     },
     "execution_count": 178,
     "metadata": {},
     "output_type": "execute_result"
    }
   ],
   "source": [
    "import joblib\n",
    "joblib.dump(fin_mod,'avacado_price.pkl')"
   ]
  },
  {
   "cell_type": "code",
   "execution_count": null,
   "metadata": {},
   "outputs": [],
   "source": []
  }
 ],
 "metadata": {
  "kernelspec": {
   "display_name": "Python 3",
   "language": "python",
   "name": "python3"
  },
  "language_info": {
   "codemirror_mode": {
    "name": "ipython",
    "version": 3
   },
   "file_extension": ".py",
   "mimetype": "text/x-python",
   "name": "python",
   "nbconvert_exporter": "python",
   "pygments_lexer": "ipython3",
   "version": "3.8.5"
  }
 },
 "nbformat": 4,
 "nbformat_minor": 4
}
